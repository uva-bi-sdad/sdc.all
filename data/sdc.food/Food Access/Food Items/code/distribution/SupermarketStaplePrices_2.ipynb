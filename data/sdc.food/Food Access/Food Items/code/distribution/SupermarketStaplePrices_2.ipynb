{
 "cells": [
  {
   "cell_type": "markdown",
   "metadata": {},
   "source": [
    "# Supermarket Staple Prices"
   ]
  },
  {
   "cell_type": "markdown",
   "metadata": {},
   "source": [
    "## Imports, Zipcodes, and Staples List"
   ]
  },
  {
   "cell_type": "markdown",
   "metadata": {},
   "source": [
    "### Need to install selenium and webdriver_manager"
   ]
  },
  {
   "cell_type": "markdown",
   "metadata": {},
   "source": [
    "#### Currently have:\n",
    "\n",
    "1. Giant\n",
    "2. Harris Teeter\n",
    "3. Safeway\n",
    "4. Aldi\n",
    "5. Target\n",
    "6. Whole Foods Market\n",
    "7. Lidl\n",
    "8. Food Lion\n",
    "9. Amazon\n",
    "\n",
    "#### No online presence?:\n",
    "\n",
    "1. Publix\n",
    "2. Trader Joe's\n",
    "3. Costco\n"
   ]
  },
  {
   "cell_type": "code",
   "execution_count": 37,
   "metadata": {
    "code_folding": [
     0
    ]
   },
   "outputs": [],
   "source": [
    "# imports\n",
    "# generic imports\n",
    "import numpy as np\n",
    "import re\n",
    "import time\n",
    "import pandas as pd\n",
    "import matplotlib.pyplot as plt\n",
    "\n",
    "# selenium imports\n",
    "import selenium\n",
    "from selenium import webdriver\n",
    "from selenium.webdriver.common.keys import Keys\n",
    "from webdriver_manager.chrome import ChromeDriverManager\n",
    "from selenium.webdriver.common.by import By\n",
    "from selenium.webdriver.support.ui import WebDriverWait\n",
    "from selenium.webdriver.support import expected_conditions as EC\n",
    "from selenium.common.exceptions import ElementClickInterceptedException\n",
    "from selenium.common.exceptions import NoSuchElementException"
   ]
  },
  {
   "cell_type": "code",
   "execution_count": 38,
   "metadata": {
    "code_folding": [
     0
    ]
   },
   "outputs": [],
   "source": [
    "# importing helper functions from .py file!!!\n",
    "import food_helper"
   ]
  },
  {
   "cell_type": "code",
   "execution_count": 39,
   "metadata": {
    "code_folding": [
     0
    ]
   },
   "outputs": [],
   "source": [
    "# Contains Arlington Zipcodes\n",
    "zipcodes = np.array([20330, 22201, 22202, 22203, 22204, 22205, 22206, 22207, 22209, 22210, 22211, 22213, 22214,\n",
    "                     22215, 22216, 22217, 22219, 22225, 22226, 22227, 22230, 22240, 22241, 22242, 22243, 22244,\n",
    "                     22245, 22246, 22350])"
   ]
  },
  {
   "cell_type": "code",
   "execution_count": 40,
   "metadata": {
    "code_folding": [
     0
    ]
   },
   "outputs": [
    {
     "data": {
      "text/plain": [
       "<module 'food_helper' from '/Users/zacharyalerte/Desktop/food_helper.py'>"
      ]
     },
     "execution_count": 40,
     "metadata": {},
     "output_type": "execute_result"
    }
   ],
   "source": [
    "# reload food_helper file\n",
    "import importlib\n",
    "importlib.reload(food_helper)"
   ]
  },
  {
   "cell_type": "markdown",
   "metadata": {},
   "source": [
    "### NOT SURE WHAT IS GOING ON WITH GIANT + HARRIS TEETER??????"
   ]
  },
  {
   "cell_type": "markdown",
   "metadata": {},
   "source": [
    "## GIANT"
   ]
  },
  {
   "cell_type": "code",
   "execution_count": 26,
   "metadata": {
    "code_folding": [
     0
    ]
   },
   "outputs": [],
   "source": [
    "# Giant Baskets\n",
    "giant_foods = [\"Giant Whole Vitamin D Milk\", \"Giant White Eggs Grade A\", \"Giant Bagels Plain Pre-Sliced 6 ct\", \"Giant White Bread\",\n",
    "               \"Giant Pasta Penne Rigate\", \"Gala Apple\", \"Ground Turkey 85%\", \"Giant Deli Ham Honey Ham Thin Sliced\",\n",
    "               \"Giant Sweet Cream Butter Sticks 4\", \"Giant Potatoes Russet\", \"Navel Orange\", \"Giant Tomatoes\",\n",
    "               \"Ground Beef\", \"Giant 4 Cheese Mexican Blend\", \"Giant Yogurt\", \"Giant Cereal Shredded Wheat\"]\n",
    "\n",
    "\n",
    "# Napolitos?? - finish this!\n",
    "giant_hispanic_foods = [\"Avocado\", \"Giant Beets Whole\", \"Black Beans\", \"Giant 4 Cheese Mexican Blend\", \"Giant Corn Tortillas\",\n",
    "                        \"Green Chiles\", \"Jalapeno Peppers\", \"Garbanzo Beans\", \"Masa\",\n",
    "                        \"Giant Mixed Fruit Large\", \"Bell Peppers Green\", \"Pinto Beans\", \"Giant White Rice Long Grain\",\n",
    "                        \"Pace Chunky Salsa\", \"Yellow Squash\", \"Tomatillos\", \"Tomatoes On The Vine\"]\n",
    "\n",
    "giant_east_af_foods = [\"Curry Powder\", \"Dried Beans\", \"Premium Dates\",\n",
    "                       \"Garbanzo Beans\", \"Giant Spaghetti Pasta\",\n",
    "                       \"Giant Tomato Sauce\", \"Tuna\"]\n",
    "# had to drop fava beana + health bearley...\n",
    "\n",
    "giant_east_eu_foods = [\"Ground Beef\", \"Giant Beets\", \"Red Cabbage\",\n",
    "                       \"Giant Lamb\", \"Giant Sliced Mushrooms\", \"Giant Pork\",\n",
    "                       \"Giant Potatoes Russet\", \"Giant Wheat Flour\"]\n",
    "# had to drop health barley\n",
    "\n",
    "# giant_indig_foods = []\n",
    "\n",
    "giant_se_asia_foods = [\"Baby Corn\", \"Coconut Milk\", \"Edamame\", \n",
    "                       \"Eggplant\", \"Fish Sauce\", \"Vermicelli\",\n",
    "                       \"Oyster Sauce\", \"Rice Noodles\",\n",
    "                       \"Jasmine Rice\", \"Yellow Squash\", \"Tofu\"]\n",
    "# dropped curry paste, tapioca flour, bamboo shoots\n",
    "# maybe hae this check for cheap fish sauce...\n",
    "\n",
    "giant_west_af_foods = [\"Black Eye Peas\", \"Pinto Beans\", \"Cassava\", \"Giant Chicken Whole\",\n",
    "                       \"Corn Flour\", \"Maggi\", \"Plantain Ripe\", \"Giant Potatoes Russet\",\n",
    "                       \"Giant Tomato Paste\", \"Potatoes Yams\"]"
   ]
  },
  {
   "cell_type": "code",
   "execution_count": null,
   "metadata": {
    "code_folding": []
   },
   "outputs": [],
   "source": [
    "# add condition to skip or fill in NA for cultural items not found in some locations!"
   ]
  },
  {
   "cell_type": "code",
   "execution_count": 30,
   "metadata": {
    "code_folding": [],
    "scrolled": false
   },
   "outputs": [
    {
     "name": "stderr",
     "output_type": "stream",
     "text": [
      "\n",
      "\n",
      "====== WebDriver manager ======\n",
      "Current google-chrome version is 96.0.4664\n",
      "Get LATEST driver version for 96.0.4664\n",
      "Driver [/Users/zacharyalerte/.wdm/drivers/chromedriver/mac64/96.0.4664.45/chromedriver] found in cache\n"
     ]
    },
    {
     "ename": "KeyboardInterrupt",
     "evalue": "",
     "output_type": "error",
     "traceback": [
      "\u001b[0;31m---------------------------------------------------------------------------\u001b[0m",
      "\u001b[0;31mKeyboardInterrupt\u001b[0m                         Traceback (most recent call last)",
      "\u001b[0;32m<ipython-input-30-4ee49559db3f>\u001b[0m in \u001b[0;36m<module>\u001b[0;34m\u001b[0m\n\u001b[1;32m      1\u001b[0m \u001b[0;31m# Universal Basket for Giant\u001b[0m\u001b[0;34m\u001b[0m\u001b[0;34m\u001b[0m\u001b[0;34m\u001b[0m\u001b[0m\n\u001b[0;32m----> 2\u001b[0;31m \u001b[0mgiant_df\u001b[0m\u001b[0;34m,\u001b[0m \u001b[0mgiant_zips\u001b[0m\u001b[0;34m,\u001b[0m \u001b[0mgiant_locs\u001b[0m \u001b[0;34m=\u001b[0m \u001b[0mfood_helper\u001b[0m\u001b[0;34m.\u001b[0m\u001b[0mgiant\u001b[0m\u001b[0;34m(\u001b[0m\u001b[0mgiant_foods\u001b[0m\u001b[0;34m,\u001b[0m \u001b[0mzipcodes\u001b[0m\u001b[0;34m)\u001b[0m\u001b[0;34m\u001b[0m\u001b[0;34m\u001b[0m\u001b[0m\n\u001b[0m\u001b[1;32m      3\u001b[0m \u001b[0mgiant_df\u001b[0m\u001b[0;34m.\u001b[0m\u001b[0mhead\u001b[0m\u001b[0;34m(\u001b[0m\u001b[0;34m)\u001b[0m\u001b[0;34m\u001b[0m\u001b[0;34m\u001b[0m\u001b[0m\n",
      "\u001b[0;32m~/Desktop/Spring 2021/UVA/food_helper.py\u001b[0m in \u001b[0;36mgiant\u001b[0;34m(foods, zipcodes, standard, has_zipcodes, locs)\u001b[0m\n\u001b[1;32m    308\u001b[0m     \u001b[0;31m# get shortened list of zipcodes if not provided\u001b[0m\u001b[0;34m\u001b[0m\u001b[0;34m\u001b[0m\u001b[0;34m\u001b[0m\u001b[0m\n\u001b[1;32m    309\u001b[0m     \u001b[0;32melse\u001b[0m\u001b[0;34m:\u001b[0m\u001b[0;34m\u001b[0m\u001b[0;34m\u001b[0m\u001b[0m\n\u001b[0;32m--> 310\u001b[0;31m         \u001b[0mshortened_zipcodes\u001b[0m\u001b[0;34m,\u001b[0m \u001b[0mshortened_locations\u001b[0m \u001b[0;34m=\u001b[0m \u001b[0mgiant_locations\u001b[0m\u001b[0;34m(\u001b[0m\u001b[0mzipcodes\u001b[0m\u001b[0;34m)\u001b[0m\u001b[0;34m\u001b[0m\u001b[0;34m\u001b[0m\u001b[0m\n\u001b[0m\u001b[1;32m    311\u001b[0m \u001b[0;34m\u001b[0m\u001b[0m\n\u001b[1;32m    312\u001b[0m     \u001b[0mitems_by_zip\u001b[0m \u001b[0;34m=\u001b[0m \u001b[0mgiant_driver\u001b[0m\u001b[0;34m(\u001b[0m\u001b[0mshortened_zipcodes\u001b[0m\u001b[0;34m,\u001b[0m \u001b[0mfoods\u001b[0m\u001b[0;34m,\u001b[0m \u001b[0mstandard\u001b[0m \u001b[0;34m=\u001b[0m \u001b[0mstandard\u001b[0m\u001b[0;34m)\u001b[0m\u001b[0;34m\u001b[0m\u001b[0;34m\u001b[0m\u001b[0m\n",
      "\u001b[0;32m~/Desktop/Spring 2021/UVA/food_helper.py\u001b[0m in \u001b[0;36mgiant_locations\u001b[0;34m(zipcodes, bad_zip, sleep_time, driver_wait)\u001b[0m\n\u001b[1;32m     69\u001b[0m \u001b[0;34m\u001b[0m\u001b[0m\n\u001b[1;32m     70\u001b[0m     \u001b[0;31m# close initial popup w X button\u001b[0m\u001b[0;34m\u001b[0m\u001b[0;34m\u001b[0m\u001b[0;34m\u001b[0m\u001b[0m\n\u001b[0;32m---> 71\u001b[0;31m     \u001b[0mtime\u001b[0m\u001b[0;34m.\u001b[0m\u001b[0msleep\u001b[0m\u001b[0;34m(\u001b[0m\u001b[0msleep_time\u001b[0m\u001b[0;34m)\u001b[0m\u001b[0;34m\u001b[0m\u001b[0;34m\u001b[0m\u001b[0m\n\u001b[0m\u001b[1;32m     72\u001b[0m     \u001b[0;32mif\u001b[0m \u001b[0mcheck_exists_by_class_name\u001b[0m\u001b[0;34m(\u001b[0m\u001b[0mdriver\u001b[0m\u001b[0;34m,\u001b[0m \u001b[0;34m\"modal_close\"\u001b[0m\u001b[0;34m)\u001b[0m\u001b[0;34m:\u001b[0m\u001b[0;34m\u001b[0m\u001b[0;34m\u001b[0m\u001b[0m\n\u001b[1;32m     73\u001b[0m         \u001b[0mx_button\u001b[0m \u001b[0;34m=\u001b[0m \u001b[0mdriver\u001b[0m\u001b[0;34m.\u001b[0m\u001b[0mfind_element_by_class_name\u001b[0m\u001b[0;34m(\u001b[0m\u001b[0;34m\"modal_close\"\u001b[0m\u001b[0;34m)\u001b[0m\u001b[0;34m\u001b[0m\u001b[0;34m\u001b[0m\u001b[0m\n",
      "\u001b[0;31mKeyboardInterrupt\u001b[0m: "
     ]
    }
   ],
   "source": [
    "# Universal Basket for Giant\n",
    "giant_df, giant_zips, giant_locs = food_helper.giant(giant_foods, zipcodes)\n",
    "giant_df.head()"
   ]
  },
  {
   "cell_type": "code",
   "execution_count": 27,
   "metadata": {
    "code_folding": []
   },
   "outputs": [
    {
     "ename": "NameError",
     "evalue": "name 'giant_zips' is not defined",
     "output_type": "error",
     "traceback": [
      "\u001b[0;31m---------------------------------------------------------------------------\u001b[0m",
      "\u001b[0;31mNameError\u001b[0m                                 Traceback (most recent call last)",
      "\u001b[0;32m<ipython-input-27-6fb808ec554b>\u001b[0m in \u001b[0;36m<module>\u001b[0;34m\u001b[0m\n\u001b[1;32m      1\u001b[0m \u001b[0;31m# Latinx Basket for Giant\u001b[0m\u001b[0;34m\u001b[0m\u001b[0;34m\u001b[0m\u001b[0;34m\u001b[0m\u001b[0m\n\u001b[0;32m----> 2\u001b[0;31m \u001b[0mgiant_hispanic_df\u001b[0m \u001b[0;34m=\u001b[0m \u001b[0mfood_helper\u001b[0m\u001b[0;34m.\u001b[0m\u001b[0mgiant\u001b[0m\u001b[0;34m(\u001b[0m\u001b[0mgiant_hispanic_foods\u001b[0m\u001b[0;34m,\u001b[0m \u001b[0mgiant_zips\u001b[0m\u001b[0;34m,\u001b[0m \u001b[0mstandard\u001b[0m \u001b[0;34m=\u001b[0m \u001b[0;32mFalse\u001b[0m\u001b[0;34m,\u001b[0m \u001b[0mhas_zipcodes\u001b[0m \u001b[0;34m=\u001b[0m \u001b[0;32mTrue\u001b[0m\u001b[0;34m,\u001b[0m \u001b[0mlocs\u001b[0m \u001b[0;34m=\u001b[0m \u001b[0mgiant_locs\u001b[0m\u001b[0;34m)\u001b[0m\u001b[0;34m\u001b[0m\u001b[0;34m\u001b[0m\u001b[0m\n\u001b[0m\u001b[1;32m      3\u001b[0m \u001b[0mgiant_hispanic_df\u001b[0m\u001b[0;34m.\u001b[0m\u001b[0mhead\u001b[0m\u001b[0;34m(\u001b[0m\u001b[0;34m)\u001b[0m\u001b[0;34m\u001b[0m\u001b[0;34m\u001b[0m\u001b[0m\n",
      "\u001b[0;31mNameError\u001b[0m: name 'giant_zips' is not defined"
     ]
    }
   ],
   "source": [
    "# Latinx Basket for Giant\n",
    "giant_hispanic_df = food_helper.giant(giant_hispanic_foods, giant_zips, standard = False, has_zipcodes = True, locs = giant_locs)\n",
    "giant_hispanic_df.head()"
   ]
  },
  {
   "cell_type": "code",
   "execution_count": null,
   "metadata": {
    "code_folding": [
     0
    ]
   },
   "outputs": [],
   "source": [
    "# East African Basket for Giant\n",
    "giant_east_af_df = food_helper.giant(giant_east_af_foods, giant_zips, standard = False, has_zipcodes = True, locs = giant_locs)\n",
    "giant_east_af_df.head()"
   ]
  },
  {
   "cell_type": "code",
   "execution_count": null,
   "metadata": {
    "code_folding": [
     0
    ]
   },
   "outputs": [],
   "source": [
    "# Eastern European Basket for Giant\n",
    "giant_east_eu_df = food_helper.giant(giant_east_eu_foods, giant_zips, standard = False, has_zipcodes = True, locs = giant_locs)\n",
    "giant_east_eu_df.head()"
   ]
  },
  {
   "cell_type": "code",
   "execution_count": null,
   "metadata": {
    "code_folding": [
     0
    ]
   },
   "outputs": [],
   "source": [
    "# Southeast Asian Basket for Giant\n",
    "giant_se_asia_df = food_helper.giant(giant_se_asia_foods, giant_zips, standard = False, has_zipcodes = True, locs = giant_locs)\n",
    "giant_se_asia_df.head()"
   ]
  },
  {
   "cell_type": "code",
   "execution_count": null,
   "metadata": {
    "code_folding": [
     0
    ]
   },
   "outputs": [],
   "source": [
    "# West African Basket for Giant\n",
    "giant_west_af_df = food_helper.giant(giant_west_af_foods, giant_zips, standard = False, has_zipcodes = True, locs = giant_locs)\n",
    "giant_west_af_df.head()"
   ]
  },
  {
   "cell_type": "code",
   "execution_count": null,
   "metadata": {
    "code_folding": [
     0
    ]
   },
   "outputs": [],
   "source": [
    "# Giant to csv\n",
    "# giant_east_af_df.to_csv('Giant_East_Af_Food.csv')\n",
    "# giant_east_eu_df.to_csv('Giant_East_Eu_Food.csv')\n",
    "# giant_se_asia_df.to_csv('Giant_SE_Asia_Food.csv')\n",
    "# giant_west_af_df.to_csv('Giant_West_Af_Food.csv')"
   ]
  },
  {
   "cell_type": "markdown",
   "metadata": {},
   "source": [
    "## Harris Teeter"
   ]
  },
  {
   "cell_type": "code",
   "execution_count": 98,
   "metadata": {
    "code_folding": [
     0
    ]
   },
   "outputs": [],
   "source": [
    "# Harris Teeter Basket\n",
    "ht_foods = [\"Harris Teeter 3.25% Milk Fat Whole Milk\", \"Harris Teeter Grade A Large White Eggs\", \"Thomas Plain Bagels\", \"Harris Teeter Bread Old Fashioned\",\n",
    "            \"Harris Teeter Penne\", \"Fresh Gala Apple\", \"Ground Turkey 94%\", \"Oscar Mayer Ham\",\n",
    "            \"Harris Teeter Butter Spread\", \"Russet Potatoes\", \"Navel Oranges\", \"Harris Teeter Tomato Sauce\",\n",
    "            \"Harris Teeter Ground Beef Chuck\", \"Harris Teeter Shredded Cheese\", \"Harris Teeter Nonfat Plain Yogurt\", \"Harris Teeter Cereal\"]\n",
    "\n",
    "ht_hispanic_foods = [\"Hass Avocado\", \"Fresh Beets\", \"Harris Teeter Black Beans\", \"Shredded Mexican Cheese Blend\", \"Harris Teeter Corn Tortillas\",\n",
    "                     \"Harris Teeter Green Chiles\", \"Jalapeno Peppers\", \"Harris Teeter Garbanzo Beans\",\n",
    "                     \"Mixed Fruit\", \"Bell Peppers Green\", \"Harris Teeter Pinto Beans\", \"Harris Teeter Long Grain White Rice\",\n",
    "                     \"Harris Teeter Salsa\", \"Zucchini Squash\", \"Tomatillos\", \"Roma Tomato\"]\n",
    "\n",
    "ht_east_af_foods = [\"Pearled Barley\", \"Curry Powder\", \"Dried Beans\", \"Sunsweet Dates\",\n",
    "                    \"Harris Teeter Garbanzo Beans\", \"Lentil Beans\", \"Harris Teeter Spaghetti\",\n",
    "                    \"Harris Teeter Tomato Sauce\", \"Tuna\"]\n",
    "\n",
    "ht_east_eu_foods = [\"Pearled Barley\", \"Harris Teeter Ground Beef Chuck\", \"Fresh Beets\",\n",
    "                    \"Buckwheat\", \"Fresh Cabbage Red\", \"Lamb\",\n",
    "                    \"Harris Teeter Whole White Mushrooms\", \"Ground Pork Lean\", \"Russet Potatoes\",\n",
    "                    \"Veal\", \"Wheat Flour\"]\n",
    "\n",
    "# ht_indig_foods = []\n",
    "\n",
    "ht_se_asia_foods = [\"HT Bamboo Shoots\", \"Baby Corn\", \"HT Coconut Milk\", \"Thai Curry Paste\",\n",
    "                    \"Edamame\", \"Eggplant\", \"HT Fish Sauce\", \"Vermicelli\",\n",
    "                    \"Oyster Sauce\", \"Rice Flour\", \"Rice Noodles\", \"Jasmine Rice Mahatma Thai\",\n",
    "                    \"Fresh Squash\", \"Tapioca Flour\", \"Tofu\"]\n",
    "\n",
    "ht_west_af_foods = [\"Harris Teeter Dry Blackeye Peas\", \"Harris Teeter Dry Pinto Beans\", \"Chicken Whole\",\n",
    "                    \"Fresh Plantain\", \"Russet Potatoes\", \"Harris Teeter Tomato Paste\"]"
   ]
  },
  {
   "cell_type": "code",
   "execution_count": 99,
   "metadata": {
    "code_folding": [
     0
    ]
   },
   "outputs": [
    {
     "name": "stderr",
     "output_type": "stream",
     "text": [
      "\n",
      "\n",
      "====== WebDriver manager ======\n",
      "Current google-chrome version is 96.0.4664\n",
      "Get LATEST driver version for 96.0.4664\n",
      "Driver [/Users/zacharyalerte/.wdm/drivers/chromedriver/mac64/96.0.4664.45/chromedriver] found in cache\n",
      "\n",
      "\n",
      "====== WebDriver manager ======\n",
      "Current google-chrome version is 96.0.4664\n",
      "Get LATEST driver version for 96.0.4664\n",
      "Driver [/Users/zacharyalerte/.wdm/drivers/chromedriver/mac64/96.0.4664.45/chromedriver] found in cache\n",
      "\n",
      "\n",
      "====== WebDriver manager ======\n",
      "Current google-chrome version is 96.0.4664\n",
      "Get LATEST driver version for 96.0.4664\n",
      "Driver [/Users/zacharyalerte/.wdm/drivers/chromedriver/mac64/96.0.4664.45/chromedriver] found in cache\n"
     ]
    },
    {
     "ename": "ElementClickInterceptedException",
     "evalue": "Message: element click intercepted: Element <button aria-label=\"..., Pickup Address\" class=\"btn\" type=\"submit\">Submit</button> is not clickable at point (394, 620). Other element would receive the click: <div _ngcontent-c3=\"\" class=\"cookie-bottom-main\">...</div>\n  (Session info: chrome=96.0.4664.55)\n",
     "output_type": "error",
     "traceback": [
      "\u001b[0;31m---------------------------------------------------------------------------\u001b[0m",
      "\u001b[0;31mElementClickInterceptedException\u001b[0m          Traceback (most recent call last)",
      "\u001b[0;32m<ipython-input-99-d790eefca0d1>\u001b[0m in \u001b[0;36m<module>\u001b[0;34m\u001b[0m\n\u001b[1;32m      1\u001b[0m \u001b[0;31m# Universal Basket for Harris Teeter\u001b[0m\u001b[0;34m\u001b[0m\u001b[0;34m\u001b[0m\u001b[0;34m\u001b[0m\u001b[0m\n\u001b[0;32m----> 2\u001b[0;31m \u001b[0mht_df\u001b[0m\u001b[0;34m,\u001b[0m \u001b[0mht_zips\u001b[0m\u001b[0;34m,\u001b[0m \u001b[0mht_locs\u001b[0m \u001b[0;34m=\u001b[0m \u001b[0mfood_helper\u001b[0m\u001b[0;34m.\u001b[0m\u001b[0mht\u001b[0m\u001b[0;34m(\u001b[0m\u001b[0mht_foods\u001b[0m\u001b[0;34m,\u001b[0m \u001b[0mzipcodes\u001b[0m\u001b[0;34m)\u001b[0m\u001b[0;34m\u001b[0m\u001b[0;34m\u001b[0m\u001b[0m\n\u001b[0m\u001b[1;32m      3\u001b[0m \u001b[0mht_df\u001b[0m\u001b[0;34m.\u001b[0m\u001b[0mhead\u001b[0m\u001b[0;34m(\u001b[0m\u001b[0;34m)\u001b[0m\u001b[0;34m\u001b[0m\u001b[0;34m\u001b[0m\u001b[0m\n",
      "\u001b[0;32m~/Desktop/Spring 2021/UVA/food_helper.py\u001b[0m in \u001b[0;36mht\u001b[0;34m(foods, zipcodes, standard, has_zipcodes, locs)\u001b[0m\n\u001b[1;32m    535\u001b[0m         \u001b[0mshortened_zipcodes\u001b[0m\u001b[0;34m,\u001b[0m \u001b[0mshortened_locations\u001b[0m \u001b[0;34m=\u001b[0m \u001b[0mht_locations\u001b[0m\u001b[0;34m(\u001b[0m\u001b[0mzipcodes\u001b[0m\u001b[0;34m)\u001b[0m\u001b[0;34m\u001b[0m\u001b[0;34m\u001b[0m\u001b[0m\n\u001b[1;32m    536\u001b[0m \u001b[0;34m\u001b[0m\u001b[0m\n\u001b[0;32m--> 537\u001b[0;31m     \u001b[0mitems_by_zip\u001b[0m \u001b[0;34m=\u001b[0m \u001b[0mht_driver\u001b[0m\u001b[0;34m(\u001b[0m\u001b[0mshortened_zipcodes\u001b[0m\u001b[0;34m,\u001b[0m \u001b[0mht_foods\u001b[0m \u001b[0;34m=\u001b[0m \u001b[0mfoods\u001b[0m\u001b[0;34m,\u001b[0m \u001b[0mstandard\u001b[0m \u001b[0;34m=\u001b[0m \u001b[0mstandard\u001b[0m\u001b[0;34m)\u001b[0m\u001b[0;34m\u001b[0m\u001b[0;34m\u001b[0m\u001b[0m\n\u001b[0m\u001b[1;32m    538\u001b[0m     \u001b[0mprices_ht\u001b[0m\u001b[0;34m,\u001b[0m \u001b[0mcleaned_items_ht\u001b[0m\u001b[0;34m,\u001b[0m \u001b[0mother_info_ht\u001b[0m \u001b[0;34m=\u001b[0m \u001b[0mht_price_item_other\u001b[0m\u001b[0;34m(\u001b[0m\u001b[0mitems_by_zip\u001b[0m\u001b[0;34m)\u001b[0m\u001b[0;34m\u001b[0m\u001b[0;34m\u001b[0m\u001b[0m\n\u001b[1;32m    539\u001b[0m     \u001b[0mdf\u001b[0m \u001b[0;34m=\u001b[0m \u001b[0mmake_df\u001b[0m\u001b[0;34m(\u001b[0m\u001b[0mprices_ht\u001b[0m\u001b[0;34m,\u001b[0m \u001b[0mcleaned_items_ht\u001b[0m\u001b[0;34m,\u001b[0m \u001b[0mother_info_ht\u001b[0m\u001b[0;34m,\u001b[0m \u001b[0mshortened_locations\u001b[0m\u001b[0;34m,\u001b[0m \u001b[0;34m\"Harris Teeter\"\u001b[0m\u001b[0;34m)\u001b[0m\u001b[0;34m\u001b[0m\u001b[0;34m\u001b[0m\u001b[0m\n",
      "\u001b[0;32m~/Desktop/Spring 2021/UVA/food_helper.py\u001b[0m in \u001b[0;36mht_driver\u001b[0;34m(ht_zipcodes, ht_foods, sleep_time, driver_wait, standard)\u001b[0m\n\u001b[1;32m    426\u001b[0m         \u001b[0;31m# submit zipcode\u001b[0m\u001b[0;34m\u001b[0m\u001b[0;34m\u001b[0m\u001b[0;34m\u001b[0m\u001b[0m\n\u001b[1;32m    427\u001b[0m         \u001b[0msubmit_zip\u001b[0m \u001b[0;34m=\u001b[0m \u001b[0mwait\u001b[0m\u001b[0;34m.\u001b[0m\u001b[0muntil\u001b[0m\u001b[0;34m(\u001b[0m\u001b[0mEC\u001b[0m\u001b[0;34m.\u001b[0m\u001b[0melement_to_be_clickable\u001b[0m\u001b[0;34m(\u001b[0m\u001b[0;34m(\u001b[0m\u001b[0mBy\u001b[0m\u001b[0;34m.\u001b[0m\u001b[0mCLASS_NAME\u001b[0m\u001b[0;34m,\u001b[0m \u001b[0;34m'btn'\u001b[0m\u001b[0;34m)\u001b[0m\u001b[0;34m)\u001b[0m\u001b[0;34m)\u001b[0m\u001b[0;34m\u001b[0m\u001b[0;34m\u001b[0m\u001b[0m\n\u001b[0;32m--> 428\u001b[0;31m         \u001b[0msubmit_zip\u001b[0m\u001b[0;34m.\u001b[0m\u001b[0mclick\u001b[0m\u001b[0;34m(\u001b[0m\u001b[0;34m)\u001b[0m\u001b[0;34m\u001b[0m\u001b[0;34m\u001b[0m\u001b[0m\n\u001b[0m\u001b[1;32m    429\u001b[0m \u001b[0;34m\u001b[0m\u001b[0m\n\u001b[1;32m    430\u001b[0m         \u001b[0;31m# Close \"cannot determine location\" message (might be specific to my computer)\u001b[0m\u001b[0;34m\u001b[0m\u001b[0;34m\u001b[0m\u001b[0;34m\u001b[0m\u001b[0m\n",
      "\u001b[0;32m~/anaconda3/lib/python3.7/site-packages/selenium/webdriver/remote/webelement.py\u001b[0m in \u001b[0;36mclick\u001b[0;34m(self)\u001b[0m\n\u001b[1;32m     78\u001b[0m     \u001b[0;32mdef\u001b[0m \u001b[0mclick\u001b[0m\u001b[0;34m(\u001b[0m\u001b[0mself\u001b[0m\u001b[0;34m)\u001b[0m\u001b[0;34m:\u001b[0m\u001b[0;34m\u001b[0m\u001b[0;34m\u001b[0m\u001b[0m\n\u001b[1;32m     79\u001b[0m         \u001b[0;34m\"\"\"Clicks the element.\"\"\"\u001b[0m\u001b[0;34m\u001b[0m\u001b[0;34m\u001b[0m\u001b[0m\n\u001b[0;32m---> 80\u001b[0;31m         \u001b[0mself\u001b[0m\u001b[0;34m.\u001b[0m\u001b[0m_execute\u001b[0m\u001b[0;34m(\u001b[0m\u001b[0mCommand\u001b[0m\u001b[0;34m.\u001b[0m\u001b[0mCLICK_ELEMENT\u001b[0m\u001b[0;34m)\u001b[0m\u001b[0;34m\u001b[0m\u001b[0;34m\u001b[0m\u001b[0m\n\u001b[0m\u001b[1;32m     81\u001b[0m \u001b[0;34m\u001b[0m\u001b[0m\n\u001b[1;32m     82\u001b[0m     \u001b[0;32mdef\u001b[0m \u001b[0msubmit\u001b[0m\u001b[0;34m(\u001b[0m\u001b[0mself\u001b[0m\u001b[0;34m)\u001b[0m\u001b[0;34m:\u001b[0m\u001b[0;34m\u001b[0m\u001b[0;34m\u001b[0m\u001b[0m\n",
      "\u001b[0;32m~/anaconda3/lib/python3.7/site-packages/selenium/webdriver/remote/webelement.py\u001b[0m in \u001b[0;36m_execute\u001b[0;34m(self, command, params)\u001b[0m\n\u001b[1;32m    631\u001b[0m             \u001b[0mparams\u001b[0m \u001b[0;34m=\u001b[0m \u001b[0;34m{\u001b[0m\u001b[0;34m}\u001b[0m\u001b[0;34m\u001b[0m\u001b[0;34m\u001b[0m\u001b[0m\n\u001b[1;32m    632\u001b[0m         \u001b[0mparams\u001b[0m\u001b[0;34m[\u001b[0m\u001b[0;34m'id'\u001b[0m\u001b[0;34m]\u001b[0m \u001b[0;34m=\u001b[0m \u001b[0mself\u001b[0m\u001b[0;34m.\u001b[0m\u001b[0m_id\u001b[0m\u001b[0;34m\u001b[0m\u001b[0;34m\u001b[0m\u001b[0m\n\u001b[0;32m--> 633\u001b[0;31m         \u001b[0;32mreturn\u001b[0m \u001b[0mself\u001b[0m\u001b[0;34m.\u001b[0m\u001b[0m_parent\u001b[0m\u001b[0;34m.\u001b[0m\u001b[0mexecute\u001b[0m\u001b[0;34m(\u001b[0m\u001b[0mcommand\u001b[0m\u001b[0;34m,\u001b[0m \u001b[0mparams\u001b[0m\u001b[0;34m)\u001b[0m\u001b[0;34m\u001b[0m\u001b[0;34m\u001b[0m\u001b[0m\n\u001b[0m\u001b[1;32m    634\u001b[0m \u001b[0;34m\u001b[0m\u001b[0m\n\u001b[1;32m    635\u001b[0m     \u001b[0;32mdef\u001b[0m \u001b[0mfind_element\u001b[0m\u001b[0;34m(\u001b[0m\u001b[0mself\u001b[0m\u001b[0;34m,\u001b[0m \u001b[0mby\u001b[0m\u001b[0;34m=\u001b[0m\u001b[0mBy\u001b[0m\u001b[0;34m.\u001b[0m\u001b[0mID\u001b[0m\u001b[0;34m,\u001b[0m \u001b[0mvalue\u001b[0m\u001b[0;34m=\u001b[0m\u001b[0;32mNone\u001b[0m\u001b[0;34m)\u001b[0m\u001b[0;34m:\u001b[0m\u001b[0;34m\u001b[0m\u001b[0;34m\u001b[0m\u001b[0m\n",
      "\u001b[0;32m~/anaconda3/lib/python3.7/site-packages/selenium/webdriver/remote/webdriver.py\u001b[0m in \u001b[0;36mexecute\u001b[0;34m(self, driver_command, params)\u001b[0m\n\u001b[1;32m    319\u001b[0m         \u001b[0mresponse\u001b[0m \u001b[0;34m=\u001b[0m \u001b[0mself\u001b[0m\u001b[0;34m.\u001b[0m\u001b[0mcommand_executor\u001b[0m\u001b[0;34m.\u001b[0m\u001b[0mexecute\u001b[0m\u001b[0;34m(\u001b[0m\u001b[0mdriver_command\u001b[0m\u001b[0;34m,\u001b[0m \u001b[0mparams\u001b[0m\u001b[0;34m)\u001b[0m\u001b[0;34m\u001b[0m\u001b[0;34m\u001b[0m\u001b[0m\n\u001b[1;32m    320\u001b[0m         \u001b[0;32mif\u001b[0m \u001b[0mresponse\u001b[0m\u001b[0;34m:\u001b[0m\u001b[0;34m\u001b[0m\u001b[0;34m\u001b[0m\u001b[0m\n\u001b[0;32m--> 321\u001b[0;31m             \u001b[0mself\u001b[0m\u001b[0;34m.\u001b[0m\u001b[0merror_handler\u001b[0m\u001b[0;34m.\u001b[0m\u001b[0mcheck_response\u001b[0m\u001b[0;34m(\u001b[0m\u001b[0mresponse\u001b[0m\u001b[0;34m)\u001b[0m\u001b[0;34m\u001b[0m\u001b[0;34m\u001b[0m\u001b[0m\n\u001b[0m\u001b[1;32m    322\u001b[0m             response['value'] = self._unwrap_value(\n\u001b[1;32m    323\u001b[0m                 response.get('value', None))\n",
      "\u001b[0;32m~/anaconda3/lib/python3.7/site-packages/selenium/webdriver/remote/errorhandler.py\u001b[0m in \u001b[0;36mcheck_response\u001b[0;34m(self, response)\u001b[0m\n\u001b[1;32m    240\u001b[0m                 \u001b[0malert_text\u001b[0m \u001b[0;34m=\u001b[0m \u001b[0mvalue\u001b[0m\u001b[0;34m[\u001b[0m\u001b[0;34m'alert'\u001b[0m\u001b[0;34m]\u001b[0m\u001b[0;34m.\u001b[0m\u001b[0mget\u001b[0m\u001b[0;34m(\u001b[0m\u001b[0;34m'text'\u001b[0m\u001b[0;34m)\u001b[0m\u001b[0;34m\u001b[0m\u001b[0;34m\u001b[0m\u001b[0m\n\u001b[1;32m    241\u001b[0m             \u001b[0;32mraise\u001b[0m \u001b[0mexception_class\u001b[0m\u001b[0;34m(\u001b[0m\u001b[0mmessage\u001b[0m\u001b[0;34m,\u001b[0m \u001b[0mscreen\u001b[0m\u001b[0;34m,\u001b[0m \u001b[0mstacktrace\u001b[0m\u001b[0;34m,\u001b[0m \u001b[0malert_text\u001b[0m\u001b[0;34m)\u001b[0m\u001b[0;34m\u001b[0m\u001b[0;34m\u001b[0m\u001b[0m\n\u001b[0;32m--> 242\u001b[0;31m         \u001b[0;32mraise\u001b[0m \u001b[0mexception_class\u001b[0m\u001b[0;34m(\u001b[0m\u001b[0mmessage\u001b[0m\u001b[0;34m,\u001b[0m \u001b[0mscreen\u001b[0m\u001b[0;34m,\u001b[0m \u001b[0mstacktrace\u001b[0m\u001b[0;34m)\u001b[0m\u001b[0;34m\u001b[0m\u001b[0;34m\u001b[0m\u001b[0m\n\u001b[0m\u001b[1;32m    243\u001b[0m \u001b[0;34m\u001b[0m\u001b[0m\n\u001b[1;32m    244\u001b[0m     \u001b[0;32mdef\u001b[0m \u001b[0m_value_or_default\u001b[0m\u001b[0;34m(\u001b[0m\u001b[0mself\u001b[0m\u001b[0;34m,\u001b[0m \u001b[0mobj\u001b[0m\u001b[0;34m,\u001b[0m \u001b[0mkey\u001b[0m\u001b[0;34m,\u001b[0m \u001b[0mdefault\u001b[0m\u001b[0;34m)\u001b[0m\u001b[0;34m:\u001b[0m\u001b[0;34m\u001b[0m\u001b[0;34m\u001b[0m\u001b[0m\n",
      "\u001b[0;31mElementClickInterceptedException\u001b[0m: Message: element click intercepted: Element <button aria-label=\"..., Pickup Address\" class=\"btn\" type=\"submit\">Submit</button> is not clickable at point (394, 620). Other element would receive the click: <div _ngcontent-c3=\"\" class=\"cookie-bottom-main\">...</div>\n  (Session info: chrome=96.0.4664.55)\n"
     ]
    }
   ],
   "source": [
    "# Universal Basket for Harris Teeter\n",
    "ht_df, ht_zips, ht_locs = food_helper.ht(ht_foods, zipcodes)\n",
    "ht_df.head()"
   ]
  },
  {
   "cell_type": "code",
   "execution_count": null,
   "metadata": {
    "code_folding": [
     0
    ]
   },
   "outputs": [],
   "source": [
    "# Latinx Basket for Harris Teeter\n",
    "ht_hispanic_df = food_helper.ht(ht_hispanic_foods, ht_zips, standard = False, has_zipcodes = True, locs = ht_locs)\n",
    "ht_hispanic_df.head()"
   ]
  },
  {
   "cell_type": "code",
   "execution_count": null,
   "metadata": {
    "code_folding": [
     0
    ]
   },
   "outputs": [],
   "source": [
    "# East African Basket for Harris Teeter\n",
    "ht_east_af_df = food_helper.ht(ht_east_af_foods, ht_zips, standard = False, has_zipcodes = True, locs = ht_locs)\n",
    "ht_east_af_df.head()"
   ]
  },
  {
   "cell_type": "code",
   "execution_count": null,
   "metadata": {
    "code_folding": [
     0
    ]
   },
   "outputs": [],
   "source": [
    "# Eastern European Basket for Harris Teeter\n",
    "ht_east_eu_df = food_helper.ht(ht_east_eu_foods, ht_zips, standard = False, has_zipcodes = True, locs = ht_locs)\n",
    "ht_east_eu_df.head()"
   ]
  },
  {
   "cell_type": "code",
   "execution_count": null,
   "metadata": {
    "code_folding": [
     0
    ]
   },
   "outputs": [],
   "source": [
    "# Southeast Asian Basket for Harris Teeter\n",
    "ht_se_asia_df = food_helper.ht(ht_se_asia_foods, ht_zips, standard = False, has_zipcodes = True, locs = ht_locs)\n",
    "ht_se_asia_df.head()"
   ]
  },
  {
   "cell_type": "code",
   "execution_count": null,
   "metadata": {
    "code_folding": [
     0
    ]
   },
   "outputs": [],
   "source": [
    "# West African Basket for Harris Teeter\n",
    "ht_west_af_df = food_helper.ht(ht_west_af_foods, ht_zips, standard = False, has_zipcodes = True, locs = ht_locs)\n",
    "ht_west_af_df.head()"
   ]
  },
  {
   "cell_type": "code",
   "execution_count": null,
   "metadata": {
    "code_folding": [
     0
    ]
   },
   "outputs": [],
   "source": [
    "# Harris Teeter to csv\n",
    "# ht_east_af_df.to_csv('HT_East_Af_Food.csv')\n",
    "# ht_east_eu_df.to_csv('HT_East_Eu_Food.csv')\n",
    "# ht_se_asia_df.to_csv('HT_SE_Asia_Food.csv')\n",
    "# ht_west_af_df.to_csv('HT_West_Af_Food.csv')"
   ]
  },
  {
   "cell_type": "markdown",
   "metadata": {},
   "source": [
    "## Safeway"
   ]
  },
  {
   "cell_type": "code",
   "execution_count": null,
   "metadata": {
    "code_folding": [
     0
    ]
   },
   "outputs": [],
   "source": [
    "# Safeway Basket\n",
    "sw_foods = [\"Value Corner Whole Milk - 1 Gallon\", \"Large Eggs - 12 Count\", \"Plain Bagels\", \"signature Select Bread White\",\n",
    "            \"Signature Select Pasta 16 oz\", \"Gala Apple\", \"Signature Farms Ground Turkey\", \"Signature Select Ham Cooked 95%\",\n",
    "            \"Value Corner Butter\", \"Russet Potatoes 5\", \"Navel Oranges\", \"Signature Select Tomato Sauce 8\",\n",
    "            \"Ground Beef 80% 1.25\", \"Shredded Cheese 8\", \"Yogurt Lucerne 32\", \"Signature Select Cereal Corn Flakes\"]\n",
    "\n",
    "sw_hispanic_foods = [\"Hass Avocado\", \"Beets - 1 Bunch\", \"Signature Select Black Beans\", \"Mexican Cheese Blend 8\", \"Signature Select Corn Tortillas\",\n",
    "                     \"Signature Select Green Chiles\", \"Jalapeno Peppers\", \"Signature Select Garbanzo Beans\", \"Masa\",\n",
    "                     \"Giant Mixed Fruit Large\", \"Bell Peppers Green\", \"Signature Select Pinto Beans\", \"White Rice 5lb\",\n",
    "                     \"Signature Select Salsa 16\", \"Green Squash\", \"Tomatillos\", \"Tomatoes On The Vine\"]\n",
    "# Mixed fruit?\n",
    "\n",
    "sw_east_af_foods = [\"Barley\", \"Simply Curry Powder\", \"Dried Beans\", \"Sunsweet Dates\",\n",
    "                    \"Fava Beans\", \"Garbanzo Beans\", \"Lentil Beans\", \"Signature Spaghetti\",\n",
    "                    \"Signature Tomato Sauce\", \"Select Tuna Chunk\"]\n",
    "\n",
    "sw_east_eu_foods = [\"Barley\", \"Ground Beef 80% 1.25\", \"Beets 1 Bunch\",\n",
    "                    \"Red Cabbage\", \"Lamb Shoulder\", \"Sliced Mushroom\",\n",
    "                    \"Ground Pork\", \"Russet Potatoes\", \"Wheat Flour\"]\n",
    "# had to drop kasha\n",
    "# sort beets by price\n",
    "\n",
    "# sw_indig_foods = []\n",
    "\n",
    "sw_se_asia_foods = [\"Light Coconut Milk\", \"Signature Curry Paste\", \"Edamame\",\n",
    "                    \"Eggplant\", \"Fish Sauce\", \"Oyster Sauce\", \"Rice Flour\", \"Rice Noodles\",\n",
    "                    \"Jasmine Rice\", \"Squash\", \"Tofu\"]\n",
    "# had to drop bamboo shoots - was getting toothbrush or something?\n",
    "\n",
    "sw_west_af_foods = [\"Black eye Peas\", \"Dry Pinto Beans\", \"Chicken Whole\", \"Corn Flour\",\n",
    "                    \"Plantain\", \"Russet Potatoes\", \"Tomato Paste\", \"Yams\"]"
   ]
  },
  {
   "cell_type": "code",
   "execution_count": null,
   "metadata": {
    "code_folding": [
     0
    ]
   },
   "outputs": [],
   "source": [
    "# Universal Basket for Safeway\n",
    "sw_df, sw_zips, sw_locs = food_helper.sw(sw_foods, zipcodes)\n",
    "sw_df.head()"
   ]
  },
  {
   "cell_type": "code",
   "execution_count": null,
   "metadata": {
    "code_folding": [
     0
    ]
   },
   "outputs": [],
   "source": [
    "# Latinx Basket for Safeway\n",
    "sw_hispanic_df = food_helper.sw(sw_hispanic_foods, sw_zips, standard = False, has_zipcodes = True, locs = sw_locs)\n",
    "sw_hispanic_df.head()"
   ]
  },
  {
   "cell_type": "code",
   "execution_count": null,
   "metadata": {
    "code_folding": [
     0
    ]
   },
   "outputs": [],
   "source": [
    "# East African Basket for Safeway\n",
    "sw_east_af_df = food_helper.sw(sw_east_af_foods, sw_zips, standard = False, has_zipcodes = True, locs = sw_locs)\n",
    "sw_east_af_df.head()"
   ]
  },
  {
   "cell_type": "code",
   "execution_count": null,
   "metadata": {
    "code_folding": [
     0
    ]
   },
   "outputs": [],
   "source": [
    "# Eastern European Basket for Safeway\n",
    "sw_east_eu_df = food_helper.sw(sw_east_eu_foods, sw_zips, standard = False, has_zipcodes = True, locs = sw_locs)\n",
    "sw_east_eu_df.head()"
   ]
  },
  {
   "cell_type": "code",
   "execution_count": null,
   "metadata": {
    "code_folding": [
     0
    ]
   },
   "outputs": [],
   "source": [
    "# Southeast Asian Basket for Safeway\n",
    "sw_se_asia_df = food_helper.sw(sw_se_asia_foods, sw_zips, standard = False, has_zipcodes = True, locs = sw_locs)\n",
    "sw_se_asia_df.head()"
   ]
  },
  {
   "cell_type": "code",
   "execution_count": null,
   "metadata": {
    "code_folding": [
     0
    ]
   },
   "outputs": [],
   "source": [
    "# West African Basket for Safeway\n",
    "sw_west_af_df = food_helper.sw(sw_west_af_foods, sw_zips, standard = False, has_zipcodes = True, locs = sw_locs)\n",
    "sw_west_af_df.head()"
   ]
  },
  {
   "cell_type": "code",
   "execution_count": null,
   "metadata": {
    "code_folding": [
     0
    ]
   },
   "outputs": [],
   "source": [
    "# Safeway to csv\n",
    "# sw_east_af_df.to_csv('SW_East_Af_Food.csv')\n",
    "# sw_east_eu_df.to_csv('SW_East_Eu_Food.csv')\n",
    "# sw_se_asia_df.to_csv('SW_SE_Asia_Food.csv')\n",
    "# sw_west_af_df.to_csv('SW_West_Af_Food.csv')"
   ]
  },
  {
   "cell_type": "markdown",
   "metadata": {},
   "source": [
    "## Aldi"
   ]
  },
  {
   "cell_type": "code",
   "execution_count": null,
   "metadata": {
    "code_folding": [
     0
    ]
   },
   "outputs": [],
   "source": [
    "# Aldi Basket\n",
    "aldi_foods = [\"Whole Milk\", \"Large Eggs A Goldhen Eggs\", \"L'oven Everything\", \"White Bread\",\n",
    "              \"Penne Rigate\", \"Gala Apple\", \"Turkey Ground Lean 93\", \"Deli Sliced Ham\",\n",
    "              \"Countryside Salted Butter\", \"Bag Potatoes\", \"Oranges Bag\", \"Happy Harvest Tomato Sauce\",\n",
    "              \"Lean Beef Chub\", \"Happy Cheese Cubes\", \"Friendly Farms Nonfat Yogurt Light Plain\", \"Millville Frosted Shredded\"]\n",
    "\n",
    "aldi_hispanic_foods = [\"Large Avocado\", \"Dakota Black Beans\", \"Mexican Cheese\", \"Corn Tortillas\",\n",
    "                       \"Green Chiles\", \"Jalapeno Peppers\", \"Garbanzo Beans\", \"Masa\",\n",
    "                       \"Mixed Fruit\", \"Bell Peppers Green\", \"Pinto Beans\", \"White Rice\",\n",
    "                       \"Casa Medium Salsa\", \"Yellow Squash\", \"Tomatillos\", \"Roma Tomatoes\"]\n",
    "## need to fix the food items in this list.......\n",
    "\n",
    "# no beets\n",
    "# no tomatilos???\n",
    "\n",
    "aldi_east_af_foods = [\"Pueblo Pinto Beans\", \"Garbanzo Beans\", \"Spaghetti\",\n",
    "                      \"Tomato Sauce\", \"Canned Tuna\"]\n",
    "\n",
    "aldi_east_eu_foods = [\"Lean Beef Chub\", \"Cabbage\", \"Lamb\", \"Sliced Mushrooms\",\n",
    "                      \"Pork\", \"Bag Potatoes\"]\n",
    "# sort beets by price\n",
    "\n",
    "# aldi_indig_foods = []\n",
    "\n",
    "aldi_se_asia_foods = [\"Coconut Milk\", \"Eggplant\", \"Parboiled Rice\",\n",
    "                      \"Yellow Squash\", \"Tofu\"]\n",
    "# number 2 option here for coconut milk!\n",
    "\n",
    "aldi_west_af_foods = [\"Dry Pinto Beans\", \"Chicken Whole\", \"Corn Flour\", \"Plantain\",\n",
    "                      \"Bag Potatoes\", \"Tomato Paste\", \"Yams\"]"
   ]
  },
  {
   "cell_type": "code",
   "execution_count": null,
   "metadata": {
    "code_folding": [
     0
    ]
   },
   "outputs": [],
   "source": [
    "# Universal Basket for Aldi\n",
    "aldi_df, aldi_zips, aldi_locs = food_helper.aldi(aldi_foods, zipcodes)\n",
    "aldi_df.head()"
   ]
  },
  {
   "cell_type": "code",
   "execution_count": null,
   "metadata": {
    "code_folding": [
     0
    ]
   },
   "outputs": [],
   "source": [
    "# Latinx Basket for Aldi\n",
    "aldi_hispanic_df = food_helper.aldi(aldi_hispanic_foods, aldi_zips, standard = False, has_zipcodes = True, locs = aldi_locs)\n",
    "aldi_hispanic_df.head()"
   ]
  },
  {
   "cell_type": "code",
   "execution_count": null,
   "metadata": {
    "code_folding": [
     0
    ]
   },
   "outputs": [],
   "source": [
    "# East African Basket for Aldi\n",
    "aldi_east_af_df = food_helper.aldi(aldi_east_af_foods, aldi_zips, standard = False, has_zipcodes = True, locs = aldi_locs)\n",
    "aldi_east_af_df.head()"
   ]
  },
  {
   "cell_type": "code",
   "execution_count": null,
   "metadata": {
    "code_folding": [
     0
    ]
   },
   "outputs": [],
   "source": [
    "# Eastern European Basket for Aldi\n",
    "aldi_east_eu_df = food_helper.aldi(aldi_east_eu_foods, aldi_zips, standard = False, has_zipcodes = True, locs = aldi_locs)\n",
    "aldi_east_eu_df.head() "
   ]
  },
  {
   "cell_type": "code",
   "execution_count": null,
   "metadata": {
    "code_folding": [
     0
    ]
   },
   "outputs": [],
   "source": [
    "# Southeast Asian Basket for Aldi\n",
    "aldi_se_asia_df = food_helper.aldi(aldi_se_asia_foods, aldi_zips, standard = False, has_zipcodes = True, locs = aldi_locs)\n",
    "aldi_se_asia_df.head()"
   ]
  },
  {
   "cell_type": "code",
   "execution_count": null,
   "metadata": {
    "code_folding": [
     0
    ]
   },
   "outputs": [],
   "source": [
    "# West African Basket for Aldi\n",
    "aldi_west_af_df = food_helper.aldi(aldi_west_af_foods, aldi_zips, standard = False, has_zipcodes = True, locs = aldi_locs)\n",
    "aldi_west_af_df.head()"
   ]
  },
  {
   "cell_type": "code",
   "execution_count": null,
   "metadata": {
    "code_folding": [
     0
    ]
   },
   "outputs": [],
   "source": [
    "# Aldi to csv\n",
    "# aldi_east_af_df.to_csv('Aldi_East_Af_Food.csv')\n",
    "# aldi_east_eu_df.to_csv('Aldi_East_Eu_Food.csv')\n",
    "# aldi_se_asia_df.to_csv('Aldi_SE_Asia_Food.csv')\n",
    "# aldi_west_af_df.to_csv('Aldi_West_Af_Food.csv')"
   ]
  },
  {
   "cell_type": "markdown",
   "metadata": {},
   "source": [
    "## Target"
   ]
  },
  {
   "cell_type": "code",
   "execution_count": 33,
   "metadata": {
    "code_folding": [
     0
    ]
   },
   "outputs": [],
   "source": [
    "# Target Basket\n",
    "target_foods = [\"Vitamin D Whole Milk - 1 gal\", \"Grade A Large Eggs 12\", \"Plain Bagel 6\", \"Bread Market Pantry\",\n",
    "                \"Penne Rigate 16\", \"Gala Apple Each\", \"Ground Turkey\", \"Sliced Ham\",\n",
    "                \"Butter\", \"Russet Potatoes\", \"Navel Orange\", \"Tomato Sauce 8oz - Good & Gather\",\n",
    "                \"Ground Beef 1lb 80\", \"Shredded Cheese\", \"Yoplait Yogurt 32oz\", \"Market Pantry Cereal\"]\n",
    "\n",
    "target_hispanic_foods = [\"Avocado\", \"Good and Gather Black Beans\", \"Mexican Cheese\", \"Corn Tortillas\",\n",
    "                         \"Green Chiles\", \"Jalapeno Peppers\", \"Garbanzo Beans\", \"Masa\",\n",
    "                         \"Fruit Cocktail Market\", \"Bell Peppers\", \"Pinto Beans\", \"White Rice 5\",\n",
    "                         \"Medium Salsa 24\", \"Squash\", \"Good and Gather Salsa Verde\", \"Roma Tomatoes\"]\n",
    "# SOME HAVE TOMATILLOS, OTHERS TOMATILLO SALSA, AND OTHERS SALSA VERDE...\n",
    "\n",
    "target_east_af_foods = [\"Barley\", \"Badia Curry Powder\", \"Dried Beans\", \"Dried Dates\",\n",
    "                        \"Garbanzo Beans\", \"Faraon Lentil Beans\", \"Good And Gather Spaghetti\",\n",
    "                        \"Tomato Sauce 8oz\", \"Good And Gather Canned Tuna\"]\n",
    "# sort tomato sauce by price\n",
    "\n",
    "target_east_eu_foods = [\"Barley\", \"Ground Beef 80%\", \"Good and Gather Sliced Beets\", \"Cabbage\",\n",
    "                        \"Sliced White Mushrooms\", \"Russet Potatoes\", \"Wheat Flour\"]\n",
    "# sort beets by price\n",
    "\n",
    "# target_indig_foods = []\n",
    "\n",
    "target_se_asia_foods = [\"Baby Corn\", \"Coconut Milk\", \"Patak Curry Paste\", \"Edamame\",\n",
    "                        \"Three Crabs Fish Sauce\", \"Thai Vermicelli\", \"Rice Noodles\", \"Jasmine Rice\"]\n",
    "# number 2 option here for coconut milk!\n",
    "\n",
    "target_west_af_foods = [\"Dry Black Eye Peas\", \"Dry Pinto Beans\", \"Corn Flour\", \"Maggi Cubes Chicken\",\n",
    "                        \"Platano\", \"Russet Potatoes\", \"Tomato Paste\", \"Yams\"]\n",
    "# unsure on chicken...\n",
    "# make alteration for platano!!1"
   ]
  },
  {
   "cell_type": "code",
   "execution_count": 41,
   "metadata": {
    "code_folding": [
     0
    ]
   },
   "outputs": [
    {
     "name": "stderr",
     "output_type": "stream",
     "text": [
      "\n",
      "\n",
      "====== WebDriver manager ======\n",
      "Current google-chrome version is 98.0.4758\n",
      "Get LATEST driver version for 98.0.4758\n",
      "Driver [/Users/zacharyalerte/.wdm/drivers/chromedriver/mac64/98.0.4758.80/chromedriver] found in cache\n",
      "\n",
      "\n",
      "====== WebDriver manager ======\n",
      "Current google-chrome version is 98.0.4758\n",
      "Get LATEST driver version for 98.0.4758\n",
      "Driver [/Users/zacharyalerte/.wdm/drivers/chromedriver/mac64/98.0.4758.80/chromedriver] found in cache\n"
     ]
    },
    {
     "data": {
      "text/html": [
       "<div>\n",
       "<style scoped>\n",
       "    .dataframe tbody tr th:only-of-type {\n",
       "        vertical-align: middle;\n",
       "    }\n",
       "\n",
       "    .dataframe tbody tr th {\n",
       "        vertical-align: top;\n",
       "    }\n",
       "\n",
       "    .dataframe thead th {\n",
       "        text-align: right;\n",
       "    }\n",
       "</style>\n",
       "<table border=\"1\" class=\"dataframe\">\n",
       "  <thead>\n",
       "    <tr style=\"text-align: right;\">\n",
       "      <th></th>\n",
       "      <th>Item</th>\n",
       "      <th>Price</th>\n",
       "      <th>Other_Info</th>\n",
       "      <th>Location</th>\n",
       "      <th>Store</th>\n",
       "    </tr>\n",
       "  </thead>\n",
       "  <tbody>\n",
       "    <tr>\n",
       "      <th>0</th>\n",
       "      <td>Whole Milk - 0.5gal - Good &amp; Gather™</td>\n",
       "      <td>1.99</td>\n",
       "      <td></td>\n",
       "      <td>3101 Richmond Hwy, Alexandria, VA 22305-3042</td>\n",
       "      <td>Target</td>\n",
       "    </tr>\n",
       "    <tr>\n",
       "      <th>1</th>\n",
       "      <td>Grade A Large Eggs - 12ct - Good &amp; Gather™</td>\n",
       "      <td>1.99</td>\n",
       "      <td></td>\n",
       "      <td>3101 Richmond Hwy, Alexandria, VA 22305-3042</td>\n",
       "      <td>Target</td>\n",
       "    </tr>\n",
       "    <tr>\n",
       "      <th>2</th>\n",
       "      <td>Thomas' Plain Bagels - 20oz/6ct</td>\n",
       "      <td>3.49</td>\n",
       "      <td></td>\n",
       "      <td>3101 Richmond Hwy, Alexandria, VA 22305-3042</td>\n",
       "      <td>Target</td>\n",
       "    </tr>\n",
       "    <tr>\n",
       "      <th>3</th>\n",
       "      <td>White Sandwich Bread - 20oz - Market Pantry™</td>\n",
       "      <td>1.19</td>\n",
       "      <td></td>\n",
       "      <td>3101 Richmond Hwy, Alexandria, VA 22305-3042</td>\n",
       "      <td>Target</td>\n",
       "    </tr>\n",
       "    <tr>\n",
       "      <th>4</th>\n",
       "      <td>Barilla Penne - 16oz</td>\n",
       "      <td>1.89</td>\n",
       "      <td></td>\n",
       "      <td>3101 Richmond Hwy, Alexandria, VA 22305-3042</td>\n",
       "      <td>Target</td>\n",
       "    </tr>\n",
       "  </tbody>\n",
       "</table>\n",
       "</div>"
      ],
      "text/plain": [
       "                                           Item  Price Other_Info  \\\n",
       "0          Whole Milk - 0.5gal - Good & Gather™   1.99              \n",
       "1    Grade A Large Eggs - 12ct - Good & Gather™   1.99              \n",
       "2               Thomas' Plain Bagels - 20oz/6ct   3.49              \n",
       "3  White Sandwich Bread - 20oz - Market Pantry™   1.19              \n",
       "4                          Barilla Penne - 16oz   1.89              \n",
       "\n",
       "                                       Location   Store  \n",
       "0  3101 Richmond Hwy, Alexandria, VA 22305-3042  Target  \n",
       "1  3101 Richmond Hwy, Alexandria, VA 22305-3042  Target  \n",
       "2  3101 Richmond Hwy, Alexandria, VA 22305-3042  Target  \n",
       "3  3101 Richmond Hwy, Alexandria, VA 22305-3042  Target  \n",
       "4  3101 Richmond Hwy, Alexandria, VA 22305-3042  Target  "
      ]
     },
     "execution_count": 41,
     "metadata": {},
     "output_type": "execute_result"
    }
   ],
   "source": [
    "# Universal Basket for Target\n",
    "target_df, target_zips, target_locs = food_helper.target(target_foods, zipcodes)\n",
    "target_df.head()"
   ]
  },
  {
   "cell_type": "code",
   "execution_count": 44,
   "metadata": {
    "code_folding": [
     0
    ]
   },
   "outputs": [
    {
     "name": "stderr",
     "output_type": "stream",
     "text": [
      "\n",
      "\n",
      "====== WebDriver manager ======\n",
      "Current google-chrome version is 98.0.4758\n",
      "Get LATEST driver version for 98.0.4758\n",
      "Driver [/Users/zacharyalerte/.wdm/drivers/chromedriver/mac64/98.0.4758.80/chromedriver] found in cache\n"
     ]
    },
    {
     "data": {
      "text/html": [
       "<div>\n",
       "<style scoped>\n",
       "    .dataframe tbody tr th:only-of-type {\n",
       "        vertical-align: middle;\n",
       "    }\n",
       "\n",
       "    .dataframe tbody tr th {\n",
       "        vertical-align: top;\n",
       "    }\n",
       "\n",
       "    .dataframe thead th {\n",
       "        text-align: right;\n",
       "    }\n",
       "</style>\n",
       "<table border=\"1\" class=\"dataframe\">\n",
       "  <thead>\n",
       "    <tr style=\"text-align: right;\">\n",
       "      <th></th>\n",
       "      <th>Item</th>\n",
       "      <th>Price</th>\n",
       "      <th>Other_Info</th>\n",
       "      <th>Location</th>\n",
       "      <th>Store</th>\n",
       "    </tr>\n",
       "  </thead>\n",
       "  <tbody>\n",
       "    <tr>\n",
       "      <th>0</th>\n",
       "      <td>Avocado - each</td>\n",
       "      <td>0.89</td>\n",
       "      <td></td>\n",
       "      <td>3101 Richmond Hwy, Alexandria, VA 22305-3042</td>\n",
       "      <td>Target</td>\n",
       "    </tr>\n",
       "    <tr>\n",
       "      <th>1</th>\n",
       "      <td>Low Sodium Black Beans - 15.5oz - Good &amp; Gather™</td>\n",
       "      <td>0.79</td>\n",
       "      <td></td>\n",
       "      <td>3101 Richmond Hwy, Alexandria, VA 22305-3042</td>\n",
       "      <td>Target</td>\n",
       "    </tr>\n",
       "    <tr>\n",
       "      <th>2</th>\n",
       "      <td>Shredded Mexican-Style Cheese - 8oz - Good &amp; G...</td>\n",
       "      <td>1.99</td>\n",
       "      <td></td>\n",
       "      <td>3101 Richmond Hwy, Alexandria, VA 22305-3042</td>\n",
       "      <td>Target</td>\n",
       "    </tr>\n",
       "    <tr>\n",
       "      <th>3</th>\n",
       "      <td>Mission gluten Free White Corn Tortillas - 25o...</td>\n",
       "      <td>2.59</td>\n",
       "      <td></td>\n",
       "      <td>3101 Richmond Hwy, Alexandria, VA 22305-3042</td>\n",
       "      <td>Target</td>\n",
       "    </tr>\n",
       "    <tr>\n",
       "      <th>4</th>\n",
       "      <td>Diced Green Chiles Mild 4oz - Market Pantry™</td>\n",
       "      <td>0.95</td>\n",
       "      <td></td>\n",
       "      <td>3101 Richmond Hwy, Alexandria, VA 22305-3042</td>\n",
       "      <td>Target</td>\n",
       "    </tr>\n",
       "  </tbody>\n",
       "</table>\n",
       "</div>"
      ],
      "text/plain": [
       "                                                Item  Price Other_Info  \\\n",
       "0                                     Avocado - each   0.89              \n",
       "1   Low Sodium Black Beans - 15.5oz - Good & Gather™   0.79              \n",
       "2  Shredded Mexican-Style Cheese - 8oz - Good & G...   1.99              \n",
       "3  Mission gluten Free White Corn Tortillas - 25o...   2.59              \n",
       "4       Diced Green Chiles Mild 4oz - Market Pantry™   0.95              \n",
       "\n",
       "                                       Location   Store  \n",
       "0  3101 Richmond Hwy, Alexandria, VA 22305-3042  Target  \n",
       "1  3101 Richmond Hwy, Alexandria, VA 22305-3042  Target  \n",
       "2  3101 Richmond Hwy, Alexandria, VA 22305-3042  Target  \n",
       "3  3101 Richmond Hwy, Alexandria, VA 22305-3042  Target  \n",
       "4  3101 Richmond Hwy, Alexandria, VA 22305-3042  Target  "
      ]
     },
     "execution_count": 44,
     "metadata": {},
     "output_type": "execute_result"
    }
   ],
   "source": [
    "# Latinx Basket for Target\n",
    "target_hispanic_df = food_helper.target(target_hispanic_foods, target_zips, standard = False, has_zipcodes = True, locs = target_locs)\n",
    "target_hispanic_df.head()"
   ]
  },
  {
   "cell_type": "code",
   "execution_count": null,
   "metadata": {
    "code_folding": [
     0
    ]
   },
   "outputs": [],
   "source": [
    "# East African Basket for Target\n",
    "target_east_af_df = food_helper.target(target_east_af_foods, target_zips, standard = False, has_zipcodes = True, locs = target_locs)\n",
    "target_east_af_df.head()"
   ]
  },
  {
   "cell_type": "code",
   "execution_count": null,
   "metadata": {
    "code_folding": [
     0
    ]
   },
   "outputs": [],
   "source": [
    "# Eastern European Basket for Target\n",
    "target_east_eu_df = food_helper.target(target_east_eu_foods, target_zips, standard = False, has_zipcodes = True, locs = target_locs)\n",
    "target_east_eu_df.head()"
   ]
  },
  {
   "cell_type": "code",
   "execution_count": null,
   "metadata": {
    "code_folding": [
     0
    ]
   },
   "outputs": [],
   "source": [
    "# Southeast Asian Basket for Target\n",
    "target_se_asia_df = food_helper.target(target_se_asia_foods, target_zips, standard = False, has_zipcodes = True, locs = target_locs)\n",
    "target_se_asia_df.head()"
   ]
  },
  {
   "cell_type": "code",
   "execution_count": null,
   "metadata": {
    "code_folding": [
     0
    ]
   },
   "outputs": [],
   "source": [
    "# West African Basket for Target\n",
    "target_west_af_df = food_helper.target(target_west_af_foods, target_zips, standard = False, has_zipcodes = True, locs = target_locs)\n",
    "target_west_af_df.head()"
   ]
  },
  {
   "cell_type": "code",
   "execution_count": null,
   "metadata": {
    "code_folding": [
     0
    ]
   },
   "outputs": [],
   "source": [
    "# Target to csv\n",
    "# target_east_af_df.to_csv('Target_East_Af_Food.csv')\n",
    "# target_east_eu_df.to_csv('Target_East_Eu_Food.csv')\n",
    "# target_se_asia_df.to_csv('Target_SE_Asia_Food.csv')\n",
    "# target_west_af_df.to_csv('Target_West_Af_Food.csv')"
   ]
  },
  {
   "cell_type": "markdown",
   "metadata": {},
   "source": [
    "## Whole Foods"
   ]
  },
  {
   "cell_type": "code",
   "execution_count": 5,
   "metadata": {
    "code_folding": [
     0
    ]
   },
   "outputs": [],
   "source": [
    "# Whole Foods Basket\n",
    "wfm_foods = [\"Whole Milk, 1 Gallon\", \"Large Eggs\", \"Plain Bagels\", \"Sandwich Bread Whole Wheat\",\n",
    "             \"Pasta Penne Rigate\", \"Fuji Apple\", \"Ground Turkey Thigh\", \"Sliced Ham Value Pack\",\n",
    "             \"Butter, Unsalted 4 Quarters\", \"Organic Russet Potato\", \"Navel Orange\", \"Tomato Sauce\",\n",
    "             \"Ground Beef 80%\", \"Shredded Mexican Blend\", \"Organic Yogurt Whole Milk\", \"Frosted Wheat Squares\"]\n",
    "\n",
    "wfm_hispanic_foods = [\"Large Hass Avocado\", \"Shelf-Stable Black Beans\", \"Shreddedd Mexican Blend\", \"Organic Tortillas\",\n",
    "                      \"Large Green Chiles\", \"Jalapeno Peppers\", \"Shelf-Stable Garbanzo Salt\",\n",
    "                      \"Green Bell Pepper\", \"Shelf-Stable Pinto Salt\", \"White Rice 80\",\n",
    "                      \"Medium Salsa Batch\", \"Squash\", \"Tomatillo\", \"Roma Tomato\"]\n",
    "# No Masa\n",
    "# no mixed fruit?\n",
    "\n",
    "wfm_east_af_foods = [\"Barley\", \"Curry Powder\", \"Dried Fruit Dates\",\n",
    "                     \"Salt Stable Garbanzo\", \"Red Lentils\", \"Pasta Spaghetti\",\n",
    "                     \"Teff\", \"Tomato Sauce\", \"Canned Tuna 5oz Everday\"]\n",
    "\n",
    "wfm_east_eu_foods = [\"Barley\", \"Ground Beef 80%\", \"Red Beet Bunch\", \"Cabbage\",\n",
    "                     \"Sliced White Mushrooms\", \"Pork\", \"Russet Potatoes\", \"Wheat Flour\"]\n",
    "\n",
    "# wfm_indig_foods = []\n",
    "\n",
    "wfm_se_asia_foods = [\"Bamboo Shoots\", \"Baby Corn\", \"Vanilla Coconut Milk\", \"Thai Curry Paste\",\n",
    "                     \"Fish Sauce\", \"Vermicelli\", \"Rice Flour\", \"Rice Noodles\",\n",
    "                     \"Thai Jasmine Rice\", \"Yellow Squash\", \"Tofu\"]\n",
    "\n",
    "wfm_west_af_foods = [\"Black Eyed Peas\", \"Shelf Salt Pinto\", \"Whole Chicken\", \"Plantain\",\n",
    "                     \"Russet Potatoes\", \"Tomato Paste\"]"
   ]
  },
  {
   "cell_type": "markdown",
   "metadata": {},
   "source": [
    "Probably want to change below: visit "
   ]
  },
  {
   "cell_type": "code",
   "execution_count": 7,
   "metadata": {
    "code_folding": [
     0
    ]
   },
   "outputs": [
    {
     "name": "stderr",
     "output_type": "stream",
     "text": [
      "\n",
      "\n",
      "====== WebDriver manager ======\n",
      "Current google-chrome version is 97.0.4692\n",
      "Get LATEST driver version for 97.0.4692\n",
      "Driver [/Users/zacharyalerte/.wdm/drivers/chromedriver/mac64/97.0.4692.71/chromedriver] found in cache\n",
      "\n",
      "\n",
      "====== WebDriver manager ======\n",
      "Current google-chrome version is 97.0.4692\n",
      "Get LATEST driver version for 97.0.4692\n",
      "Driver [/Users/zacharyalerte/.wdm/drivers/chromedriver/mac64/97.0.4692.71/chromedriver] found in cache\n"
     ]
    },
    {
     "ename": "TimeoutException",
     "evalue": "Message: \n",
     "output_type": "error",
     "traceback": [
      "\u001b[0;31m---------------------------------------------------------------------------\u001b[0m",
      "\u001b[0;31mTimeoutException\u001b[0m                          Traceback (most recent call last)",
      "\u001b[0;32m<ipython-input-7-fc8377bd2f8e>\u001b[0m in \u001b[0;36m<module>\u001b[0;34m\u001b[0m\n\u001b[1;32m      1\u001b[0m \u001b[0;31m# Universal Basket for Whole Foods\u001b[0m\u001b[0;34m\u001b[0m\u001b[0;34m\u001b[0m\u001b[0;34m\u001b[0m\u001b[0m\n\u001b[0;32m----> 2\u001b[0;31m \u001b[0mwfm_df\u001b[0m\u001b[0;34m,\u001b[0m \u001b[0mwfm_zips\u001b[0m\u001b[0;34m,\u001b[0m \u001b[0mwfm_locs\u001b[0m \u001b[0;34m=\u001b[0m \u001b[0mfood_helper\u001b[0m\u001b[0;34m.\u001b[0m\u001b[0mwfm\u001b[0m\u001b[0;34m(\u001b[0m\u001b[0mwfm_foods\u001b[0m\u001b[0;34m,\u001b[0m \u001b[0mzipcodes\u001b[0m\u001b[0;34m)\u001b[0m\u001b[0;34m\u001b[0m\u001b[0;34m\u001b[0m\u001b[0m\n\u001b[0m\u001b[1;32m      3\u001b[0m \u001b[0mwfm_df\u001b[0m\u001b[0;34m.\u001b[0m\u001b[0mhead\u001b[0m\u001b[0;34m(\u001b[0m\u001b[0;34m)\u001b[0m\u001b[0;34m\u001b[0m\u001b[0;34m\u001b[0m\u001b[0m\n",
      "\u001b[0;32m~/Desktop/Spring 2021/UVA/food_helper.py\u001b[0m in \u001b[0;36mwfm\u001b[0;34m(foods, zipcodes, standard, east_euro, west_af, has_zipcodes, locs)\u001b[0m\n\u001b[1;32m   1368\u001b[0m     \u001b[0;32melse\u001b[0m\u001b[0;34m:\u001b[0m\u001b[0;34m\u001b[0m\u001b[0;34m\u001b[0m\u001b[0m\n\u001b[1;32m   1369\u001b[0m         \u001b[0mshortened_zipcodes\u001b[0m\u001b[0;34m,\u001b[0m \u001b[0mshortened_locations\u001b[0m \u001b[0;34m=\u001b[0m \u001b[0mwfm_locations\u001b[0m\u001b[0;34m(\u001b[0m\u001b[0mzipcodes\u001b[0m\u001b[0;34m)\u001b[0m\u001b[0;34m\u001b[0m\u001b[0;34m\u001b[0m\u001b[0m\n\u001b[0;32m-> 1370\u001b[0;31m     \u001b[0mitems_by_zip\u001b[0m \u001b[0;34m=\u001b[0m \u001b[0mwfm_driver\u001b[0m\u001b[0;34m(\u001b[0m\u001b[0mshortened_zipcodes\u001b[0m\u001b[0;34m,\u001b[0m \u001b[0mwfm_foods\u001b[0m \u001b[0;34m=\u001b[0m \u001b[0mfoods\u001b[0m\u001b[0;34m,\u001b[0m \u001b[0mstandard\u001b[0m \u001b[0;34m=\u001b[0m \u001b[0mstandard\u001b[0m\u001b[0;34m,\u001b[0m \u001b[0meast_euro\u001b[0m \u001b[0;34m=\u001b[0m \u001b[0meast_euro\u001b[0m\u001b[0;34m,\u001b[0m \u001b[0mwest_af\u001b[0m \u001b[0;34m=\u001b[0m \u001b[0mwest_af\u001b[0m\u001b[0;34m)\u001b[0m\u001b[0;34m\u001b[0m\u001b[0;34m\u001b[0m\u001b[0m\n\u001b[0m\u001b[1;32m   1371\u001b[0m     \u001b[0mprices_wfm\u001b[0m\u001b[0;34m,\u001b[0m \u001b[0mcleaned_items_wfm\u001b[0m\u001b[0;34m,\u001b[0m \u001b[0mother_info_wfm\u001b[0m \u001b[0;34m=\u001b[0m \u001b[0mwfm_price_item_other\u001b[0m\u001b[0;34m(\u001b[0m\u001b[0mitems_by_zip\u001b[0m\u001b[0;34m)\u001b[0m\u001b[0;34m\u001b[0m\u001b[0;34m\u001b[0m\u001b[0m\n\u001b[1;32m   1372\u001b[0m     \u001b[0mdf\u001b[0m \u001b[0;34m=\u001b[0m \u001b[0mmake_df\u001b[0m\u001b[0;34m(\u001b[0m\u001b[0mprices_wfm\u001b[0m\u001b[0;34m,\u001b[0m \u001b[0mcleaned_items_wfm\u001b[0m\u001b[0;34m,\u001b[0m \u001b[0mother_info_wfm\u001b[0m\u001b[0;34m,\u001b[0m \u001b[0mshortened_locations\u001b[0m\u001b[0;34m,\u001b[0m \u001b[0;34m\"Whole Foods\"\u001b[0m\u001b[0;34m)\u001b[0m\u001b[0;34m\u001b[0m\u001b[0;34m\u001b[0m\u001b[0m\n",
      "\u001b[0;32m~/Desktop/Spring 2021/UVA/food_helper.py\u001b[0m in \u001b[0;36mwfm_driver\u001b[0;34m(wfm_zipcodes, wfm_foods, sleep_time, driver_wait, standard, east_euro, west_af)\u001b[0m\n\u001b[1;32m   1314\u001b[0m             \u001b[0;31m# wait a bit then copy text on this food item, appending it to list\u001b[0m\u001b[0;34m\u001b[0m\u001b[0;34m\u001b[0m\u001b[0;34m\u001b[0m\u001b[0m\n\u001b[1;32m   1315\u001b[0m             \u001b[0mtime\u001b[0m\u001b[0;34m.\u001b[0m\u001b[0msleep\u001b[0m\u001b[0;34m(\u001b[0m\u001b[0msleep_time\u001b[0m\u001b[0;34m)\u001b[0m\u001b[0;34m\u001b[0m\u001b[0;34m\u001b[0m\u001b[0m\n\u001b[0;32m-> 1316\u001b[0;31m             \u001b[0melement\u001b[0m \u001b[0;34m=\u001b[0m \u001b[0mwait\u001b[0m\u001b[0;34m.\u001b[0m\u001b[0muntil\u001b[0m\u001b[0;34m(\u001b[0m\u001b[0mEC\u001b[0m\u001b[0;34m.\u001b[0m\u001b[0melement_to_be_clickable\u001b[0m\u001b[0;34m(\u001b[0m\u001b[0;34m(\u001b[0m\u001b[0mBy\u001b[0m\u001b[0;34m.\u001b[0m\u001b[0mCLASS_NAME\u001b[0m\u001b[0;34m,\u001b[0m \u001b[0;34m'w-pie--product-tile__content'\u001b[0m\u001b[0;34m)\u001b[0m\u001b[0;34m)\u001b[0m\u001b[0;34m)\u001b[0m\u001b[0;34m\u001b[0m\u001b[0;34m\u001b[0m\u001b[0m\n\u001b[0m\u001b[1;32m   1317\u001b[0m             \u001b[0mwfm_info\u001b[0m\u001b[0;34m.\u001b[0m\u001b[0mappend\u001b[0m\u001b[0;34m(\u001b[0m\u001b[0melement\u001b[0m\u001b[0;34m.\u001b[0m\u001b[0mtext\u001b[0m\u001b[0;34m)\u001b[0m\u001b[0;34m\u001b[0m\u001b[0;34m\u001b[0m\u001b[0m\n\u001b[1;32m   1318\u001b[0m \u001b[0;34m\u001b[0m\u001b[0m\n",
      "\u001b[0;32m~/anaconda3/lib/python3.7/site-packages/selenium/webdriver/support/wait.py\u001b[0m in \u001b[0;36muntil\u001b[0;34m(self, method, message)\u001b[0m\n\u001b[1;32m     78\u001b[0m             \u001b[0;32mif\u001b[0m \u001b[0mtime\u001b[0m\u001b[0;34m.\u001b[0m\u001b[0mtime\u001b[0m\u001b[0;34m(\u001b[0m\u001b[0;34m)\u001b[0m \u001b[0;34m>\u001b[0m \u001b[0mend_time\u001b[0m\u001b[0;34m:\u001b[0m\u001b[0;34m\u001b[0m\u001b[0;34m\u001b[0m\u001b[0m\n\u001b[1;32m     79\u001b[0m                 \u001b[0;32mbreak\u001b[0m\u001b[0;34m\u001b[0m\u001b[0;34m\u001b[0m\u001b[0m\n\u001b[0;32m---> 80\u001b[0;31m         \u001b[0;32mraise\u001b[0m \u001b[0mTimeoutException\u001b[0m\u001b[0;34m(\u001b[0m\u001b[0mmessage\u001b[0m\u001b[0;34m,\u001b[0m \u001b[0mscreen\u001b[0m\u001b[0;34m,\u001b[0m \u001b[0mstacktrace\u001b[0m\u001b[0;34m)\u001b[0m\u001b[0;34m\u001b[0m\u001b[0;34m\u001b[0m\u001b[0m\n\u001b[0m\u001b[1;32m     81\u001b[0m \u001b[0;34m\u001b[0m\u001b[0m\n\u001b[1;32m     82\u001b[0m     \u001b[0;32mdef\u001b[0m \u001b[0muntil_not\u001b[0m\u001b[0;34m(\u001b[0m\u001b[0mself\u001b[0m\u001b[0;34m,\u001b[0m \u001b[0mmethod\u001b[0m\u001b[0;34m,\u001b[0m \u001b[0mmessage\u001b[0m\u001b[0;34m=\u001b[0m\u001b[0;34m''\u001b[0m\u001b[0;34m)\u001b[0m\u001b[0;34m:\u001b[0m\u001b[0;34m\u001b[0m\u001b[0;34m\u001b[0m\u001b[0m\n",
      "\u001b[0;31mTimeoutException\u001b[0m: Message: \n"
     ]
    }
   ],
   "source": [
    "# Universal Basket for Whole Foods\n",
    "wfm_df, wfm_zips, wfm_locs = food_helper.wfm(wfm_foods, zipcodes)\n",
    "wfm_df.head()"
   ]
  },
  {
   "cell_type": "code",
   "execution_count": null,
   "metadata": {
    "code_folding": [
     0
    ]
   },
   "outputs": [],
   "source": [
    "# Latinx Basket for Whole Foods\n",
    "wfm_hispanic_df = food_helper.wfm(wfm_hispanic_foods, wfm_zips, standard = False, has_zipcodes = True, locs = wfm_locs)\n",
    "wfm_hispanic_df.head()"
   ]
  },
  {
   "cell_type": "code",
   "execution_count": null,
   "metadata": {
    "code_folding": [
     0
    ]
   },
   "outputs": [],
   "source": [
    "# East African Basket for Whole Foods\n",
    "wfm_east_af_df = food_helper.wfm(wfm_east_af_foods, wfm_zips, standard = False, has_zipcodes = True, locs = wfm_locs)\n",
    "wfm_east_af_df.head()"
   ]
  },
  {
   "cell_type": "code",
   "execution_count": null,
   "metadata": {
    "code_folding": [
     0
    ]
   },
   "outputs": [],
   "source": [
    "# Eastern European Basket for Whole Foods\n",
    "wfm_east_eu_df = food_helper.wfm(wfm_east_eu_foods, wfm_zips, standard = False, east_euro = True, has_zipcodes = True, locs = wfm_locs)\n",
    "wfm_east_eu_df.head()"
   ]
  },
  {
   "cell_type": "code",
   "execution_count": null,
   "metadata": {
    "code_folding": [
     0
    ]
   },
   "outputs": [],
   "source": [
    "# Southeast Asian Basket for Whole Foods\n",
    "wfm_se_asia_df = food_helper.wfm(wfm_se_asia_foods, wfm_zips, standard = False, has_zipcodes = True, locs = wfm_locs)\n",
    "wfm_se_asia_df.head()"
   ]
  },
  {
   "cell_type": "code",
   "execution_count": null,
   "metadata": {
    "code_folding": [
     0
    ]
   },
   "outputs": [],
   "source": [
    "# East African Basket for Whole Foods\n",
    "wfm_west_af_df = food_helper.wfm(wfm_west_af_foods, wfm_zips, standard = False, west_af = True, has_zipcodes = True, locs = wfm_locs)\n",
    "wfm_west_af_df.head()"
   ]
  },
  {
   "cell_type": "code",
   "execution_count": null,
   "metadata": {
    "code_folding": [
     0
    ]
   },
   "outputs": [],
   "source": [
    "# Whole Foods to csv\n",
    "# wfm_east_af_df.to_csv('WFM_East_Af_Food.csv')\n",
    "# wfm_east_eu_df.to_csv('WFM_East_Eu_Food.csv')\n",
    "# wfm_se_asia_df.to_csv('WFM_SE_Asia_Food.csv')\n",
    "# wfm_west_af_df.to_csv('WFM_West_Af_Food.csv')"
   ]
  },
  {
   "cell_type": "markdown",
   "metadata": {},
   "source": [
    "## Lidl"
   ]
  },
  {
   "cell_type": "code",
   "execution_count": 8,
   "metadata": {
    "code_folding": [
     0
    ]
   },
   "outputs": [],
   "source": [
    "# Lidl Baskets\n",
    "# lidl\n",
    "lidl_foods = [\"Whole Milk\", \"12 Large Eggs\", \"Bagels\", \"Wheat Bread\",\n",
    "              \"Penne Pasta Rigate\", \"Gala Apples\", \"Ground Turkey\", \"Sliced Ham\",\n",
    "              \"Salted Butter\", \"Russet Potatoes\", \"Oranges\", \"Roma Tomatoes\",\n",
    "              \"80% Ground Beef\", \"Mexican Cheese\", \"Yogurt\", \"Frosted Flakes Cereal\"]\n",
    "# second option with whole milk\n",
    "\n",
    "lidl_latinx_basket = [\"Avocado\", \"Beets\", \"Black Beans\", \"Mexican Cheese\",\n",
    "                      \"Small Corn Tortilla\", \"Green Bell Peppers, 3 Count\",\n",
    "                      \"Pinto Beans\", \"Long Grain Enriched White Rice\",\n",
    "                      \"Medium Salsa\", \"Squash\", \"Tomatillos\", \"Roma Tomatoes\"]\n",
    "# coocked beats??\n",
    "# are we interested in canned or dry beans??\n",
    "\n",
    "lidl_east_af_basket = [\"Pinto Beans\", \"Dried Dates\", \"Garbanzo Beans\", \"Lentils\", \"Basmati Rice\",\n",
    "                       \"Spaghetti Pasta\", \"Tomato Sauce\", \"Tuna\"]\n",
    "\n",
    "lidl_east_eu_basket = [\"80% Ground Beef\", \"Beets\", \"Green Cabbage\", \"Ground Lamb\", \"Lentils\", \n",
    "                       \"Mushrooms\", \"Pork\", \"Russet Potatoes\", \"Wheat Flour\"]\n",
    "\n",
    "lidl_se_asia_basket = [\"Goya Coconut Milk\", \"Edamame\", \"Eggplant\",\n",
    "                       \"Taste of Thai Rice Noodles\", \"Jasmine Rice\", \"Squash\"]\n",
    "\n",
    "lidl_west_af_basket = [\"Black Eyed Peas\", \"Pinto Beans\", \"Farm Chicken Drumsticks\", \"Chicken Bouillon Cubes\",\n",
    "                       \"Russet Potatoes\", \"Tomato Paste\", \"Red Yams\", \"Yuca\"]\n",
    "# what part of chicken...\n",
    "\n",
    "lidl_baskets = [lidl_foods, lidl_latinx_basket, lidl_east_af_basket,\n",
    "              lidl_east_eu_basket, lidl_se_asia_basket, lidl_west_af_basket]\n"
   ]
  },
  {
   "cell_type": "code",
   "execution_count": 10,
   "metadata": {
    "code_folding": [
     0
    ]
   },
   "outputs": [
    {
     "name": "stderr",
     "output_type": "stream",
     "text": [
      "\n",
      "\n",
      "====== WebDriver manager ======\n",
      "Current google-chrome version is 97.0.4692\n",
      "Get LATEST driver version for 97.0.4692\n",
      "Driver [/Users/zacharyalerte/.wdm/drivers/chromedriver/mac64/97.0.4692.71/chromedriver] found in cache\n"
     ]
    },
    {
     "ename": "TimeoutException",
     "evalue": "Message: \n",
     "output_type": "error",
     "traceback": [
      "\u001b[0;31m---------------------------------------------------------------------------\u001b[0m",
      "\u001b[0;31mTimeoutException\u001b[0m                          Traceback (most recent call last)",
      "\u001b[0;32m<ipython-input-10-967c1e4ab935>\u001b[0m in \u001b[0;36m<module>\u001b[0;34m\u001b[0m\n\u001b[1;32m      4\u001b[0m \u001b[0;34m\u001b[0m\u001b[0m\n\u001b[1;32m      5\u001b[0m food_helper.lidl(lidl_names, zipcodes, [], 2, 20, True, lidl_foods, lidl_latinx_basket,\n\u001b[0;32m----> 6\u001b[0;31m                  lidl_east_af_basket, lidl_east_eu_basket, lidl_se_asia_basket, lidl_west_af_basket)\n\u001b[0m",
      "\u001b[0;32m~/Desktop/Spring 2021/UVA/food_helper.py\u001b[0m in \u001b[0;36mlidl\u001b[0;34m(names, zipcodes, short_lidl_zips, sleep_time, driver_wait, get_zips, *args)\u001b[0m\n\u001b[1;32m   1809\u001b[0m     \u001b[0;31m# get zipcodes if get_zips passed into function\u001b[0m\u001b[0;34m\u001b[0m\u001b[0;34m\u001b[0m\u001b[0;34m\u001b[0m\u001b[0m\n\u001b[1;32m   1810\u001b[0m     \u001b[0;32mif\u001b[0m \u001b[0mget_zips\u001b[0m\u001b[0;34m:\u001b[0m\u001b[0;34m\u001b[0m\u001b[0;34m\u001b[0m\u001b[0m\n\u001b[0;32m-> 1811\u001b[0;31m         \u001b[0mstores\u001b[0m\u001b[0;34m,\u001b[0m \u001b[0mshort_lidl_zips\u001b[0m \u001b[0;34m=\u001b[0m \u001b[0mget_lidl_zipcodes\u001b[0m\u001b[0;34m(\u001b[0m\u001b[0mzipcodes\u001b[0m\u001b[0;34m,\u001b[0m \u001b[0mdriver_wait\u001b[0m \u001b[0;34m=\u001b[0m \u001b[0;36m20\u001b[0m\u001b[0;34m)\u001b[0m\u001b[0;34m\u001b[0m\u001b[0;34m\u001b[0m\u001b[0m\n\u001b[0m\u001b[1;32m   1812\u001b[0m \u001b[0;34m\u001b[0m\u001b[0m\n\u001b[1;32m   1813\u001b[0m     \u001b[0;31m# create Lidl driver and maximize window\u001b[0m\u001b[0;34m\u001b[0m\u001b[0;34m\u001b[0m\u001b[0;34m\u001b[0m\u001b[0m\n",
      "\u001b[0;32m~/Desktop/Spring 2021/UVA/food_helper.py\u001b[0m in \u001b[0;36mget_lidl_zipcodes\u001b[0;34m(zipcodes, driver_wait, sleep_time)\u001b[0m\n\u001b[1;32m   1746\u001b[0m     \u001b[0mpassword\u001b[0m \u001b[0;34m=\u001b[0m \u001b[0mwait\u001b[0m\u001b[0;34m.\u001b[0m\u001b[0muntil\u001b[0m\u001b[0;34m(\u001b[0m\u001b[0mEC\u001b[0m\u001b[0;34m.\u001b[0m\u001b[0melement_to_be_clickable\u001b[0m\u001b[0;34m(\u001b[0m\u001b[0;34m(\u001b[0m\u001b[0mBy\u001b[0m\u001b[0;34m.\u001b[0m\u001b[0mID\u001b[0m\u001b[0;34m,\u001b[0m \u001b[0;34m\"input1\"\u001b[0m\u001b[0;34m)\u001b[0m\u001b[0;34m)\u001b[0m\u001b[0;34m)\u001b[0m\u001b[0;34m\u001b[0m\u001b[0;34m\u001b[0m\u001b[0m\n\u001b[1;32m   1747\u001b[0m     \u001b[0mpassword\u001b[0m\u001b[0;34m.\u001b[0m\u001b[0msend_keys\u001b[0m\u001b[0;34m(\u001b[0m\u001b[0;34m\"uvaSDAD2021!\"\u001b[0m\u001b[0;34m)\u001b[0m\u001b[0;34m\u001b[0m\u001b[0;34m\u001b[0m\u001b[0m\n\u001b[0;32m-> 1748\u001b[0;31m     \u001b[0msign_in\u001b[0m \u001b[0;34m=\u001b[0m \u001b[0mwait\u001b[0m\u001b[0;34m.\u001b[0m\u001b[0muntil\u001b[0m\u001b[0;34m(\u001b[0m\u001b[0mEC\u001b[0m\u001b[0;34m.\u001b[0m\u001b[0melement_to_be_clickable\u001b[0m\u001b[0;34m(\u001b[0m\u001b[0;34m(\u001b[0m\u001b[0mBy\u001b[0m\u001b[0;34m.\u001b[0m\u001b[0mXPATH\u001b[0m\u001b[0;34m,\u001b[0m \u001b[0;34m\"/html/body/div[1]/div/div/div[1]/form/div/button[5]\"\u001b[0m\u001b[0;34m)\u001b[0m\u001b[0;34m)\u001b[0m\u001b[0;34m)\u001b[0m\u001b[0;34m\u001b[0m\u001b[0;34m\u001b[0m\u001b[0m\n\u001b[0m\u001b[1;32m   1749\u001b[0m     \u001b[0msign_in\u001b[0m\u001b[0;34m.\u001b[0m\u001b[0mclick\u001b[0m\u001b[0;34m(\u001b[0m\u001b[0;34m)\u001b[0m\u001b[0;34m\u001b[0m\u001b[0;34m\u001b[0m\u001b[0m\n\u001b[1;32m   1750\u001b[0m \u001b[0;34m\u001b[0m\u001b[0m\n",
      "\u001b[0;32m~/anaconda3/lib/python3.7/site-packages/selenium/webdriver/support/wait.py\u001b[0m in \u001b[0;36muntil\u001b[0;34m(self, method, message)\u001b[0m\n\u001b[1;32m     78\u001b[0m             \u001b[0;32mif\u001b[0m \u001b[0mtime\u001b[0m\u001b[0;34m.\u001b[0m\u001b[0mtime\u001b[0m\u001b[0;34m(\u001b[0m\u001b[0;34m)\u001b[0m \u001b[0;34m>\u001b[0m \u001b[0mend_time\u001b[0m\u001b[0;34m:\u001b[0m\u001b[0;34m\u001b[0m\u001b[0;34m\u001b[0m\u001b[0m\n\u001b[1;32m     79\u001b[0m                 \u001b[0;32mbreak\u001b[0m\u001b[0;34m\u001b[0m\u001b[0;34m\u001b[0m\u001b[0m\n\u001b[0;32m---> 80\u001b[0;31m         \u001b[0;32mraise\u001b[0m \u001b[0mTimeoutException\u001b[0m\u001b[0;34m(\u001b[0m\u001b[0mmessage\u001b[0m\u001b[0;34m,\u001b[0m \u001b[0mscreen\u001b[0m\u001b[0;34m,\u001b[0m \u001b[0mstacktrace\u001b[0m\u001b[0;34m)\u001b[0m\u001b[0;34m\u001b[0m\u001b[0;34m\u001b[0m\u001b[0m\n\u001b[0m\u001b[1;32m     81\u001b[0m \u001b[0;34m\u001b[0m\u001b[0m\n\u001b[1;32m     82\u001b[0m     \u001b[0;32mdef\u001b[0m \u001b[0muntil_not\u001b[0m\u001b[0;34m(\u001b[0m\u001b[0mself\u001b[0m\u001b[0;34m,\u001b[0m \u001b[0mmethod\u001b[0m\u001b[0;34m,\u001b[0m \u001b[0mmessage\u001b[0m\u001b[0;34m=\u001b[0m\u001b[0;34m''\u001b[0m\u001b[0;34m)\u001b[0m\u001b[0;34m:\u001b[0m\u001b[0;34m\u001b[0m\u001b[0;34m\u001b[0m\u001b[0m\n",
      "\u001b[0;31mTimeoutException\u001b[0m: Message: \n"
     ]
    }
   ],
   "source": [
    "# Lidl Drivers for all groups and to csv!\n",
    "lidl_names = np.array(['Lidl_Universal_Food.csv', 'Lidl_Latinx_Food.csv', 'Lidl_East_Af_Food.csv',\n",
    "                  'Lidl_East_Eu_Food.csv', 'Lidl_SE_Asia_Food.csv', 'Lidl_West_Af_Food.csv'])\n",
    "\n",
    "food_helper.lidl(lidl_names, zipcodes, [], 2, 20, True, lidl_foods, lidl_latinx_basket,\n",
    "                 lidl_east_af_basket, lidl_east_eu_basket, lidl_se_asia_basket, lidl_west_af_basket)"
   ]
  },
  {
   "cell_type": "markdown",
   "metadata": {},
   "source": [
    "## Putting DataFrames together"
   ]
  },
  {
   "cell_type": "code",
   "execution_count": null,
   "metadata": {
    "code_folding": [
     0
    ]
   },
   "outputs": [],
   "source": [
    "# # TO CSV!\n",
    "# # Universal\n",
    "# giant_df.to_csv('Giant_Universal_Food.csv')\n",
    "# ht_df.to_csv('HT_Universal_Food.csv')\n",
    "# sw_df.to_csv('SW_Universal_Food.csv')\n",
    "# aldi_df.to_csv('Aldi_Universal_Food.csv')\n",
    "# target_df.to_csv('Target_Universal_Food.csv')\n",
    "# wfm_df.to_csv('WFM_Universal_Food.csv')\n",
    "\n",
    "# # Latinx\n",
    "# giant_hispanic_df.to_csv('Giant_Latinx_Food.csv')\n",
    "# ht_hispanic_df.to_csv('HT_Latinx_Food.csv')\n",
    "# sw_hispanic_df.to_csv('SW_Latinx_Food.csv')\n",
    "# aldi_hispanic_df.to_csv('Aldi_Latinx_Food.csv')\n",
    "# target_hispanic_df.to_csv('Target_Latinx_Food.csv')\n",
    "# wfm_hispanic_df.to_csv('WFM_Latinx_Food.csv')\n",
    "\n",
    "# # East African\n",
    "# giant_east_af_df.to_csv('Giant_East_Af_Food.csv')\n",
    "# ht_east_af_df.to_csv('HT_East_Af_Food.csv')\n",
    "# sw_east_af_df.to_csv('SW_East_Af_Food.csv')\n",
    "# aldi_east_af_df.to_csv('Aldi_East_Af_Food.csv')\n",
    "# target_east_af_df.to_csv('Target_East_Af_Food.csv')\n",
    "# wfm_east_af_df.to_csv('WFM_East_Af_Food.csv')\n",
    "\n",
    "# # Eastern European\n",
    "# giant_east_eu_df.to_csv('Giant_East_Eu_Food.csv')\n",
    "# ht_east_eu_df.to_csv('HT_East_Eu_Food.csv')\n",
    "# sw_east_eu_df.to_csv('SW_East_Eu_Food.csv')\n",
    "# aldi_east_eu_df.to_csv('Aldi_East_Eu_Food.csv')\n",
    "# target_east_eu_df.to_csv('Target_East_Eu_Food.csv')\n",
    "# wfm_east_eu_df.to_csv('WFM_East_Eu_Food.csv')\n",
    "\n",
    "# # Indigenous/Native\n",
    "# # giant_df.to_csv('Giant_Universal_Food.csv')\n",
    "# # ht_df.to_csv('HT_Universal_Food.csv')\n",
    "# # sw_df.to_csv('SW_Universal_Food.csv')\n",
    "# # aldi_df.to_csv('Aldi_Universal_Food.csv')\n",
    "# # target_df.to_csv('Target_Universal_Food.csv')\n",
    "# # wfm_df.to_csv('WFM_Universal_Food.csv')\n",
    "\n",
    "# # Southeast Asian\n",
    "# giant_se_asia_df.to_csv('Giant_SE_Asia_Food.csv')\n",
    "# ht_se_asia_df.to_csv('HT_SE_Asia_Food.csv')\n",
    "# sw_se_asia_df.to_csv('SW_SE_Asia_Food.csv')\n",
    "# aldi_se_asia_df.to_csv('Aldi_SE_Asia_Food.csv')\n",
    "# target_se_asia_df.to_csv('Target_SE_Asia_Food.csv')\n",
    "# wfm_se_asia_df.to_csv('WFM_SE_Asia_Food.csv')\n",
    "\n",
    "# # West African\n",
    "# giant_west_af_df.to_csv('Giant_West_Af_Food.csv')\n",
    "# ht_west_af_df.to_csv('HT_West_Af_Food.csv')\n",
    "# sw_west_af_df.to_csv('SW_West_Af_Food.csv')\n",
    "# aldi_west_af_df.to_csv('Aldi_West_Af_Food.csv')\n",
    "# target_west_af_df.to_csv('Target_West_Af_Food.csv')\n",
    "# wfm_west_af_df.to_csv('WFM_West_Af_Food.csv')"
   ]
  },
  {
   "cell_type": "code",
   "execution_count": null,
   "metadata": {
    "code_folding": [
     0
    ]
   },
   "outputs": [],
   "source": [
    "# # Put data together by basket across stores and into CSVs!\n",
    "# # Universal\n",
    "# universal_df = pd.concat([giant_df, ht_df, sw_df, aldi_df, target_df, wfm_df], ignore_index=True)\n",
    "# display(universal_df.head())\n",
    "# universal_df.to_csv('Universal_Food.csv')\n",
    "\n",
    "# # Latinx\n",
    "# latinx_df = pd.concat([giant_hispanic_df, ht_hispanic_df, sw_hispanic_df, aldi_hispanic_df, target_hispanic_df, wfm_hispanic_df], ignore_index=True)\n",
    "# display(latinx_df.head())\n",
    "# latinx_df.to_csv('Latinx_Food.csv')"
   ]
  },
  {
   "cell_type": "markdown",
   "metadata": {},
   "source": [
    "## Load dataframes for inspection"
   ]
  },
  {
   "cell_type": "code",
   "execution_count": 16,
   "metadata": {
    "code_folding": [],
    "scrolled": true
   },
   "outputs": [
    {
     "ename": "FileNotFoundError",
     "evalue": "[Errno 2] No such file or directory: 'Giant_Universal_Food.csv'",
     "output_type": "error",
     "traceback": [
      "\u001b[0;31m---------------------------------------------------------------------------\u001b[0m",
      "\u001b[0;31mFileNotFoundError\u001b[0m                         Traceback (most recent call last)",
      "\u001b[0;32m<ipython-input-16-3ed9eb001a57>\u001b[0m in \u001b[0;36m<module>\u001b[0;34m\u001b[0m\n\u001b[1;32m      1\u001b[0m \u001b[0;31m# LOAD DATAFRAMES\u001b[0m\u001b[0;34m\u001b[0m\u001b[0;34m\u001b[0m\u001b[0;34m\u001b[0m\u001b[0m\n\u001b[1;32m      2\u001b[0m \u001b[0;31m# Universal\u001b[0m\u001b[0;34m\u001b[0m\u001b[0;34m\u001b[0m\u001b[0;34m\u001b[0m\u001b[0m\n\u001b[0;32m----> 3\u001b[0;31m \u001b[0mgiant_df\u001b[0m \u001b[0;34m=\u001b[0m \u001b[0mpd\u001b[0m\u001b[0;34m.\u001b[0m\u001b[0mread_csv\u001b[0m\u001b[0;34m(\u001b[0m\u001b[0;34m'Giant_Universal_Food.csv'\u001b[0m\u001b[0;34m,\u001b[0m \u001b[0;34m)\u001b[0m\u001b[0;34m\u001b[0m\u001b[0;34m\u001b[0m\u001b[0m\n\u001b[0m\u001b[1;32m      4\u001b[0m \u001b[0mht_df\u001b[0m \u001b[0;34m=\u001b[0m \u001b[0mpd\u001b[0m\u001b[0;34m.\u001b[0m\u001b[0mread_csv\u001b[0m\u001b[0;34m(\u001b[0m\u001b[0;34m'HT_Universal_Food.csv'\u001b[0m\u001b[0;34m)\u001b[0m\u001b[0;34m\u001b[0m\u001b[0;34m\u001b[0m\u001b[0m\n\u001b[1;32m      5\u001b[0m \u001b[0msw_df\u001b[0m \u001b[0;34m=\u001b[0m \u001b[0mpd\u001b[0m\u001b[0;34m.\u001b[0m\u001b[0mread_csv\u001b[0m\u001b[0;34m(\u001b[0m\u001b[0;34m'SW_Universal_Food.csv'\u001b[0m\u001b[0;34m)\u001b[0m\u001b[0;34m\u001b[0m\u001b[0;34m\u001b[0m\u001b[0m\n",
      "\u001b[0;32m~/anaconda3/lib/python3.7/site-packages/pandas/util/_decorators.py\u001b[0m in \u001b[0;36mwrapper\u001b[0;34m(*args, **kwargs)\u001b[0m\n\u001b[1;32m    309\u001b[0m                     \u001b[0mstacklevel\u001b[0m\u001b[0;34m=\u001b[0m\u001b[0mstacklevel\u001b[0m\u001b[0;34m,\u001b[0m\u001b[0;34m\u001b[0m\u001b[0;34m\u001b[0m\u001b[0m\n\u001b[1;32m    310\u001b[0m                 )\n\u001b[0;32m--> 311\u001b[0;31m             \u001b[0;32mreturn\u001b[0m \u001b[0mfunc\u001b[0m\u001b[0;34m(\u001b[0m\u001b[0;34m*\u001b[0m\u001b[0margs\u001b[0m\u001b[0;34m,\u001b[0m \u001b[0;34m**\u001b[0m\u001b[0mkwargs\u001b[0m\u001b[0;34m)\u001b[0m\u001b[0;34m\u001b[0m\u001b[0;34m\u001b[0m\u001b[0m\n\u001b[0m\u001b[1;32m    312\u001b[0m \u001b[0;34m\u001b[0m\u001b[0m\n\u001b[1;32m    313\u001b[0m         \u001b[0;32mreturn\u001b[0m \u001b[0mwrapper\u001b[0m\u001b[0;34m\u001b[0m\u001b[0;34m\u001b[0m\u001b[0m\n",
      "\u001b[0;32m~/anaconda3/lib/python3.7/site-packages/pandas/io/parsers/readers.py\u001b[0m in \u001b[0;36mread_csv\u001b[0;34m(filepath_or_buffer, sep, delimiter, header, names, index_col, usecols, squeeze, prefix, mangle_dupe_cols, dtype, engine, converters, true_values, false_values, skipinitialspace, skiprows, skipfooter, nrows, na_values, keep_default_na, na_filter, verbose, skip_blank_lines, parse_dates, infer_datetime_format, keep_date_col, date_parser, dayfirst, cache_dates, iterator, chunksize, compression, thousands, decimal, lineterminator, quotechar, quoting, doublequote, escapechar, comment, encoding, encoding_errors, dialect, error_bad_lines, warn_bad_lines, on_bad_lines, delim_whitespace, low_memory, memory_map, float_precision, storage_options)\u001b[0m\n\u001b[1;32m    584\u001b[0m     \u001b[0mkwds\u001b[0m\u001b[0;34m.\u001b[0m\u001b[0mupdate\u001b[0m\u001b[0;34m(\u001b[0m\u001b[0mkwds_defaults\u001b[0m\u001b[0;34m)\u001b[0m\u001b[0;34m\u001b[0m\u001b[0;34m\u001b[0m\u001b[0m\n\u001b[1;32m    585\u001b[0m \u001b[0;34m\u001b[0m\u001b[0m\n\u001b[0;32m--> 586\u001b[0;31m     \u001b[0;32mreturn\u001b[0m \u001b[0m_read\u001b[0m\u001b[0;34m(\u001b[0m\u001b[0mfilepath_or_buffer\u001b[0m\u001b[0;34m,\u001b[0m \u001b[0mkwds\u001b[0m\u001b[0;34m)\u001b[0m\u001b[0;34m\u001b[0m\u001b[0;34m\u001b[0m\u001b[0m\n\u001b[0m\u001b[1;32m    587\u001b[0m \u001b[0;34m\u001b[0m\u001b[0m\n\u001b[1;32m    588\u001b[0m \u001b[0;34m\u001b[0m\u001b[0m\n",
      "\u001b[0;32m~/anaconda3/lib/python3.7/site-packages/pandas/io/parsers/readers.py\u001b[0m in \u001b[0;36m_read\u001b[0;34m(filepath_or_buffer, kwds)\u001b[0m\n\u001b[1;32m    480\u001b[0m \u001b[0;34m\u001b[0m\u001b[0m\n\u001b[1;32m    481\u001b[0m     \u001b[0;31m# Create the parser.\u001b[0m\u001b[0;34m\u001b[0m\u001b[0;34m\u001b[0m\u001b[0;34m\u001b[0m\u001b[0m\n\u001b[0;32m--> 482\u001b[0;31m     \u001b[0mparser\u001b[0m \u001b[0;34m=\u001b[0m \u001b[0mTextFileReader\u001b[0m\u001b[0;34m(\u001b[0m\u001b[0mfilepath_or_buffer\u001b[0m\u001b[0;34m,\u001b[0m \u001b[0;34m**\u001b[0m\u001b[0mkwds\u001b[0m\u001b[0;34m)\u001b[0m\u001b[0;34m\u001b[0m\u001b[0;34m\u001b[0m\u001b[0m\n\u001b[0m\u001b[1;32m    483\u001b[0m \u001b[0;34m\u001b[0m\u001b[0m\n\u001b[1;32m    484\u001b[0m     \u001b[0;32mif\u001b[0m \u001b[0mchunksize\u001b[0m \u001b[0;32mor\u001b[0m \u001b[0miterator\u001b[0m\u001b[0;34m:\u001b[0m\u001b[0;34m\u001b[0m\u001b[0;34m\u001b[0m\u001b[0m\n",
      "\u001b[0;32m~/anaconda3/lib/python3.7/site-packages/pandas/io/parsers/readers.py\u001b[0m in \u001b[0;36m__init__\u001b[0;34m(self, f, engine, **kwds)\u001b[0m\n\u001b[1;32m    809\u001b[0m             \u001b[0mself\u001b[0m\u001b[0;34m.\u001b[0m\u001b[0moptions\u001b[0m\u001b[0;34m[\u001b[0m\u001b[0;34m\"has_index_names\"\u001b[0m\u001b[0;34m]\u001b[0m \u001b[0;34m=\u001b[0m \u001b[0mkwds\u001b[0m\u001b[0;34m[\u001b[0m\u001b[0;34m\"has_index_names\"\u001b[0m\u001b[0;34m]\u001b[0m\u001b[0;34m\u001b[0m\u001b[0;34m\u001b[0m\u001b[0m\n\u001b[1;32m    810\u001b[0m \u001b[0;34m\u001b[0m\u001b[0m\n\u001b[0;32m--> 811\u001b[0;31m         \u001b[0mself\u001b[0m\u001b[0;34m.\u001b[0m\u001b[0m_engine\u001b[0m \u001b[0;34m=\u001b[0m \u001b[0mself\u001b[0m\u001b[0;34m.\u001b[0m\u001b[0m_make_engine\u001b[0m\u001b[0;34m(\u001b[0m\u001b[0mself\u001b[0m\u001b[0;34m.\u001b[0m\u001b[0mengine\u001b[0m\u001b[0;34m)\u001b[0m\u001b[0;34m\u001b[0m\u001b[0;34m\u001b[0m\u001b[0m\n\u001b[0m\u001b[1;32m    812\u001b[0m \u001b[0;34m\u001b[0m\u001b[0m\n\u001b[1;32m    813\u001b[0m     \u001b[0;32mdef\u001b[0m \u001b[0mclose\u001b[0m\u001b[0;34m(\u001b[0m\u001b[0mself\u001b[0m\u001b[0;34m)\u001b[0m\u001b[0;34m:\u001b[0m\u001b[0;34m\u001b[0m\u001b[0;34m\u001b[0m\u001b[0m\n",
      "\u001b[0;32m~/anaconda3/lib/python3.7/site-packages/pandas/io/parsers/readers.py\u001b[0m in \u001b[0;36m_make_engine\u001b[0;34m(self, engine)\u001b[0m\n\u001b[1;32m   1038\u001b[0m             )\n\u001b[1;32m   1039\u001b[0m         \u001b[0;31m# error: Too many arguments for \"ParserBase\"\u001b[0m\u001b[0;34m\u001b[0m\u001b[0;34m\u001b[0m\u001b[0;34m\u001b[0m\u001b[0m\n\u001b[0;32m-> 1040\u001b[0;31m         \u001b[0;32mreturn\u001b[0m \u001b[0mmapping\u001b[0m\u001b[0;34m[\u001b[0m\u001b[0mengine\u001b[0m\u001b[0;34m]\u001b[0m\u001b[0;34m(\u001b[0m\u001b[0mself\u001b[0m\u001b[0;34m.\u001b[0m\u001b[0mf\u001b[0m\u001b[0;34m,\u001b[0m \u001b[0;34m**\u001b[0m\u001b[0mself\u001b[0m\u001b[0;34m.\u001b[0m\u001b[0moptions\u001b[0m\u001b[0;34m)\u001b[0m  \u001b[0;31m# type: ignore[call-arg]\u001b[0m\u001b[0;34m\u001b[0m\u001b[0;34m\u001b[0m\u001b[0m\n\u001b[0m\u001b[1;32m   1041\u001b[0m \u001b[0;34m\u001b[0m\u001b[0m\n\u001b[1;32m   1042\u001b[0m     \u001b[0;32mdef\u001b[0m \u001b[0m_failover_to_python\u001b[0m\u001b[0;34m(\u001b[0m\u001b[0mself\u001b[0m\u001b[0;34m)\u001b[0m\u001b[0;34m:\u001b[0m\u001b[0;34m\u001b[0m\u001b[0;34m\u001b[0m\u001b[0m\n",
      "\u001b[0;32m~/anaconda3/lib/python3.7/site-packages/pandas/io/parsers/c_parser_wrapper.py\u001b[0m in \u001b[0;36m__init__\u001b[0;34m(self, src, **kwds)\u001b[0m\n\u001b[1;32m     49\u001b[0m \u001b[0;34m\u001b[0m\u001b[0m\n\u001b[1;32m     50\u001b[0m         \u001b[0;31m# open handles\u001b[0m\u001b[0;34m\u001b[0m\u001b[0;34m\u001b[0m\u001b[0;34m\u001b[0m\u001b[0m\n\u001b[0;32m---> 51\u001b[0;31m         \u001b[0mself\u001b[0m\u001b[0;34m.\u001b[0m\u001b[0m_open_handles\u001b[0m\u001b[0;34m(\u001b[0m\u001b[0msrc\u001b[0m\u001b[0;34m,\u001b[0m \u001b[0mkwds\u001b[0m\u001b[0;34m)\u001b[0m\u001b[0;34m\u001b[0m\u001b[0;34m\u001b[0m\u001b[0m\n\u001b[0m\u001b[1;32m     52\u001b[0m         \u001b[0;32massert\u001b[0m \u001b[0mself\u001b[0m\u001b[0;34m.\u001b[0m\u001b[0mhandles\u001b[0m \u001b[0;32mis\u001b[0m \u001b[0;32mnot\u001b[0m \u001b[0;32mNone\u001b[0m\u001b[0;34m\u001b[0m\u001b[0;34m\u001b[0m\u001b[0m\n\u001b[1;32m     53\u001b[0m \u001b[0;34m\u001b[0m\u001b[0m\n",
      "\u001b[0;32m~/anaconda3/lib/python3.7/site-packages/pandas/io/parsers/base_parser.py\u001b[0m in \u001b[0;36m_open_handles\u001b[0;34m(self, src, kwds)\u001b[0m\n\u001b[1;32m    227\u001b[0m             \u001b[0mmemory_map\u001b[0m\u001b[0;34m=\u001b[0m\u001b[0mkwds\u001b[0m\u001b[0;34m.\u001b[0m\u001b[0mget\u001b[0m\u001b[0;34m(\u001b[0m\u001b[0;34m\"memory_map\"\u001b[0m\u001b[0;34m,\u001b[0m \u001b[0;32mFalse\u001b[0m\u001b[0;34m)\u001b[0m\u001b[0;34m,\u001b[0m\u001b[0;34m\u001b[0m\u001b[0;34m\u001b[0m\u001b[0m\n\u001b[1;32m    228\u001b[0m             \u001b[0mstorage_options\u001b[0m\u001b[0;34m=\u001b[0m\u001b[0mkwds\u001b[0m\u001b[0;34m.\u001b[0m\u001b[0mget\u001b[0m\u001b[0;34m(\u001b[0m\u001b[0;34m\"storage_options\"\u001b[0m\u001b[0;34m,\u001b[0m \u001b[0;32mNone\u001b[0m\u001b[0;34m)\u001b[0m\u001b[0;34m,\u001b[0m\u001b[0;34m\u001b[0m\u001b[0;34m\u001b[0m\u001b[0m\n\u001b[0;32m--> 229\u001b[0;31m             \u001b[0merrors\u001b[0m\u001b[0;34m=\u001b[0m\u001b[0mkwds\u001b[0m\u001b[0;34m.\u001b[0m\u001b[0mget\u001b[0m\u001b[0;34m(\u001b[0m\u001b[0;34m\"encoding_errors\"\u001b[0m\u001b[0;34m,\u001b[0m \u001b[0;34m\"strict\"\u001b[0m\u001b[0;34m)\u001b[0m\u001b[0;34m,\u001b[0m\u001b[0;34m\u001b[0m\u001b[0;34m\u001b[0m\u001b[0m\n\u001b[0m\u001b[1;32m    230\u001b[0m         )\n\u001b[1;32m    231\u001b[0m \u001b[0;34m\u001b[0m\u001b[0m\n",
      "\u001b[0;32m~/anaconda3/lib/python3.7/site-packages/pandas/io/common.py\u001b[0m in \u001b[0;36mget_handle\u001b[0;34m(path_or_buf, mode, encoding, compression, memory_map, is_text, errors, storage_options)\u001b[0m\n\u001b[1;32m    704\u001b[0m                 \u001b[0mencoding\u001b[0m\u001b[0;34m=\u001b[0m\u001b[0mioargs\u001b[0m\u001b[0;34m.\u001b[0m\u001b[0mencoding\u001b[0m\u001b[0;34m,\u001b[0m\u001b[0;34m\u001b[0m\u001b[0;34m\u001b[0m\u001b[0m\n\u001b[1;32m    705\u001b[0m                 \u001b[0merrors\u001b[0m\u001b[0;34m=\u001b[0m\u001b[0merrors\u001b[0m\u001b[0;34m,\u001b[0m\u001b[0;34m\u001b[0m\u001b[0;34m\u001b[0m\u001b[0m\n\u001b[0;32m--> 706\u001b[0;31m                 \u001b[0mnewline\u001b[0m\u001b[0;34m=\u001b[0m\u001b[0;34m\"\"\u001b[0m\u001b[0;34m,\u001b[0m\u001b[0;34m\u001b[0m\u001b[0;34m\u001b[0m\u001b[0m\n\u001b[0m\u001b[1;32m    707\u001b[0m             )\n\u001b[1;32m    708\u001b[0m         \u001b[0;32melse\u001b[0m\u001b[0;34m:\u001b[0m\u001b[0;34m\u001b[0m\u001b[0;34m\u001b[0m\u001b[0m\n",
      "\u001b[0;31mFileNotFoundError\u001b[0m: [Errno 2] No such file or directory: 'Giant_Universal_Food.csv'"
     ]
    }
   ],
   "source": [
    "# LOAD DATAFRAMES\n",
    "# Universal\n",
    "giant_df = pd.read_csv('Giant_Universal_Food.csv')\n",
    "ht_df = pd.read_csv('HT_Universal_Food.csv')\n",
    "sw_df = pd.read_csv('SW_Universal_Food.csv')\n",
    "aldi_df = pd.read_csv('Aldi_Universal_Food.csv')\n",
    "target_df = pd.read_csv('Target_Universal_Food.csv')\n",
    "wfm_df = pd.read_csv('WFM_Universal_Food.csv')\n",
    "lidl_df = pd.read_csv('Lidl_Universal_Food.csv', index_col = 0)\n",
    "\n",
    "# Latinx\n",
    "giant_hispanic_df = pd.read_csv('Giant_Latinx_Food.csv')\n",
    "ht_hispanic_df = pd.read_csv('HT_Latinx_Food.csv')\n",
    "sw_hispanic_df = pd.read_csv('SW_Latinx_Food.csv')\n",
    "aldi_hispanic_df = pd.read_csv('Aldi_Latinx_Food.csv')\n",
    "target_hispanic_df = pd.read_csv('Target_Latinx_Food.csv')\n",
    "wfm_hispanic_df = pd.read_csv('WFM_Latinx_Food.csv')\n",
    "lidl_hispanic_df = pd.read_csv('Lidl_Latinx_Food.csv', index_col = 0)\n",
    "\n",
    "# East African\n",
    "giant_east_af_df = pd.read_csv('Giant_East_Af_Food.csv')\n",
    "ht_east_af_df = pd.read_csv('HT_East_Af_Food.csv')\n",
    "sw_east_af_df = pd.read_csv('SW_East_Af_Food.csv')\n",
    "aldi_east_af_df = pd.read_csv('Aldi_East_Af_Food.csv')\n",
    "target_east_af_df = pd.read_csv('Target_East_Af_Food.csv')\n",
    "wfm_east_af_df = pd.read_csv('WFM_East_Af_Food.csv')\n",
    "lidl_east_af_df = pd.read_csv('Lidl_East_Af_Food.csv', index_col = 0)\n",
    "\n",
    "# Eastern European\n",
    "giant_east_eu_df = pd.read_csv('Giant_East_Eu_Food.csv')\n",
    "ht_east_eu_df = pd.read_csv('HT_East_Eu_Food.csv')\n",
    "sw_east_eu_df = pd.read_csv('SW_East_Eu_Food.csv')\n",
    "aldi_east_eu_df = pd.read_csv('Aldi_East_Eu_Food.csv')\n",
    "target_east_eu_df = pd.read_csv('Target_East_Eu_Food.csv')\n",
    "wfm_east_eu_df = pd.read_csv('WFM_East_Eu_Food.csv')\n",
    "lidl_east_eu_df = pd.read_csv('Lidl_East_Eu_Food.csv', index_col = 0)\n",
    "\n",
    "# Indigenous/Native\n",
    "# giant_df = pd.read_csv('Giant_Universal_Food.csv')\n",
    "# ht_df = pd.read_csv('HT_Universal_Food.csv')\n",
    "# sw_df = pd.read_csv('SW_Universal_Food.csv')\n",
    "# aldi_df = pd.read_csv('Aldi_Universal_Food.csv')\n",
    "# target_df = pd.read_csv('Target_Universal_Food.csv')\n",
    "# wfm_df = pd.read_csv('WFM_Universal_Food.csv')\n",
    "\n",
    "# Southeast Asian\n",
    "giant_se_asia_df = pd.read_csv('Giant_SE_Asia_Food.csv')\n",
    "ht_se_asia_df = pd.read_csv('HT_SE_Asia_Food.csv')\n",
    "sw_se_asia_df = pd.read_csv('SW_SE_Asia_Food.csv')\n",
    "aldi_se_asia_df = pd.read_csv('Aldi_SE_Asia_Food.csv')\n",
    "target_se_asia_df = pd.read_csv('Target_SE_Asia_Food.csv')\n",
    "wfm_se_asia_df = pd.read_csv('WFM_SE_Asia_Food.csv')\n",
    "lidl_se_asia_df = pd.read_csv('Lidl_SE_Asia_Food.csv', index_col = 0)\n",
    "\n",
    "# West African\n",
    "giant_west_af_df = pd.read_csv('Giant_West_Af_Food.csv')\n",
    "ht_west_af_df = pd.read_csv('HT_West_Af_Food.csv')\n",
    "sw_west_af_df = pd.read_csv('SW_West_Af_Food.csv')\n",
    "aldi_west_af_df = pd.read_csv('Aldi_West_Af_Food.csv')\n",
    "target_west_af_df = pd.read_csv('Target_West_Af_Food.csv')\n",
    "wfm_west_af_df = pd.read_csv('WFM_West_Af_Food.csv')\n",
    "lidl_west_af_df = pd.read_csv('Lidl_West_AF_Food.csv', index_col = 0)\n"
   ]
  },
  {
   "cell_type": "code",
   "execution_count": 17,
   "metadata": {
    "code_folding": [],
    "scrolled": true
   },
   "outputs": [
    {
     "ename": "NameError",
     "evalue": "name 'giant_df' is not defined",
     "output_type": "error",
     "traceback": [
      "\u001b[0;31m---------------------------------------------------------------------------\u001b[0m",
      "\u001b[0;31mNameError\u001b[0m                                 Traceback (most recent call last)",
      "\u001b[0;32m<ipython-input-17-4858c90bfdb7>\u001b[0m in \u001b[0;36m<module>\u001b[0;34m\u001b[0m\n\u001b[1;32m      1\u001b[0m \u001b[0;31m# COMPILE LARGER DATAFRAMES\u001b[0m\u001b[0;34m\u001b[0m\u001b[0;34m\u001b[0m\u001b[0;34m\u001b[0m\u001b[0m\n\u001b[1;32m      2\u001b[0m \u001b[0;31m# Universal\u001b[0m\u001b[0;34m\u001b[0m\u001b[0;34m\u001b[0m\u001b[0;34m\u001b[0m\u001b[0m\n\u001b[0;32m----> 3\u001b[0;31m universal_df = pd.concat([giant_df, ht_df, sw_df, aldi_df,\n\u001b[0m\u001b[1;32m      4\u001b[0m                           target_df, wfm_df, lidl_df], ignore_index = True)\n\u001b[1;32m      5\u001b[0m \u001b[0muniversal_df\u001b[0m \u001b[0;34m=\u001b[0m \u001b[0muniversal_df\u001b[0m\u001b[0;34m.\u001b[0m\u001b[0mloc\u001b[0m\u001b[0;34m[\u001b[0m\u001b[0;34m:\u001b[0m\u001b[0;34m,\u001b[0m \u001b[0;34m~\u001b[0m\u001b[0muniversal_df\u001b[0m\u001b[0;34m.\u001b[0m\u001b[0mcolumns\u001b[0m\u001b[0;34m.\u001b[0m\u001b[0mstr\u001b[0m\u001b[0;34m.\u001b[0m\u001b[0mcontains\u001b[0m\u001b[0;34m(\u001b[0m\u001b[0;34m'^Unnamed'\u001b[0m\u001b[0;34m)\u001b[0m\u001b[0;34m]\u001b[0m\u001b[0;34m\u001b[0m\u001b[0;34m\u001b[0m\u001b[0m\n",
      "\u001b[0;31mNameError\u001b[0m: name 'giant_df' is not defined"
     ]
    }
   ],
   "source": [
    "# COMPILE LARGER DATAFRAMES\n",
    "# Universal\n",
    "universal_df = pd.concat([giant_df, ht_df, sw_df, aldi_df,\n",
    "                          target_df, wfm_df, lidl_df], ignore_index = True)\n",
    "universal_df = universal_df.loc[:, ~universal_df.columns.str.contains('^Unnamed')]\n",
    "display(universal_df.head())\n",
    "universal_df.to_csv('Universal_Food.csv')\n",
    "\n",
    "# Latinx\n",
    "latinx_df = pd.concat([giant_hispanic_df, ht_hispanic_df, sw_hispanic_df, aldi_hispanic_df,\n",
    "                       target_hispanic_df, wfm_hispanic_df, lidl_hispanic_df], ignore_index = True)\n",
    "latinx_df = latinx_df.loc[:, ~latinx_df.columns.str.contains('^Unnamed')]\n",
    "display(latinx_df.head())\n",
    "latinx_df.to_csv('Latinx_Food.csv')\n",
    "\n",
    "# East African\n",
    "east_af_df = pd.concat([giant_east_af_df, ht_east_af_df, sw_east_af_df, aldi_east_af_df,\n",
    "                        target_east_af_df, wfm_east_af_df, lidl_east_af_df], ignore_index = True)\n",
    "east_af_df = east_af_df.loc[:, ~east_af_df.columns.str.contains('^Unnamed')]\n",
    "display(east_af_df.head())\n",
    "east_af_df.to_csv('East_Af_Food.csv')\n",
    "\n",
    "# Eastern European\n",
    "east_eu_df = pd.concat([giant_east_eu_df, ht_east_eu_df, sw_east_eu_df, aldi_east_eu_df,\n",
    "                        target_east_eu_df, wfm_east_eu_df, lidl_east_eu_df], ignore_index = True)\n",
    "east_eu_df = east_eu_df.loc[:, ~east_eu_df.columns.str.contains('^Unnamed')]\n",
    "display(east_eu_df.head())\n",
    "east_eu_df.to_csv('East_Eu_Food.csv')\n",
    "\n",
    "# Southeast Asian\n",
    "se_asia_df = pd.concat([giant_se_asia_df, ht_se_asia_df, sw_se_asia_df, aldi_se_asia_df,\n",
    "                        target_se_asia_df, wfm_se_asia_df, lidl_se_asia_df], ignore_index = True)\n",
    "se_asia_df = se_asia_df.loc[:, ~se_asia_df.columns.str.contains('^Unnamed')]\n",
    "display(se_asia_df.head())\n",
    "se_asia_df.to_csv('SE_Asia_Food.csv')\n",
    "\n",
    "# West African\n",
    "west_af_df = pd.concat([giant_west_af_df, ht_west_af_df, sw_west_af_df, aldi_west_af_df,\n",
    "                        target_west_af_df, wfm_west_af_df, lidl_west_af_df], ignore_index = True)\n",
    "west_af_df = west_af_df.loc[:, ~west_af_df.columns.str.contains('^Unnamed')]\n",
    "display(west_af_df.head())\n",
    "west_af_df.to_csv('West_Af_Food.csv')"
   ]
  },
  {
   "cell_type": "code",
   "execution_count": 21,
   "metadata": {},
   "outputs": [
    {
     "data": {
      "text/html": [
       "<div>\n",
       "<style scoped>\n",
       "    .dataframe tbody tr th:only-of-type {\n",
       "        vertical-align: middle;\n",
       "    }\n",
       "\n",
       "    .dataframe tbody tr th {\n",
       "        vertical-align: top;\n",
       "    }\n",
       "\n",
       "    .dataframe thead th {\n",
       "        text-align: right;\n",
       "    }\n",
       "</style>\n",
       "<table border=\"1\" class=\"dataframe\">\n",
       "  <thead>\n",
       "    <tr style=\"text-align: right;\">\n",
       "      <th></th>\n",
       "      <th>Item</th>\n",
       "      <th>Price</th>\n",
       "      <th>Other_Info</th>\n",
       "      <th>Location</th>\n",
       "      <th>Store</th>\n",
       "    </tr>\n",
       "  </thead>\n",
       "  <tbody>\n",
       "    <tr>\n",
       "      <th>0</th>\n",
       "      <td>Giant Whole Vitamin D Milk</td>\n",
       "      <td>3.79</td>\n",
       "      <td>1 gallon | $0.03 / oz</td>\n",
       "      <td>2501 9th Road South, Arlington, VA 22204</td>\n",
       "      <td>Giant</td>\n",
       "    </tr>\n",
       "    <tr>\n",
       "      <th>1</th>\n",
       "      <td>Giant White Eggs Grade A Large</td>\n",
       "      <td>1.49</td>\n",
       "      <td>1.5 doz | $0.99 / doz</td>\n",
       "      <td>2501 9th Road South, Arlington, VA 22204</td>\n",
       "      <td>Giant</td>\n",
       "    </tr>\n",
       "    <tr>\n",
       "      <th>2</th>\n",
       "      <td>Giant Bagels Plain Pre-Sliced - 6 ct</td>\n",
       "      <td>2.49</td>\n",
       "      <td>20 oz pkg | $0.12 / oz</td>\n",
       "      <td>2501 9th Road South, Arlington, VA 22204</td>\n",
       "      <td>Giant</td>\n",
       "    </tr>\n",
       "    <tr>\n",
       "      <th>3</th>\n",
       "      <td>Giant Sandwich White Enriched Bread</td>\n",
       "      <td>0.99</td>\n",
       "      <td>20 oz pkg | $0.05 / oz</td>\n",
       "      <td>2501 9th Road South, Arlington, VA 22204</td>\n",
       "      <td>Giant</td>\n",
       "    </tr>\n",
       "    <tr>\n",
       "      <th>4</th>\n",
       "      <td>Giant Pasta Penne Rigate</td>\n",
       "      <td>0.99</td>\n",
       "      <td>16 oz box | $0.06 / oz</td>\n",
       "      <td>2501 9th Road South, Arlington, VA 22204</td>\n",
       "      <td>Giant</td>\n",
       "    </tr>\n",
       "    <tr>\n",
       "      <th>...</th>\n",
       "      <td>...</td>\n",
       "      <td>...</td>\n",
       "      <td>...</td>\n",
       "      <td>...</td>\n",
       "      <td>...</td>\n",
       "    </tr>\n",
       "    <tr>\n",
       "      <th>587</th>\n",
       "      <td>Roma tomatoes</td>\n",
       "      <td>1.29</td>\n",
       "      <td>$ 1.29 per lb.</td>\n",
       "      <td>6548 Little River Turnpike, Alexandria, VA 22312</td>\n",
       "      <td>Lidl</td>\n",
       "    </tr>\n",
       "    <tr>\n",
       "      <th>588</th>\n",
       "      <td>80% lean ground beef</td>\n",
       "      <td>3.39</td>\n",
       "      <td>$ 3.39 per lb.</td>\n",
       "      <td>6548 Little River Turnpike, Alexandria, VA 22312</td>\n",
       "      <td>Lidl</td>\n",
       "    </tr>\n",
       "    <tr>\n",
       "      <th>589</th>\n",
       "      <td>fancy shredded Mexican cheese</td>\n",
       "      <td>2.79</td>\n",
       "      <td>23.3 ¢ per oz.</td>\n",
       "      <td>6548 Little River Turnpike, Alexandria, VA 22312</td>\n",
       "      <td>Lidl</td>\n",
       "    </tr>\n",
       "    <tr>\n",
       "      <th>590</th>\n",
       "      <td>whole milk yogurt, peach</td>\n",
       "      <td>0.39</td>\n",
       "      <td>7.4 ¢ per oz.</td>\n",
       "      <td>6548 Little River Turnpike, Alexandria, VA 22312</td>\n",
       "      <td>Lidl</td>\n",
       "    </tr>\n",
       "    <tr>\n",
       "      <th>591</th>\n",
       "      <td>frosted flakes cereal</td>\n",
       "      <td>1.45</td>\n",
       "      <td>8.2 ¢ per oz.</td>\n",
       "      <td>6548 Little River Turnpike, Alexandria, VA 22312</td>\n",
       "      <td>Lidl</td>\n",
       "    </tr>\n",
       "  </tbody>\n",
       "</table>\n",
       "<p>592 rows × 5 columns</p>\n",
       "</div>"
      ],
      "text/plain": [
       "                                     Item  Price              Other_Info  \\\n",
       "0              Giant Whole Vitamin D Milk   3.79   1 gallon | $0.03 / oz   \n",
       "1          Giant White Eggs Grade A Large   1.49   1.5 doz | $0.99 / doz   \n",
       "2    Giant Bagels Plain Pre-Sliced - 6 ct   2.49  20 oz pkg | $0.12 / oz   \n",
       "3     Giant Sandwich White Enriched Bread   0.99  20 oz pkg | $0.05 / oz   \n",
       "4                Giant Pasta Penne Rigate   0.99  16 oz box | $0.06 / oz   \n",
       "..                                    ...    ...                     ...   \n",
       "587                         Roma tomatoes   1.29          $ 1.29 per lb.   \n",
       "588                  80% lean ground beef   3.39          $ 3.39 per lb.   \n",
       "589         fancy shredded Mexican cheese   2.79          23.3 ¢ per oz.   \n",
       "590              whole milk yogurt, peach   0.39           7.4 ¢ per oz.   \n",
       "591                 frosted flakes cereal   1.45           8.2 ¢ per oz.   \n",
       "\n",
       "                                             Location  Store  \n",
       "0            2501 9th Road South, Arlington, VA 22204  Giant  \n",
       "1            2501 9th Road South, Arlington, VA 22204  Giant  \n",
       "2            2501 9th Road South, Arlington, VA 22204  Giant  \n",
       "3            2501 9th Road South, Arlington, VA 22204  Giant  \n",
       "4            2501 9th Road South, Arlington, VA 22204  Giant  \n",
       "..                                                ...    ...  \n",
       "587  6548 Little River Turnpike, Alexandria, VA 22312   Lidl  \n",
       "588  6548 Little River Turnpike, Alexandria, VA 22312   Lidl  \n",
       "589  6548 Little River Turnpike, Alexandria, VA 22312   Lidl  \n",
       "590  6548 Little River Turnpike, Alexandria, VA 22312   Lidl  \n",
       "591  6548 Little River Turnpike, Alexandria, VA 22312   Lidl  \n",
       "\n",
       "[592 rows x 5 columns]"
      ]
     },
     "execution_count": 21,
     "metadata": {},
     "output_type": "execute_result"
    }
   ],
   "source": [
    "universal_df = pd.read_csv('Universal_Food.csv', index_col = 0)\n",
    "latinx_df = pd.read_csv('Latinx_Food.csv', index_col = 0)\n",
    "east_af_df = pd.read_csv('East_Af_Food.csv', index_col = 0)\n",
    "east_eu_df = pd.read_csv('East_Eu_Food.csv', index_col = 0)\n",
    "se_asia_df = pd.read_csv('SE_Asia_Food.csv', index_col = 0)\n",
    "west_af_df = pd.read_csv('West_Af_Food.csv', index_col = 0)\n",
    "\n",
    "\n",
    "universal_df"
   ]
  },
  {
   "cell_type": "code",
   "execution_count": 22,
   "metadata": {
    "scrolled": true
   },
   "outputs": [
    {
     "data": {
      "text/html": [
       "<div>\n",
       "<style scoped>\n",
       "    .dataframe tbody tr th:only-of-type {\n",
       "        vertical-align: middle;\n",
       "    }\n",
       "\n",
       "    .dataframe tbody tr th {\n",
       "        vertical-align: top;\n",
       "    }\n",
       "\n",
       "    .dataframe thead th {\n",
       "        text-align: right;\n",
       "    }\n",
       "</style>\n",
       "<table border=\"1\" class=\"dataframe\">\n",
       "  <thead>\n",
       "    <tr style=\"text-align: right;\">\n",
       "      <th></th>\n",
       "      <th>Item</th>\n",
       "      <th>Price</th>\n",
       "      <th>Other_Info</th>\n",
       "      <th>Location</th>\n",
       "      <th>Store</th>\n",
       "    </tr>\n",
       "  </thead>\n",
       "  <tbody>\n",
       "    <tr>\n",
       "      <th>0</th>\n",
       "      <td>Giant Whole Vitamin D Milk</td>\n",
       "      <td>3.79</td>\n",
       "      <td>1 gallon | $0.03 / oz</td>\n",
       "      <td>2501 9th Road South, Arlington, VA 22204</td>\n",
       "      <td>Giant</td>\n",
       "    </tr>\n",
       "    <tr>\n",
       "      <th>16</th>\n",
       "      <td>Giant Whole Vitamin D Milk</td>\n",
       "      <td>3.79</td>\n",
       "      <td>1 gallon | $0.03 / oz</td>\n",
       "      <td>2901-11 S. Glebe Rd., Arlington, VA 22206</td>\n",
       "      <td>Giant</td>\n",
       "    </tr>\n",
       "    <tr>\n",
       "      <th>32</th>\n",
       "      <td>Giant Whole Vitamin D Milk</td>\n",
       "      <td>3.79</td>\n",
       "      <td>1 gallon | $0.03 / oz</td>\n",
       "      <td>3115 Lee Hwy., Arlington, VA 22201</td>\n",
       "      <td>Giant</td>\n",
       "    </tr>\n",
       "    <tr>\n",
       "      <th>48</th>\n",
       "      <td>Giant Whole Vitamin D Milk</td>\n",
       "      <td>3.79</td>\n",
       "      <td>1 gallon | $0.03 / oz</td>\n",
       "      <td>3450 Washington Blvd., Arlington, VA 22201</td>\n",
       "      <td>Giant</td>\n",
       "    </tr>\n",
       "    <tr>\n",
       "      <th>64</th>\n",
       "      <td>Giant Whole Vitamin D Milk</td>\n",
       "      <td>3.49</td>\n",
       "      <td>1 gallon | $0.03 / oz</td>\n",
       "      <td>621 East Glebe Road, Alexandria, VA 22305</td>\n",
       "      <td>Giant</td>\n",
       "    </tr>\n",
       "    <tr>\n",
       "      <th>80</th>\n",
       "      <td>Giant Whole Vitamin D Milk</td>\n",
       "      <td>3.29</td>\n",
       "      <td>1 gallon | $0.03 / oz</td>\n",
       "      <td>6360 Seven Corners Ctr, Falls Church, VA 22044</td>\n",
       "      <td>Giant</td>\n",
       "    </tr>\n",
       "    <tr>\n",
       "      <th>96</th>\n",
       "      <td>Harris Teeter 3.25% Milk Fat Whole Milk</td>\n",
       "      <td>3.99</td>\n",
       "      <td>1 gallon  | $3.99/gallon</td>\n",
       "      <td>1631 Kalorama Rd NW Suite 100, Washington DC, ...</td>\n",
       "      <td>Harris Teeter</td>\n",
       "    </tr>\n",
       "    <tr>\n",
       "      <th>112</th>\n",
       "      <td>Harris Teeter 3.25% Milk Fat Whole Milk</td>\n",
       "      <td>3.89</td>\n",
       "      <td>1 gallon  | $3.89/gallon</td>\n",
       "      <td>2425 N. Harrison St, Arlington VA, 22207</td>\n",
       "      <td>Harris Teeter</td>\n",
       "    </tr>\n",
       "    <tr>\n",
       "      <th>128</th>\n",
       "      <td>Harris Teeter 3.25% Milk Fat Whole Milk</td>\n",
       "      <td>3.79</td>\n",
       "      <td>1 gallon  | $3.79/gallon</td>\n",
       "      <td>301 West Broad, Falls Church VA, 22046</td>\n",
       "      <td>Harris Teeter</td>\n",
       "    </tr>\n",
       "    <tr>\n",
       "      <th>144</th>\n",
       "      <td>Harris Teeter 3.25% Milk Fat Whole Milk</td>\n",
       "      <td>4.19</td>\n",
       "      <td>1 gallon  | $4.19/gallon</td>\n",
       "      <td>3600 S Glebe Rd, Arlington VA, 22202</td>\n",
       "      <td>Harris Teeter</td>\n",
       "    </tr>\n",
       "    <tr>\n",
       "      <th>160</th>\n",
       "      <td>Harris Teeter 3.25% Milk Fat Whole Milk</td>\n",
       "      <td>3.99</td>\n",
       "      <td>1 gallon  | $3.99/gallon</td>\n",
       "      <td>401 M Street SE, Washington DC, 20003</td>\n",
       "      <td>Harris Teeter</td>\n",
       "    </tr>\n",
       "    <tr>\n",
       "      <th>176</th>\n",
       "      <td>Harris Teeter 3.25% Milk Fat Whole Milk</td>\n",
       "      <td>4.19</td>\n",
       "      <td>1 gallon  | $4.19/gallon</td>\n",
       "      <td>4250 Campbell Ave, Arlington VA, 22206</td>\n",
       "      <td>Harris Teeter</td>\n",
       "    </tr>\n",
       "    <tr>\n",
       "      <th>192</th>\n",
       "      <td>Harris Teeter 3.25% Milk Fat Whole Milk</td>\n",
       "      <td>4.19</td>\n",
       "      <td>1 gallon  | $4.19/gallon</td>\n",
       "      <td>4550 King Street, Alexandria VA, 22302</td>\n",
       "      <td>Harris Teeter</td>\n",
       "    </tr>\n",
       "    <tr>\n",
       "      <th>208</th>\n",
       "      <td>Harris Teeter 3.25% Milk Fat Whole Milk</td>\n",
       "      <td>4.19</td>\n",
       "      <td>1 gallon  | $4.19/gallon</td>\n",
       "      <td>954 South George Mason, Arlington VA, 22204</td>\n",
       "      <td>Harris Teeter</td>\n",
       "    </tr>\n",
       "    <tr>\n",
       "      <th>224</th>\n",
       "      <td>Value Corner Whole Milk - 1 Gallon</td>\n",
       "      <td>2.99</td>\n",
       "      <td>($0.02 / Fl.oz)</td>\n",
       "      <td>1100 4th St SW, Washington, DC 20024</td>\n",
       "      <td>Safeway</td>\n",
       "    </tr>\n",
       "    <tr>\n",
       "      <th>240</th>\n",
       "      <td>Value Corner Whole Milk - 1 Gallon</td>\n",
       "      <td>2.99</td>\n",
       "      <td>($0.02 / Fl.oz)</td>\n",
       "      <td>12 W Washington St, Middleburg, VA 20117</td>\n",
       "      <td>Safeway</td>\n",
       "    </tr>\n",
       "    <tr>\n",
       "      <th>256</th>\n",
       "      <td>Value Corner Whole Milk - 1 Gallon</td>\n",
       "      <td>2.99</td>\n",
       "      <td>($0.02 / Fl.oz)</td>\n",
       "      <td>1525 Wilson Blvd, Arlington, VA 22209</td>\n",
       "      <td>Safeway</td>\n",
       "    </tr>\n",
       "    <tr>\n",
       "      <th>272</th>\n",
       "      <td>Value Corner Whole Milk - 1 Gallon</td>\n",
       "      <td>2.99</td>\n",
       "      <td>($0.02 / Fl.oz)</td>\n",
       "      <td>2500 N Harrison St, Arlington, VA 22207</td>\n",
       "      <td>Safeway</td>\n",
       "    </tr>\n",
       "    <tr>\n",
       "      <th>288</th>\n",
       "      <td>Value Corner Whole Milk - 1 Gallon</td>\n",
       "      <td>2.99</td>\n",
       "      <td>($0.02 / Fl.oz)</td>\n",
       "      <td>3526 King St, Alexandria, VA 22302</td>\n",
       "      <td>Safeway</td>\n",
       "    </tr>\n",
       "    <tr>\n",
       "      <th>304</th>\n",
       "      <td>Value Corner Whole Milk - 1 Gallon</td>\n",
       "      <td>2.99</td>\n",
       "      <td>($0.02 / Fl.oz)</td>\n",
       "      <td>3713 Lee Hwy, Arlington, VA 22207</td>\n",
       "      <td>Safeway</td>\n",
       "    </tr>\n",
       "    <tr>\n",
       "      <th>320</th>\n",
       "      <td>Value Corner Whole Milk - 1 Gallon</td>\n",
       "      <td>2.99</td>\n",
       "      <td>($0.02 / Fl.oz)</td>\n",
       "      <td>5101 Wilson Blvd, Arlington, VA 22205</td>\n",
       "      <td>Safeway</td>\n",
       "    </tr>\n",
       "    <tr>\n",
       "      <th>336</th>\n",
       "      <td>Value Corner Whole Milk - 1 Gallon</td>\n",
       "      <td>2.99</td>\n",
       "      <td>($0.02 / Fl.oz)</td>\n",
       "      <td>6118 Arlington Blvd, Falls Church, VA 2204</td>\n",
       "      <td>Safeway</td>\n",
       "    </tr>\n",
       "    <tr>\n",
       "      <th>352</th>\n",
       "      <td>Friendly Farms Whole Milk</td>\n",
       "      <td>2.89</td>\n",
       "      <td>1 gal</td>\n",
       "      <td>155 Hillwood Ave, Falls Church, VA 22046</td>\n",
       "      <td>Aldi</td>\n",
       "    </tr>\n",
       "    <tr>\n",
       "      <th>368</th>\n",
       "      <td>Friendly Farms Whole Milk</td>\n",
       "      <td>2.95</td>\n",
       "      <td>1 gal</td>\n",
       "      <td>24330 Liberty Harvest Court, Sterling, VA 20166</td>\n",
       "      <td>Aldi</td>\n",
       "    </tr>\n",
       "    <tr>\n",
       "      <th>384</th>\n",
       "      <td>Friendly Farms Whole Milk</td>\n",
       "      <td>2.89</td>\n",
       "      <td>1 gal</td>\n",
       "      <td>5725 Columbia Pike, Falls Church, VA 22041</td>\n",
       "      <td>Aldi</td>\n",
       "    </tr>\n",
       "    <tr>\n",
       "      <th>400</th>\n",
       "      <td>Friendly Farms Whole Milk</td>\n",
       "      <td>3.05</td>\n",
       "      <td>1 gal</td>\n",
       "      <td>6301 Livingston Road, Ste B, Oxon Hill, MD 20745</td>\n",
       "      <td>Aldi</td>\n",
       "    </tr>\n",
       "    <tr>\n",
       "      <th>416</th>\n",
       "      <td>Vitamin D Whole Milk - 1gal - Good &amp; Gather™</td>\n",
       "      <td>3.29</td>\n",
       "      <td>NaN</td>\n",
       "      <td>3101 Richmond Hwy, Alexandria, VA 22305-3042</td>\n",
       "      <td>Target</td>\n",
       "    </tr>\n",
       "    <tr>\n",
       "      <th>432</th>\n",
       "      <td>Vitamin D Whole Milk - 1gal - Good &amp; Gather™</td>\n",
       "      <td>2.49</td>\n",
       "      <td>NaN</td>\n",
       "      <td>740 N Glebe Rd, Arlington, VA 22203-2257</td>\n",
       "      <td>Target</td>\n",
       "    </tr>\n",
       "    <tr>\n",
       "      <th>448</th>\n",
       "      <td>Vitamin D Whole Milk - 1gal - Good &amp; Gather™</td>\n",
       "      <td>3.29</td>\n",
       "      <td>NaN</td>\n",
       "      <td>6100 Arlington Blvd, Falls Church, VA 22044-2901</td>\n",
       "      <td>Target</td>\n",
       "    </tr>\n",
       "    <tr>\n",
       "      <th>464</th>\n",
       "      <td>Vitamin D Whole Milk - 1gal - Good &amp; Gather™</td>\n",
       "      <td>3.29</td>\n",
       "      <td>NaN</td>\n",
       "      <td>500 S. Washington St, Falls Church, VA 22046</td>\n",
       "      <td>Target</td>\n",
       "    </tr>\n",
       "    <tr>\n",
       "      <th>480</th>\n",
       "      <td>Vitamin D Whole Milk - 1gal - Good &amp; Gather™</td>\n",
       "      <td>3.59</td>\n",
       "      <td>NaN</td>\n",
       "      <td>1500 Wilson Blvd, Rosslyn, VA 22209-2458</td>\n",
       "      <td>Target</td>\n",
       "    </tr>\n",
       "    <tr>\n",
       "      <th>496</th>\n",
       "      <td>Vitamin D Whole Milk - 1gal - Good &amp; Gather™</td>\n",
       "      <td>3.29</td>\n",
       "      <td>NaN</td>\n",
       "      <td>5115 Leesburg Pike, Falls Church, VA 22041-3207</td>\n",
       "      <td>Target</td>\n",
       "    </tr>\n",
       "    <tr>\n",
       "      <th>512</th>\n",
       "      <td>Whole Milk, 1 gallon</td>\n",
       "      <td>3.79</td>\n",
       "      <td>NaN</td>\n",
       "      <td>Arlington VA - 2700 Wilson Blvd, Arlington, VA...</td>\n",
       "      <td>Whole Foods</td>\n",
       "    </tr>\n",
       "    <tr>\n",
       "      <th>528</th>\n",
       "      <td>Whole Milk, 1 gallon</td>\n",
       "      <td>3.79</td>\n",
       "      <td>NaN</td>\n",
       "      <td>Pentagon City - 520 12th St South, Arlington, ...</td>\n",
       "      <td>Whole Foods</td>\n",
       "    </tr>\n",
       "    <tr>\n",
       "      <th>544</th>\n",
       "      <td>Whole Milk, 1 gallon</td>\n",
       "      <td>3.79</td>\n",
       "      <td>NaN</td>\n",
       "      <td>Tysons - 7511 Leesburg Pike, Falls Church, VA ...</td>\n",
       "      <td>Whole Foods</td>\n",
       "    </tr>\n",
       "    <tr>\n",
       "      <th>560</th>\n",
       "      <td>whole milk</td>\n",
       "      <td>1.18</td>\n",
       "      <td>1.84 ¢ per fl.oz.</td>\n",
       "      <td>2901 Gallows Road, Falls Church, VA 22042</td>\n",
       "      <td>Lidl</td>\n",
       "    </tr>\n",
       "    <tr>\n",
       "      <th>576</th>\n",
       "      <td>whole milk</td>\n",
       "      <td>1.18</td>\n",
       "      <td>1.84 ¢ per fl.oz.</td>\n",
       "      <td>6548 Little River Turnpike, Alexandria, VA 22312</td>\n",
       "      <td>Lidl</td>\n",
       "    </tr>\n",
       "  </tbody>\n",
       "</table>\n",
       "</div>"
      ],
      "text/plain": [
       "                                             Item  Price  \\\n",
       "0                      Giant Whole Vitamin D Milk   3.79   \n",
       "16                     Giant Whole Vitamin D Milk   3.79   \n",
       "32                     Giant Whole Vitamin D Milk   3.79   \n",
       "48                     Giant Whole Vitamin D Milk   3.79   \n",
       "64                     Giant Whole Vitamin D Milk   3.49   \n",
       "80                     Giant Whole Vitamin D Milk   3.29   \n",
       "96        Harris Teeter 3.25% Milk Fat Whole Milk   3.99   \n",
       "112       Harris Teeter 3.25% Milk Fat Whole Milk   3.89   \n",
       "128       Harris Teeter 3.25% Milk Fat Whole Milk   3.79   \n",
       "144       Harris Teeter 3.25% Milk Fat Whole Milk   4.19   \n",
       "160       Harris Teeter 3.25% Milk Fat Whole Milk   3.99   \n",
       "176       Harris Teeter 3.25% Milk Fat Whole Milk   4.19   \n",
       "192       Harris Teeter 3.25% Milk Fat Whole Milk   4.19   \n",
       "208       Harris Teeter 3.25% Milk Fat Whole Milk   4.19   \n",
       "224            Value Corner Whole Milk - 1 Gallon   2.99   \n",
       "240            Value Corner Whole Milk - 1 Gallon   2.99   \n",
       "256            Value Corner Whole Milk - 1 Gallon   2.99   \n",
       "272            Value Corner Whole Milk - 1 Gallon   2.99   \n",
       "288            Value Corner Whole Milk - 1 Gallon   2.99   \n",
       "304            Value Corner Whole Milk - 1 Gallon   2.99   \n",
       "320            Value Corner Whole Milk - 1 Gallon   2.99   \n",
       "336            Value Corner Whole Milk - 1 Gallon   2.99   \n",
       "352                     Friendly Farms Whole Milk   2.89   \n",
       "368                     Friendly Farms Whole Milk   2.95   \n",
       "384                     Friendly Farms Whole Milk   2.89   \n",
       "400                     Friendly Farms Whole Milk   3.05   \n",
       "416  Vitamin D Whole Milk - 1gal - Good & Gather™   3.29   \n",
       "432  Vitamin D Whole Milk - 1gal - Good & Gather™   2.49   \n",
       "448  Vitamin D Whole Milk - 1gal - Good & Gather™   3.29   \n",
       "464  Vitamin D Whole Milk - 1gal - Good & Gather™   3.29   \n",
       "480  Vitamin D Whole Milk - 1gal - Good & Gather™   3.59   \n",
       "496  Vitamin D Whole Milk - 1gal - Good & Gather™   3.29   \n",
       "512                          Whole Milk, 1 gallon   3.79   \n",
       "528                          Whole Milk, 1 gallon   3.79   \n",
       "544                          Whole Milk, 1 gallon   3.79   \n",
       "560                                    whole milk   1.18   \n",
       "576                                    whole milk   1.18   \n",
       "\n",
       "                   Other_Info  \\\n",
       "0       1 gallon | $0.03 / oz   \n",
       "16      1 gallon | $0.03 / oz   \n",
       "32      1 gallon | $0.03 / oz   \n",
       "48      1 gallon | $0.03 / oz   \n",
       "64      1 gallon | $0.03 / oz   \n",
       "80      1 gallon | $0.03 / oz   \n",
       "96   1 gallon  | $3.99/gallon   \n",
       "112  1 gallon  | $3.89/gallon   \n",
       "128  1 gallon  | $3.79/gallon   \n",
       "144  1 gallon  | $4.19/gallon   \n",
       "160  1 gallon  | $3.99/gallon   \n",
       "176  1 gallon  | $4.19/gallon   \n",
       "192  1 gallon  | $4.19/gallon   \n",
       "208  1 gallon  | $4.19/gallon   \n",
       "224           ($0.02 / Fl.oz)   \n",
       "240           ($0.02 / Fl.oz)   \n",
       "256           ($0.02 / Fl.oz)   \n",
       "272           ($0.02 / Fl.oz)   \n",
       "288           ($0.02 / Fl.oz)   \n",
       "304           ($0.02 / Fl.oz)   \n",
       "320           ($0.02 / Fl.oz)   \n",
       "336           ($0.02 / Fl.oz)   \n",
       "352                    1 gal    \n",
       "368                    1 gal    \n",
       "384                    1 gal    \n",
       "400                    1 gal    \n",
       "416                       NaN   \n",
       "432                       NaN   \n",
       "448                       NaN   \n",
       "464                       NaN   \n",
       "480                       NaN   \n",
       "496                       NaN   \n",
       "512                       NaN   \n",
       "528                       NaN   \n",
       "544                       NaN   \n",
       "560         1.84 ¢ per fl.oz.   \n",
       "576         1.84 ¢ per fl.oz.   \n",
       "\n",
       "                                              Location          Store  \n",
       "0             2501 9th Road South, Arlington, VA 22204          Giant  \n",
       "16           2901-11 S. Glebe Rd., Arlington, VA 22206          Giant  \n",
       "32                  3115 Lee Hwy., Arlington, VA 22201          Giant  \n",
       "48          3450 Washington Blvd., Arlington, VA 22201          Giant  \n",
       "64           621 East Glebe Road, Alexandria, VA 22305          Giant  \n",
       "80      6360 Seven Corners Ctr, Falls Church, VA 22044          Giant  \n",
       "96   1631 Kalorama Rd NW Suite 100, Washington DC, ...  Harris Teeter  \n",
       "112           2425 N. Harrison St, Arlington VA, 22207  Harris Teeter  \n",
       "128             301 West Broad, Falls Church VA, 22046  Harris Teeter  \n",
       "144               3600 S Glebe Rd, Arlington VA, 22202  Harris Teeter  \n",
       "160              401 M Street SE, Washington DC, 20003  Harris Teeter  \n",
       "176             4250 Campbell Ave, Arlington VA, 22206  Harris Teeter  \n",
       "192             4550 King Street, Alexandria VA, 22302  Harris Teeter  \n",
       "208        954 South George Mason, Arlington VA, 22204  Harris Teeter  \n",
       "224               1100 4th St SW, Washington, DC 20024        Safeway  \n",
       "240           12 W Washington St, Middleburg, VA 20117        Safeway  \n",
       "256              1525 Wilson Blvd, Arlington, VA 22209        Safeway  \n",
       "272            2500 N Harrison St, Arlington, VA 22207        Safeway  \n",
       "288                 3526 King St, Alexandria, VA 22302        Safeway  \n",
       "304                  3713 Lee Hwy, Arlington, VA 22207        Safeway  \n",
       "320              5101 Wilson Blvd, Arlington, VA 22205        Safeway  \n",
       "336         6118 Arlington Blvd, Falls Church, VA 2204        Safeway  \n",
       "352           155 Hillwood Ave, Falls Church, VA 22046           Aldi  \n",
       "368    24330 Liberty Harvest Court, Sterling, VA 20166           Aldi  \n",
       "384         5725 Columbia Pike, Falls Church, VA 22041           Aldi  \n",
       "400   6301 Livingston Road, Ste B, Oxon Hill, MD 20745           Aldi  \n",
       "416       3101 Richmond Hwy, Alexandria, VA 22305-3042         Target  \n",
       "432           740 N Glebe Rd, Arlington, VA 22203-2257         Target  \n",
       "448   6100 Arlington Blvd, Falls Church, VA 22044-2901         Target  \n",
       "464       500 S. Washington St, Falls Church, VA 22046         Target  \n",
       "480           1500 Wilson Blvd, Rosslyn, VA 22209-2458         Target  \n",
       "496    5115 Leesburg Pike, Falls Church, VA 22041-3207         Target  \n",
       "512  Arlington VA - 2700 Wilson Blvd, Arlington, VA...    Whole Foods  \n",
       "528  Pentagon City - 520 12th St South, Arlington, ...    Whole Foods  \n",
       "544  Tysons - 7511 Leesburg Pike, Falls Church, VA ...    Whole Foods  \n",
       "560          2901 Gallows Road, Falls Church, VA 22042           Lidl  \n",
       "576   6548 Little River Turnpike, Alexandria, VA 22312           Lidl  "
      ]
     },
     "execution_count": 22,
     "metadata": {},
     "output_type": "execute_result"
    }
   ],
   "source": [
    "universal_df[::16]"
   ]
  },
  {
   "cell_type": "code",
   "execution_count": 25,
   "metadata": {},
   "outputs": [
    {
     "data": {
      "text/html": [
       "<div>\n",
       "<style scoped>\n",
       "    .dataframe tbody tr th:only-of-type {\n",
       "        vertical-align: middle;\n",
       "    }\n",
       "\n",
       "    .dataframe tbody tr th {\n",
       "        vertical-align: top;\n",
       "    }\n",
       "\n",
       "    .dataframe thead th {\n",
       "        text-align: right;\n",
       "    }\n",
       "</style>\n",
       "<table border=\"1\" class=\"dataframe\">\n",
       "  <thead>\n",
       "    <tr style=\"text-align: right;\">\n",
       "      <th></th>\n",
       "      <th>Item</th>\n",
       "      <th>Price</th>\n",
       "      <th>Other_Info</th>\n",
       "      <th>Location</th>\n",
       "      <th>Store</th>\n",
       "    </tr>\n",
       "  </thead>\n",
       "  <tbody>\n",
       "    <tr>\n",
       "      <th>0</th>\n",
       "      <td>Avocados Hass</td>\n",
       "      <td>1.25</td>\n",
       "      <td>1 ea | $1.25 / ea</td>\n",
       "      <td>2501 9th Road South, Arlington, VA 22204</td>\n",
       "      <td>Giant</td>\n",
       "    </tr>\n",
       "    <tr>\n",
       "      <th>1</th>\n",
       "      <td>Giant Beets Sliced No Salt Added</td>\n",
       "      <td>1.49</td>\n",
       "      <td>15 oz jar | $0.10 / oz</td>\n",
       "      <td>2501 9th Road South, Arlington, VA 22204</td>\n",
       "      <td>Giant</td>\n",
       "    </tr>\n",
       "    <tr>\n",
       "      <th>2</th>\n",
       "      <td>Nature's Promise Organic Black Beans Low Sodium</td>\n",
       "      <td>0.99</td>\n",
       "      <td>15.5 oz can | $0.06 / oz</td>\n",
       "      <td>2501 9th Road South, Arlington, VA 22204</td>\n",
       "      <td>Giant</td>\n",
       "    </tr>\n",
       "    <tr>\n",
       "      <th>3</th>\n",
       "      <td>Giant 4 Cheese Mexican Blend Finely Shredded N...</td>\n",
       "      <td>2.00</td>\n",
       "      <td>8 oz bag | $4.00 / lb</td>\n",
       "      <td>2501 9th Road South, Arlington, VA 22204</td>\n",
       "      <td>Giant</td>\n",
       "    </tr>\n",
       "    <tr>\n",
       "      <th>4</th>\n",
       "      <td>Giant White Corn Tortillas Soft 6 Inch - 16 ct</td>\n",
       "      <td>0.99</td>\n",
       "      <td>16 oz pkg | $0.06 / oz</td>\n",
       "      <td>2501 9th Road South, Arlington, VA 22204</td>\n",
       "      <td>Giant</td>\n",
       "    </tr>\n",
       "    <tr>\n",
       "      <th>...</th>\n",
       "      <td>...</td>\n",
       "      <td>...</td>\n",
       "      <td>...</td>\n",
       "      <td>...</td>\n",
       "      <td>...</td>\n",
       "    </tr>\n",
       "    <tr>\n",
       "      <th>571</th>\n",
       "      <td>long grain enriched white rice</td>\n",
       "      <td>1.85</td>\n",
       "      <td>3.9 ¢ per oz.</td>\n",
       "      <td>6548 Little River Turnpike, Alexandria, VA 22312</td>\n",
       "      <td>Lidl</td>\n",
       "    </tr>\n",
       "    <tr>\n",
       "      <th>572</th>\n",
       "      <td>medium salsa</td>\n",
       "      <td>2.25</td>\n",
       "      <td>medium salsa</td>\n",
       "      <td>6548 Little River Turnpike, Alexandria, VA 22312</td>\n",
       "      <td>Lidl</td>\n",
       "    </tr>\n",
       "    <tr>\n",
       "      <th>573</th>\n",
       "      <td>butternut squash</td>\n",
       "      <td>0.99</td>\n",
       "      <td>99.0 ¢ per lb.</td>\n",
       "      <td>6548 Little River Turnpike, Alexandria, VA 22312</td>\n",
       "      <td>Lidl</td>\n",
       "    </tr>\n",
       "    <tr>\n",
       "      <th>574</th>\n",
       "      <td>tomatillos</td>\n",
       "      <td>1.49</td>\n",
       "      <td>$ 1.49 per lb.</td>\n",
       "      <td>6548 Little River Turnpike, Alexandria, VA 22312</td>\n",
       "      <td>Lidl</td>\n",
       "    </tr>\n",
       "    <tr>\n",
       "      <th>575</th>\n",
       "      <td>Roma tomatoes</td>\n",
       "      <td>1.29</td>\n",
       "      <td>$ 1.29 per lb.</td>\n",
       "      <td>6548 Little River Turnpike, Alexandria, VA 22312</td>\n",
       "      <td>Lidl</td>\n",
       "    </tr>\n",
       "  </tbody>\n",
       "</table>\n",
       "<p>576 rows × 5 columns</p>\n",
       "</div>"
      ],
      "text/plain": [
       "                                                  Item  Price  \\\n",
       "0                                        Avocados Hass   1.25   \n",
       "1                     Giant Beets Sliced No Salt Added   1.49   \n",
       "2      Nature's Promise Organic Black Beans Low Sodium   0.99   \n",
       "3    Giant 4 Cheese Mexican Blend Finely Shredded N...   2.00   \n",
       "4       Giant White Corn Tortillas Soft 6 Inch - 16 ct   0.99   \n",
       "..                                                 ...    ...   \n",
       "571                     long grain enriched white rice   1.85   \n",
       "572                                       medium salsa   2.25   \n",
       "573                                   butternut squash   0.99   \n",
       "574                                         tomatillos   1.49   \n",
       "575                                      Roma tomatoes   1.29   \n",
       "\n",
       "                   Other_Info  \\\n",
       "0           1 ea | $1.25 / ea   \n",
       "1      15 oz jar | $0.10 / oz   \n",
       "2    15.5 oz can | $0.06 / oz   \n",
       "3       8 oz bag | $4.00 / lb   \n",
       "4      16 oz pkg | $0.06 / oz   \n",
       "..                        ...   \n",
       "571             3.9 ¢ per oz.   \n",
       "572              medium salsa   \n",
       "573            99.0 ¢ per lb.   \n",
       "574            $ 1.49 per lb.   \n",
       "575            $ 1.29 per lb.   \n",
       "\n",
       "                                             Location  Store  \n",
       "0            2501 9th Road South, Arlington, VA 22204  Giant  \n",
       "1            2501 9th Road South, Arlington, VA 22204  Giant  \n",
       "2            2501 9th Road South, Arlington, VA 22204  Giant  \n",
       "3            2501 9th Road South, Arlington, VA 22204  Giant  \n",
       "4            2501 9th Road South, Arlington, VA 22204  Giant  \n",
       "..                                                ...    ...  \n",
       "571  6548 Little River Turnpike, Alexandria, VA 22312   Lidl  \n",
       "572  6548 Little River Turnpike, Alexandria, VA 22312   Lidl  \n",
       "573  6548 Little River Turnpike, Alexandria, VA 22312   Lidl  \n",
       "574  6548 Little River Turnpike, Alexandria, VA 22312   Lidl  \n",
       "575  6548 Little River Turnpike, Alexandria, VA 22312   Lidl  \n",
       "\n",
       "[576 rows x 5 columns]"
      ]
     },
     "execution_count": 25,
     "metadata": {},
     "output_type": "execute_result"
    }
   ],
   "source": [
    "latinx_df"
   ]
  },
  {
   "cell_type": "code",
   "execution_count": 93,
   "metadata": {
    "code_folding": [],
    "scrolled": true
   },
   "outputs": [
    {
     "name": "stderr",
     "output_type": "stream",
     "text": [
      "\n",
      "\n",
      "====== WebDriver manager ======\n",
      "Current google-chrome version is 96.0.4664\n",
      "Get LATEST driver version for 96.0.4664\n",
      "Get LATEST driver version for 96.0.4664\n",
      "Trying to download new driver from https://chromedriver.storage.googleapis.com/96.0.4664.45/chromedriver_mac64.zip\n",
      "Driver has been saved in cache [/Users/zacharyalerte/.wdm/drivers/chromedriver/mac64/96.0.4664.45]\n"
     ]
    },
    {
     "ename": "TimeoutException",
     "evalue": "Message: \n",
     "output_type": "error",
     "traceback": [
      "\u001b[0;31m---------------------------------------------------------------------------\u001b[0m",
      "\u001b[0;31mTimeoutException\u001b[0m                          Traceback (most recent call last)",
      "\u001b[0;32m<ipython-input-93-05a1a837d0f3>\u001b[0m in \u001b[0;36m<module>\u001b[0;34m\u001b[0m\n\u001b[1;32m     12\u001b[0m \u001b[0mdriver_wait\u001b[0m \u001b[0;34m=\u001b[0m \u001b[0;36m20\u001b[0m\u001b[0;34m\u001b[0m\u001b[0;34m\u001b[0m\u001b[0m\n\u001b[1;32m     13\u001b[0m \u001b[0mwait\u001b[0m \u001b[0;34m=\u001b[0m \u001b[0mWebDriverWait\u001b[0m\u001b[0;34m(\u001b[0m\u001b[0mic_driver\u001b[0m\u001b[0;34m,\u001b[0m \u001b[0mdriver_wait\u001b[0m\u001b[0;34m)\u001b[0m\u001b[0;34m\u001b[0m\u001b[0;34m\u001b[0m\u001b[0m\n\u001b[0;32m---> 14\u001b[0;31m \u001b[0mlog_in\u001b[0m \u001b[0;34m=\u001b[0m \u001b[0mwait\u001b[0m\u001b[0;34m.\u001b[0m\u001b[0muntil\u001b[0m\u001b[0;34m(\u001b[0m\u001b[0mEC\u001b[0m\u001b[0;34m.\u001b[0m\u001b[0melement_to_be_clickable\u001b[0m\u001b[0;34m(\u001b[0m\u001b[0;34m(\u001b[0m\u001b[0mBy\u001b[0m\u001b[0;34m.\u001b[0m\u001b[0mCLASS_NAME\u001b[0m\u001b[0;34m,\u001b[0m \u001b[0;34m'css-1cfqs9t'\u001b[0m\u001b[0;34m)\u001b[0m\u001b[0;34m)\u001b[0m\u001b[0;34m)\u001b[0m\u001b[0;34m\u001b[0m\u001b[0;34m\u001b[0m\u001b[0m\n\u001b[0m\u001b[1;32m     15\u001b[0m \u001b[0mlog_in\u001b[0m\u001b[0;34m.\u001b[0m\u001b[0mclick\u001b[0m\u001b[0;34m(\u001b[0m\u001b[0;34m)\u001b[0m\u001b[0;34m\u001b[0m\u001b[0;34m\u001b[0m\u001b[0m\n\u001b[1;32m     16\u001b[0m \u001b[0;34m\u001b[0m\u001b[0m\n",
      "\u001b[0;32m~/anaconda3/lib/python3.7/site-packages/selenium/webdriver/support/wait.py\u001b[0m in \u001b[0;36muntil\u001b[0;34m(self, method, message)\u001b[0m\n\u001b[1;32m     78\u001b[0m             \u001b[0;32mif\u001b[0m \u001b[0mtime\u001b[0m\u001b[0;34m.\u001b[0m\u001b[0mtime\u001b[0m\u001b[0;34m(\u001b[0m\u001b[0;34m)\u001b[0m \u001b[0;34m>\u001b[0m \u001b[0mend_time\u001b[0m\u001b[0;34m:\u001b[0m\u001b[0;34m\u001b[0m\u001b[0;34m\u001b[0m\u001b[0m\n\u001b[1;32m     79\u001b[0m                 \u001b[0;32mbreak\u001b[0m\u001b[0;34m\u001b[0m\u001b[0;34m\u001b[0m\u001b[0m\n\u001b[0;32m---> 80\u001b[0;31m         \u001b[0;32mraise\u001b[0m \u001b[0mTimeoutException\u001b[0m\u001b[0;34m(\u001b[0m\u001b[0mmessage\u001b[0m\u001b[0;34m,\u001b[0m \u001b[0mscreen\u001b[0m\u001b[0;34m,\u001b[0m \u001b[0mstacktrace\u001b[0m\u001b[0;34m)\u001b[0m\u001b[0;34m\u001b[0m\u001b[0;34m\u001b[0m\u001b[0m\n\u001b[0m\u001b[1;32m     81\u001b[0m \u001b[0;34m\u001b[0m\u001b[0m\n\u001b[1;32m     82\u001b[0m     \u001b[0;32mdef\u001b[0m \u001b[0muntil_not\u001b[0m\u001b[0;34m(\u001b[0m\u001b[0mself\u001b[0m\u001b[0;34m,\u001b[0m \u001b[0mmethod\u001b[0m\u001b[0;34m,\u001b[0m \u001b[0mmessage\u001b[0m\u001b[0;34m=\u001b[0m\u001b[0;34m''\u001b[0m\u001b[0;34m)\u001b[0m\u001b[0;34m:\u001b[0m\u001b[0;34m\u001b[0m\u001b[0;34m\u001b[0m\u001b[0m\n",
      "\u001b[0;31mTimeoutException\u001b[0m: Message: \n"
     ]
    }
   ],
   "source": [
    "# Instacart scrape...\n",
    "foods = [\"Potatoes\", \"Oranges\", \"Tomatoes\", \"Apples\", \"Ground Turkey\", \"Chicken Nuggets\", \"Ground Beef\", \n",
    "         \"Chicken Eggs\", \"Shredded Cheese\", 'Whole Milk', \"Butter\", \"Yogurt\", \"Multigrain Bread\", \"Pasta\",\n",
    "         \"Bagels\", \"Cereal\"]\n",
    "\n",
    "\n",
    "ic_driver = webdriver.Chrome(ChromeDriverManager().install())\n",
    "ic_driver.get(\"https://www.instacart.com/store/\")\n",
    "ic_driver.maximize_window()\n",
    "\n",
    "sleep_time = 2\n",
    "driver_wait = 20\n",
    "wait = WebDriverWait(ic_driver, driver_wait)\n",
    "log_in = wait.until(EC.element_to_be_clickable((By.CLASS_NAME, 'css-1cfqs9t')))\n",
    "log_in.click()\n",
    "\n",
    "#                                                           /html/body/div[4]/div/div/div/div/div[2]/div[1]/form/div[1]/div/div[1]/input\n",
    "email = wait.until(EC.element_to_be_clickable((By.XPATH, '//div/div/div/div/div[2]/div[1]/form/div[1]/div/div[1]/input')))\n",
    "email.send_keys('zacharyalerte@gmail.com')\n",
    "\n",
    "#                                                              /html/body/div[4]/div/div/div/div/div[2]/div[1]/form/div[2]/div/div[1]/input\n",
    "password = wait.until(EC.element_to_be_clickable((By.XPATH, '//div/div/div/div/div[2]/div[1]/form/div[2]/div/div[1]/input')))\n",
    "password.send_keys('UVASDAD2021')\n",
    "\n",
    "#                                                                  /html/body/div[4]/div/div/div/div/div[2]/div[1]/form/div[4]/button\n",
    "click_log_in = wait.until(EC.element_to_be_clickable((By.XPATH, '//div/div/div/div/div[2]/div[1]/form/div[4]/button')))\n",
    "click_log_in.click()\n",
    "\n",
    "\n",
    "go_store = wait.until(EC.element_to_be_clickable((By.XPATH, '/html/body/div[1]/div[1]/div[2]/div/div[4]/ul/li[1]/a')))\n",
    "go_store.click()\n",
    "\n",
    "go_top = wait.until(EC.element_to_be_clickable((By.XPATH, '/html/body/div[1]/div/header/div/div/div[2]/div[4]/div[2]/div/div/div[1]/div[4]/button')))\n",
    "go_top.click()\n",
    "\n",
    "info = []\n",
    "for food in foods:\n",
    "    ic_driver.get('https://www.instacart.com/store/publix/search_v3/{}'.format(food))\n",
    "    element = wait.until(EC.element_to_be_clickable((By.XPATH, '/html/body/div[1]/div/div/div/div/div/div/div[1]/div/div[2]/div/div/div[4]/ul[1]/li[1]/div/div/div/div/a/div[3]')))\n",
    "    info.append(element.text)"
   ]
  },
  {
   "cell_type": "code",
   "execution_count": 97,
   "metadata": {},
   "outputs": [
    {
     "name": "stderr",
     "output_type": "stream",
     "text": [
      "\n",
      "\n",
      "====== WebDriver manager ======\n",
      "Current google-chrome version is 96.0.4664\n",
      "Get LATEST driver version for 96.0.4664\n",
      "Driver [/Users/zacharyalerte/.wdm/drivers/chromedriver/mac64/96.0.4664.45/chromedriver] found in cache\n"
     ]
    },
    {
     "ename": "TimeoutException",
     "evalue": "Message: \n",
     "output_type": "error",
     "traceback": [
      "\u001b[0;31m---------------------------------------------------------------------------\u001b[0m",
      "\u001b[0;31mTimeoutException\u001b[0m                          Traceback (most recent call last)",
      "\u001b[0;32m<ipython-input-97-68573b86dd14>\u001b[0m in \u001b[0;36m<module>\u001b[0;34m\u001b[0m\n\u001b[1;32m     29\u001b[0m \u001b[0;31m# ERROR HERE\u001b[0m\u001b[0;34m\u001b[0m\u001b[0;34m\u001b[0m\u001b[0;34m\u001b[0m\u001b[0m\n\u001b[1;32m     30\u001b[0m \u001b[0;31m# <a class=\"css-d20dbd\" href=\"/store/publix/storefront\"><span class=\"css-12thh49\"><span class=\"css-ks8hbe-StoreCompactCard\"><span class=\"css-jewpb8-StoreCompactCard\"></span><img src=\"https://d2d8wwwkmhfcva.cloudfront.net/72x/d2lnr5mha7bycj.cloudfront.net/warehouse/logo/57/29520839-7042-45a0-af82-54f973b4abe5.png\" srcset=\"https://d2d8wwwkmhfcva.cloudfront.net/108x/d2lnr5mha7bycj.cloudfront.net/warehouse/logo/57/29520839-7042-45a0-af82-54f973b4abe5.png 1.5x, https://d2d8wwwkmhfcva.cloudfront.net/144x/d2lnr5mha7bycj.cloudfront.net/warehouse/logo/57/29520839-7042-45a0-af82-54f973b4abe5.png 2x\" alt=\"Publix\" width=\"60\" height=\"60\" loading=\"lazy\" role=\"presentation\" class=\"css-1qsdlnh-StoreCompactCard\"></span><span class=\"css-1im00gz-StoreCompactCard\"><span><span class=\"css-lf0nfd\">Publix</span></span><span class=\"css-2jq6rl\">Deli • Groceries • Organic</span><span class=\"css-e8mvzb\"><span class=\"css-pjl6ah\"><span class=\"css-i5e22u\">Pickup 37.9mi</span></span><span class=\"css-pjl6ah\"><span class=\"css-i5e22u\">Accepts EBT</span></span><span class=\"css-pjl6ah\"><span class=\"css-i5e22u\">New</span></span></span></span></span></a>\u001b[0m\u001b[0;34m\u001b[0m\u001b[0;34m\u001b[0m\u001b[0;34m\u001b[0m\u001b[0m\n\u001b[0;32m---> 31\u001b[0;31m \u001b[0mgo_store\u001b[0m \u001b[0;34m=\u001b[0m \u001b[0mwait\u001b[0m\u001b[0;34m.\u001b[0m\u001b[0muntil\u001b[0m\u001b[0;34m(\u001b[0m\u001b[0mEC\u001b[0m\u001b[0;34m.\u001b[0m\u001b[0melement_to_be_clickable\u001b[0m\u001b[0;34m(\u001b[0m\u001b[0;34m(\u001b[0m\u001b[0mBy\u001b[0m\u001b[0;34m.\u001b[0m\u001b[0mCLASS_NAME\u001b[0m\u001b[0;34m,\u001b[0m \u001b[0;34m'css-d20dbd'\u001b[0m\u001b[0;34m)\u001b[0m\u001b[0;34m)\u001b[0m\u001b[0;34m)\u001b[0m\u001b[0;34m\u001b[0m\u001b[0;34m\u001b[0m\u001b[0m\n\u001b[0m\u001b[1;32m     32\u001b[0m \u001b[0mgo_store\u001b[0m\u001b[0;34m.\u001b[0m\u001b[0mclick\u001b[0m\u001b[0;34m(\u001b[0m\u001b[0;34m)\u001b[0m\u001b[0;34m\u001b[0m\u001b[0;34m\u001b[0m\u001b[0m\n\u001b[1;32m     33\u001b[0m \u001b[0;34m\u001b[0m\u001b[0m\n",
      "\u001b[0;32m~/anaconda3/lib/python3.7/site-packages/selenium/webdriver/support/wait.py\u001b[0m in \u001b[0;36muntil\u001b[0;34m(self, method, message)\u001b[0m\n\u001b[1;32m     78\u001b[0m             \u001b[0;32mif\u001b[0m \u001b[0mtime\u001b[0m\u001b[0;34m.\u001b[0m\u001b[0mtime\u001b[0m\u001b[0;34m(\u001b[0m\u001b[0;34m)\u001b[0m \u001b[0;34m>\u001b[0m \u001b[0mend_time\u001b[0m\u001b[0;34m:\u001b[0m\u001b[0;34m\u001b[0m\u001b[0;34m\u001b[0m\u001b[0m\n\u001b[1;32m     79\u001b[0m                 \u001b[0;32mbreak\u001b[0m\u001b[0;34m\u001b[0m\u001b[0;34m\u001b[0m\u001b[0m\n\u001b[0;32m---> 80\u001b[0;31m         \u001b[0;32mraise\u001b[0m \u001b[0mTimeoutException\u001b[0m\u001b[0;34m(\u001b[0m\u001b[0mmessage\u001b[0m\u001b[0;34m,\u001b[0m \u001b[0mscreen\u001b[0m\u001b[0;34m,\u001b[0m \u001b[0mstacktrace\u001b[0m\u001b[0;34m)\u001b[0m\u001b[0;34m\u001b[0m\u001b[0;34m\u001b[0m\u001b[0m\n\u001b[0m\u001b[1;32m     81\u001b[0m \u001b[0;34m\u001b[0m\u001b[0m\n\u001b[1;32m     82\u001b[0m     \u001b[0;32mdef\u001b[0m \u001b[0muntil_not\u001b[0m\u001b[0;34m(\u001b[0m\u001b[0mself\u001b[0m\u001b[0;34m,\u001b[0m \u001b[0mmethod\u001b[0m\u001b[0;34m,\u001b[0m \u001b[0mmessage\u001b[0m\u001b[0;34m=\u001b[0m\u001b[0;34m''\u001b[0m\u001b[0;34m)\u001b[0m\u001b[0;34m:\u001b[0m\u001b[0;34m\u001b[0m\u001b[0;34m\u001b[0m\u001b[0m\n",
      "\u001b[0;31mTimeoutException\u001b[0m: Message: \n"
     ]
    }
   ],
   "source": [
    "# Instacart scrape...\n",
    "foods = [\"Potatoes\", \"Oranges\", \"Tomatoes\", \"Apples\", \"Ground Turkey\", \"Chicken Nuggets\", \"Ground Beef\", \n",
    "         \"Chicken Eggs\", \"Shredded Cheese\", 'Whole Milk', \"Butter\", \"Yogurt\", \"Multigrain Bread\", \"Pasta\",\n",
    "         \"Bagels\", \"Cereal\"]\n",
    "\n",
    "\n",
    "ic_driver = webdriver.Chrome(ChromeDriverManager().install())\n",
    "ic_driver.get(\"https://www.instacart.com/store/\")\n",
    "ic_driver.maximize_window()\n",
    "\n",
    "sleep_time = 2\n",
    "driver_wait = 20\n",
    "wait = WebDriverWait(ic_driver, driver_wait)\n",
    "log_in = wait.until(EC.element_to_be_clickable((By.CLASS_NAME, 'css-s55bq')))\n",
    "log_in.click()#<button class=\"css-s55bq\"><span class=\"css-utfnc\">Log in</span></button>\n",
    "\n",
    "#                                                           /html/body/div[4]/div/div/div/div/div[2]/div[1]/form/div[1]/div/div[1]/input\n",
    "email = wait.until(EC.element_to_be_clickable((By.XPATH, '//div/div/div/div/div[2]/div[1]/form/div[1]/div/div[1]/input')))\n",
    "email.send_keys('zacharyalerte@gmail.com')\n",
    "\n",
    "#                                                              /html/body/div[4]/div/div/div/div/div[2]/div[1]/form/div[2]/div/div[1]/input\n",
    "password = wait.until(EC.element_to_be_clickable((By.XPATH, '//div/div/div/div/div[2]/div[1]/form/div[2]/div/div[1]/input')))\n",
    "password.send_keys('UVASDAD2021')\n",
    "\n",
    "#                                                                  /html/body/div[4]/div/div/div/div/div[2]/div[1]/form/div[4]/button\n",
    "click_log_in = wait.until(EC.element_to_be_clickable((By.XPATH, '//div/div/div/div/div[2]/div[1]/form/div[4]/button')))\n",
    "click_log_in.click()\n",
    "\n",
    "# ERROR HERE\n",
    "# <a class=\"css-d20dbd\" href=\"/store/publix/storefront\"><span class=\"css-12thh49\"><span class=\"css-ks8hbe-StoreCompactCard\"><span class=\"css-jewpb8-StoreCompactCard\"></span><img src=\"https://d2d8wwwkmhfcva.cloudfront.net/72x/d2lnr5mha7bycj.cloudfront.net/warehouse/logo/57/29520839-7042-45a0-af82-54f973b4abe5.png\" srcset=\"https://d2d8wwwkmhfcva.cloudfront.net/108x/d2lnr5mha7bycj.cloudfront.net/warehouse/logo/57/29520839-7042-45a0-af82-54f973b4abe5.png 1.5x, https://d2d8wwwkmhfcva.cloudfront.net/144x/d2lnr5mha7bycj.cloudfront.net/warehouse/logo/57/29520839-7042-45a0-af82-54f973b4abe5.png 2x\" alt=\"Publix\" width=\"60\" height=\"60\" loading=\"lazy\" role=\"presentation\" class=\"css-1qsdlnh-StoreCompactCard\"></span><span class=\"css-1im00gz-StoreCompactCard\"><span><span class=\"css-lf0nfd\">Publix</span></span><span class=\"css-2jq6rl\">Deli • Groceries • Organic</span><span class=\"css-e8mvzb\"><span class=\"css-pjl6ah\"><span class=\"css-i5e22u\">Pickup 37.9mi</span></span><span class=\"css-pjl6ah\"><span class=\"css-i5e22u\">Accepts EBT</span></span><span class=\"css-pjl6ah\"><span class=\"css-i5e22u\">New</span></span></span></span></span></a>\n",
    "go_store = wait.until(EC.element_to_be_clickable((By.CLASS_NAME, 'css-d20dbd')))\n",
    "go_store.click()\n",
    "\n",
    "# go_top = wait.until(EC.element_to_be_clickable((By.XPATH, '/html/body/div[1]/div/header/div/div/div[2]/div[4]/div[2]/div/div/div[1]/div[4]/button')))\n",
    "# go_top.click()\n",
    "\n",
    "info = []\n",
    "for food in foods:\n",
    "    ic_driver.get('https://www.instacart.com/store/publix/search_v3/{}'.format(food))\n",
    "    element = wait.until(EC.element_to_be_clickable((By.XPATH, '/html/body/div[1]/div/div/div/div/div/div/div[1]/div/div[2]/div/div/div[4]/ul[1]/li[1]/div/div/div/div/a/div[3]')))\n",
    "    info.append(element.text)"
   ]
  },
  {
   "cell_type": "markdown",
   "metadata": {},
   "source": [
    "#### Looking to add other stores in the DMV (Virginia specifically for VDH)"
   ]
  },
  {
   "cell_type": "markdown",
   "metadata": {},
   "source": [
    "## Walmart"
   ]
  },
  {
   "cell_type": "code",
   "execution_count": null,
   "metadata": {
    "code_folding": [
     0
    ]
   },
   "outputs": [],
   "source": [
    "# lists of food items for Walmart\n",
    "walmart_foods = [\"Whole Milk\", \"Great Value Eggs 12 Count\", \"Great Value Bagels\", \"Great Value Bread\",\n",
    "                 \"Great Value Pasta\", \"Apples\", \"Ground Turkey\", \"Great Value Sliced Ham\",\n",
    "                 \"Butter\", \"Potatoes\", \"Oranges\", \"Tomatoes\",\n",
    "                 \"Ground Beef\", \"Shredded Cheese\", \"Great Value Yogurt\", \"Shredded Great Value Cereal 24\"]\n",
    "\n",
    "walmart_latinx_basket = [\"Avocado\", \"Beets\", \"Great Value Black Beans, 16oz\", \"Great Value Shredded Cheese\",\n",
    "                         \"Great Value Corn Tortilla\", \"Great Value Green Chiles\", \"Great Value Jalapenos\",\n",
    "                         \"Great Value Corn Flour\", \"Green Bell Pepper\", \"Great Value Pinto Beans, 32oz\",\n",
    "                         \"Great Value Long Grain White Rice\", \"Salsa\", \"Squash\", \"Tomatillos\", \"Tomatoes\"]\n",
    "\n",
    "walmart_east_af_basket = [\"Barley\", \"Curry Powder\", \"Dried Pinto Beans\", \"Dried Dates\",\n",
    "                          \"Fava Beans\", \"Great Value Garbanzo Chick Peas\", \"Lentils\",\n",
    "                          \"Great Value Basmati Rice\", \"Spaghetti Pasta\", \"Tomato Sauce\", \"Great Value Tuna\"]\n",
    "\n",
    "walmart_east_eu_basket = [\"Barley\", \"Beef\", \"Beets\", \"Cabbage\", \"Lentils\",\n",
    "                          \"Sliced Mushrooms\", \"Pork\", \"Potatoes\", \"Enriched Wheat Flour, 5lb\"]\n",
    "\n",
    "walmart_se_asia_basket = [\"Bamboo Shoots\", \"Baby Corn\", \"Silk Coconut Milk\", \"Curry Paste\", \"Eggplant\",\n",
    "                          \"Fish Sauce\", \"Vermicelli Rice Noodles\", \"Oyster Sauce\", \"Rice Flour\",\n",
    "                          \"Brown Rice Noodles\", \"Great Value Jasmine Rice\", \"Sardines\",\n",
    "                          \"Squash\", \"Tofu\"]\n",
    "\n",
    "walmart_west_af_basket = [\"Great Value Black Eyed Peas, 16oz\", \"Brown Beans\", \"Cassava\", \"Chicken\",\n",
    "                          \"Great Value Corn Flour\", \"Knorr Cube Bouillon Chicken 24ct\", \"Plantains\",\n",
    "                          \"Potatoes\", \"Tomato Paste\"]\n"
   ]
  },
  {
   "cell_type": "code",
   "execution_count": null,
   "metadata": {},
   "outputs": [],
   "source": [
    "# list of csv names\n",
    "names = np.array(['Walmart_Universal_Food.csv', 'Walmart_Latinx_Food.csv', 'Walmart_East_Af_Food.csv',\n",
    " 'Walmart_East_Eu_Food.csv', 'Walmart_SE_Asia_Food.csv', 'Walmart_West_Af_Food.csv'])"
   ]
  },
  {
   "cell_type": "code",
   "execution_count": null,
   "metadata": {},
   "outputs": [],
   "source": [
    "walmart_driver = food_helper.create_walmart_driver()"
   ]
  },
  {
   "cell_type": "code",
   "execution_count": null,
   "metadata": {},
   "outputs": [],
   "source": [
    "unique_stores = food_helper.search_zips(walmart_driver, zipcodes)"
   ]
  },
  {
   "cell_type": "code",
   "execution_count": null,
   "metadata": {},
   "outputs": [],
   "source": [
    "walmart_all_stores_baskets = food_helper.walmart_driver_func(walmart_driver, unique_stores, 20, walmart_foods, walmart_latinx_basket, walmart_east_af_basket, walmart_east_eu_basket, walmart_se_asia_basket, walmart_west_af_basket)"
   ]
  },
  {
   "cell_type": "code",
   "execution_count": null,
   "metadata": {
    "code_folding": []
   },
   "outputs": [],
   "source": [
    "## NEED TO FIGURE OUT THE ERROR ABOVE....."
   ]
  },
  {
   "cell_type": "markdown",
   "metadata": {},
   "source": [
    "## Food Lion"
   ]
  },
  {
   "cell_type": "code",
   "execution_count": 48,
   "metadata": {
    "code_folding": [
     0
    ]
   },
   "outputs": [],
   "source": [
    "# Food Lion Foods\n",
    "fl_foods = [\"Whole Milk\", \"12 Large Eggs\", \"Plain Bagels\", \"Cha Ching Bread\",\n",
    "            \"Penne Pasta Rigate\", \"Gala Apples\", \"Food Lion Ground Turkey\", \"Food Lion Sliced Ham\",\n",
    "            \"Butter\", \"Russet Potatoes Bag\", \"Navel Oranges Bag\", \"Tomatoes Vine\",\n",
    "            \"Food Lion Lean Ground Beef 73%\", \"Food Lion Shredded Mexican Cheese\", \"Food Lion Yogurt\", \"Food Lion Cereal Honey Nut\"]\n",
    "#how to get cheaper whole milk\n",
    "\n",
    "fl_latinx_basket = [\"Hass Avocado\", \"Beets\", \"Food Lion Black Beans, 16oz\", \"Food Lion Shredded Mexican Cheese\",\n",
    "                    \"Banderita Corn Tortilla\", \"Jalapenos\", \"Corn Flour\",\n",
    "                    \"Green Bell Pepper\", \"Pinto Beans\", \"Food Lion White Rice\",\n",
    "                    \"Food Lion Salsa Medium\", \"Squash\", \"Tomatillos\", \"Tomatoes Vine\"]\n",
    "# are canned beets ok?\n",
    "# are we interested in canned or dry beans??\n",
    "\n",
    "fl_east_af_basket = [\"Quaker Barley\", \"Badia Curry Powder\", \"Pinto Beans\",\n",
    "                     \"Food Lion Garbanzo Beans\", \"Lentils\", \"Mahatma Basmati Rice\",\n",
    "                     \"Spaghetti Pasta\", \"Tomato Sauce\", \"Great Food Tuna\"]\n",
    "\n",
    "fl_east_eu_basket = [\"Quaker Barley\", \"Food Lion Lean Ground Beef 73%\", \"Beets\", \"Buckwheat Grain\",\n",
    "                     \"Cabbage\", \"Kasha\", \"Lamb Chuck\", \"Lentils\", \n",
    "                     \"Sliced Mushrooms\", \"Pork\", \"Russet Potatoes Bag\", \"Wheat Flour\"]\n",
    "\n",
    "fl_se_asia_basket = [\"Bamboo Shoots\", \"Bean Thread\", \"Geisha Coconut Milk\", \"Curry Paste Patak\", \"Eggplant\",\n",
    "                     \"Fish Sauce\", \"Vermicelli Rice Noodles\", \"Goya Rice Flour\",\n",
    "                     \"Brown Rice Noodles\", \"Food Lion Jasmine Rice\", \"Squash\", \"Tapioca Flour\"]\n",
    "\n",
    "fl_west_af_basket = [\"Black Eyed Peas, 16oz\", \"Pinto Beans\", \"La Reyna Yuca Cassava\", \"Food Lion Chicken\",\n",
    "                     \"Corn Flour\", \"Food Lion Bouillon\", \"Plantains\",\n",
    "                     \"Russet Potatoes Bag\", \"Food Lion Tomato Paste\"]\n"
   ]
  },
  {
   "cell_type": "code",
   "execution_count": 65,
   "metadata": {},
   "outputs": [
    {
     "name": "stderr",
     "output_type": "stream",
     "text": [
      "\n",
      "\n",
      "====== WebDriver manager ======\n",
      "Current google-chrome version is 92.0.4515\n",
      "Get LATEST driver version for 92.0.4515\n",
      "Driver [/Users/zacharyalerte/.wdm/drivers/chromedriver/mac64/92.0.4515.107/chromedriver] found in cache\n"
     ]
    }
   ],
   "source": [
    "baskets = [fl_foods, fl_latinx_basket, fl_east_af_basket, fl_east_eu_basket,\n",
    "           fl_se_asia_basket, fl_west_af_basket]\n",
    "\n",
    "names = np.array(['FL_Universal_Food.csv', 'FL_Latinx_Food.csv', 'FL_East_Af_Food.csv',\n",
    "                  'FL_East_Eu_Food.csv', 'FL_SE_Asia_Food.csv', 'FL_West_Af_Food.csv'])\n",
    "\n",
    "food_helper.food_lion(baskets, names, zipcodes)"
   ]
  },
  {
   "cell_type": "code",
   "execution_count": null,
   "metadata": {},
   "outputs": [],
   "source": [
    "# ARE PRICES ACTUAL PRICES OR INSTACART PRICES"
   ]
  },
  {
   "cell_type": "code",
   "execution_count": null,
   "metadata": {},
   "outputs": [],
   "source": [
    "### Walgreens Prices available in Store only..."
   ]
  },
  {
   "cell_type": "code",
   "execution_count": null,
   "metadata": {},
   "outputs": [],
   "source": [
    "### CVS missing lots of options"
   ]
  },
  {
   "cell_type": "code",
   "execution_count": null,
   "metadata": {},
   "outputs": [],
   "source": [
    "### Dollar General - prices in store only"
   ]
  },
  {
   "cell_type": "markdown",
   "metadata": {},
   "source": [
    "## Amazon"
   ]
  },
  {
   "cell_type": "code",
   "execution_count": 66,
   "metadata": {
    "code_folding": [
     0,
     14
    ]
   },
   "outputs": [],
   "source": [
    "# Amazon Fresh\n",
    "af_foods = [\"Gallon Whole Milk\", \"12 Eggland Large Eggs\", \"Fresh Brand Plain Bagels\", \"Bread\",\n",
    "            \"Penne Pasta Rigate\", \"Fresh Brand 3 Gala Apples\", \"Ground Turkey\", \"Sliced Ham\",\n",
    "            \"Amazon Brand Butter\", \"Potatoes\", \"Oranges\", \"Tomatoes Roma\",\n",
    "            \"Ground Beef\", \"Mexican Cheese\", \"Amazon Brand Traditional Non-Fat Yogurt\", \"Fresh Brand Cereal 18.7\"]\n",
    "#how to get cheaper whole milk\n",
    "\n",
    "af_latinx_basket = [\"Hass Avocado\", \"Red Beets\", \"Black Beans\", \"Mexican Cheese\",\n",
    "                    \"Corn Tortilla Amazon Brand\", \"Jalapenos\", \"Corn Flour\",\n",
    "                    \"Green Bell Pepper\", \"Pinto Beans\", \"Happy Belly White Rice 5\",\n",
    "                    \"Salsa Medium\", \"Squash\", \"Tomatillos\", \"Tomatoes Roma\"]\n",
    "# are canned beets ok?\n",
    "# are we interested in canned or dry beans??\n",
    "\n",
    "af_east_af_basket = [\"Happy Belly Barley\", \"Amazon Brand Curry Powder\", \"Pinto Beans\", \"Dried Dates\",\n",
    "                     \"Amazon Brand Garbanzo Beans\", \"Goya Lentils\", \"Basmati Rice\",\n",
    "                     \"Amazon Brand Spaghetti Pasta 16\", \"Teff\", \"Amazon Brand Tomato Sauce 8\", \"Fresh Brand Tuna\"]\n",
    "\n",
    "af_east_eu_basket = [\"Happy Belly Barley\", \"Ground Beef\", \"Red Beets\",\n",
    "                     \"Green Cabbage\", \"Lamb\", \"Goya Lentils\", \n",
    "                     \"Fresh Brand White Mushrooms\", \"Pork\", \"Potatoes\", \"King Wheat Flour\"]\n",
    "\n",
    "af_se_asia_basket = [\"Bamboo Shoots\", \"Baby Corn\", \"Bean Thread\",\n",
    "                     \"Coconut Milk\", \"Curry Paste\", \"Amazon Brand Edamame\", \"Eggplant\",\n",
    "                     \"Fish Sauce\", \"Rice Flour\", \"Taste of Thai Rice Noodles\",\n",
    "                     \"Happy Belly Jasmine Rice\", \"Squash\", \"Tapioca Flour\"]\n",
    "\n",
    "af_west_af_basket = [\"Black Eyed Peas\", \"Pinto Beans\", \"Chicken Drumsticks\", \"Corn Flour\",\n",
    "                     \"Knorr Chicken Bouillon Cubes 24\", \"Potatoes\", \"Tomato Paste\", \"Red Yams\"]\n",
    "# what part of chicken..."
   ]
  },
  {
   "cell_type": "code",
   "execution_count": 76,
   "metadata": {
    "code_folding": [
     0
    ]
   },
   "outputs": [
    {
     "name": "stderr",
     "output_type": "stream",
     "text": [
      "\n",
      "\n",
      "====== WebDriver manager ======\n",
      "Current google-chrome version is 92.0.4515\n",
      "Get LATEST driver version for 92.0.4515\n",
      "Driver [/Users/zacharyalerte/.wdm/drivers/chromedriver/mac64/92.0.4515.107/chromedriver] found in cache\n"
     ]
    }
   ],
   "source": [
    "# run Amazon driver\n",
    "names = np.array(['AF_Universal_Food.csv', 'AF_Latinx_Food.csv', 'AF_East_Af_Food.csv',\n",
    "                  'AF_East_Eu_Food.csv', 'AF_SE_Asia_Food.csv', 'AF_West_Af_Food.csv'])\n",
    "\n",
    "af_baskets = [af_foods, af_latinx_basket, af_east_af_basket,\n",
    "              af_east_eu_basket, af_se_asia_basket, af_west_af_basket]\n",
    "\n",
    "food_helper.amazon(zipcodes, names, af_baskets)"
   ]
  },
  {
   "cell_type": "code",
   "execution_count": 44,
   "metadata": {
    "code_folding": [
     0
    ]
   },
   "outputs": [],
   "source": [
    "# load af dataframes\n",
    "af_df = pd.read_csv('AF_Universal_Food.csv', index_col = 0)\n",
    "af_hispanic_df = pd.read_csv('AF_Latinx_Food.csv', index_col = 0)\n",
    "af_east_af_df = pd.read_csv('AF_East_Af_Food.csv', index_col = 0)\n",
    "af_east_eu_df = pd.read_csv('AF_East_Eu_Food.csv', index_col = 0)\n",
    "af_se_asia_df = pd.read_csv('AF_SE_Asia_Food.csv', index_col = 0)\n",
    "af_west_af_df = pd.read_csv('AF_West_AF_Food.csv', index_col = 0)"
   ]
  },
  {
   "cell_type": "code",
   "execution_count": null,
   "metadata": {},
   "outputs": [],
   "source": [
    "### BULK RETAILERS?"
   ]
  },
  {
   "cell_type": "markdown",
   "metadata": {},
   "source": [
    "## BJ's"
   ]
  },
  {
   "cell_type": "code",
   "execution_count": 104,
   "metadata": {},
   "outputs": [
    {
     "name": "stderr",
     "output_type": "stream",
     "text": [
      "\n",
      "\n",
      "====== WebDriver manager ======\n",
      "Current google-chrome version is 92.0.4515\n",
      "Get LATEST driver version for 92.0.4515\n",
      "Driver [/Users/zacharyalerte/.wdm/drivers/chromedriver/mac64/92.0.4515.107/chromedriver] found in cache\n"
     ]
    }
   ],
   "source": [
    "bj_driver = webdriver.Chrome(ChromeDriverManager().install())\n",
    "bj_driver.get(\"https://www.bjs.com/search\")\n",
    "bj_driver.maximize_window()\n",
    "wait = WebDriverWait(bj_driver, driver_wait)\n",
    "\n",
    "time.sleep(sleep_time)\n",
    "\n",
    "change_zip = wait.until(EC.element_to_be_clickable((By.XPATH, '//*[@id=\"header-margin\"]/ul/li[4]/app-header-find-aclub-link-molecule/div/div[2]/span[2]')))\n",
    "change_zip.click()"
   ]
  },
  {
   "cell_type": "code",
   "execution_count": 105,
   "metadata": {},
   "outputs": [],
   "source": [
    "# change_zip = wait.until(EC.element_to_be_clickable((By.XPATH, '//*[@id=\"header-margin\"]/ul/li[4]/app-header-find-aclub-link-molecule/div/div[2]/span[2]')))\n",
    "# change_zip.click()wa"
   ]
  },
  {
   "cell_type": "code",
   "execution_count": 83,
   "metadata": {},
   "outputs": [],
   "source": [
    "#\n",
    "store_loc = []\n",
    "for zipcode in zipcodes:\n",
    "    #\n",
    "    enter_zip = wait.until(EC.element_to_be_clickable((By.ID, 'search')))\n",
    "    enter_zip.clear()\n",
    "    enter_zip.send_keys(str(zipcode), '\\n')\n",
    "    \n",
    "    #\n",
    "    element = wait.until(EC.element_to_be_clickable((By.XPATH, '//*[@id=\"header-margin\"]/ul/li[4]/app-header-find-aclub-link-molecule/div/div[2]/div/app-header-club-modal-details-molecule/div[2]/div[1]/div/div[1]/div[1]/p[1]')))\n",
    "    store_loc.append(element.text)\n",
    "    \n",
    "#\n",
    "store_loc = np.array(store_loc)\n",
    "_, idx = np.unique(store_loc, return_index = True)\n",
    "bj_zipcodes = zipcodes[idx]\n"
   ]
  },
  {
   "cell_type": "code",
   "execution_count": 205,
   "metadata": {},
   "outputs": [],
   "source": [
    "bj_foods = [\"Whole Milk\", \"Large Eggs\", \"Wellsley Bagels\", \"Bread\",\n",
    "            \"Penne Pasta Rigate\", \"Apples\", \"Turkey\", \"Ham\",\n",
    "            \"Butter\", \"Russet Potatoes\", \"Navel Oranges\", \"Tomatoes\",\n",
    "            \"Ground Beef\", \"Cheese\", \"Plain Yogurt\", \"Cinnamon Cereal\"]\n",
    "# only greek\n",
    "# turkey is different for 2 stores... potatoes too\n",
    "\n",
    "bj_latinx_basket = [\"Beets\", \"Black Beans Bag\", \"Mexican Cheese\", \"Corn Flour\",\n",
    "                    \"Bell Peppers\", \"Pinto Beans\", \"White Rice\", \"Medium Salsa\", \"Tomatoes\"]\n",
    "# selection is slightly different for corn flour\n",
    "\n",
    "bj_east_af_basket = [\"Curry Powder\", \"Pinto Beans\", \"Chickpeas\", \"Goya Lentils\", \"Basmati Rice\",\n",
    "                     \"Spaghetti Pasta\", \"Tomato Sauce\", \"Tuna\"]\n",
    "# selection is slightly different for curr powder\n",
    "# add if to handle this difference\n",
    "\n",
    "bj_east_eu_basket = [\"Ground Beef\", \"Beets\", \"Cabbage\", \"Lamb\", \"Goya Lentils\", \n",
    "                     \"Mushrooms\", \"Pork\", \"Russet Potatoes\", \"Whole Wheat Flour\"]\n",
    "\n",
    "bj_se_asia_basket = [\"Goya Coconut Milk\", \"Edamame\", \"Jasmine Rice\", \"Sardines\", \"Tofu\"]\n",
    "\n",
    "bj_west_af_basket = [\"Pinto Beans\", \"Chicken\", \"Corn Flour\",\n",
    "                     \"Bouillon\", \"Plantains\", \"Russet Potatoes\", \"Tomato Paste\"]\n",
    "# what part of chicken...\n",
    "\n",
    "bj_baskets = [bj_foods, bj_latinx_basket, bj_east_af_basket,\n",
    "              bj_east_eu_basket, bj_se_asia_basket, bj_west_af_basket]\n"
   ]
  },
  {
   "cell_type": "code",
   "execution_count": 236,
   "metadata": {},
   "outputs": [
    {
     "name": "stderr",
     "output_type": "stream",
     "text": [
      "\n",
      "\n",
      "====== WebDriver manager ======\n",
      "Current google-chrome version is 92.0.4515\n",
      "Get LATEST driver version for 92.0.4515\n",
      "Driver [/Users/zacharyalerte/.wdm/drivers/chromedriver/mac64/92.0.4515.107/chromedriver] found in cache\n"
     ]
    },
    {
     "ename": "TimeoutException",
     "evalue": "Message: \n",
     "output_type": "error",
     "traceback": [
      "\u001b[0;31m---------------------------------------------------------------------------\u001b[0m",
      "\u001b[0;31mTimeoutException\u001b[0m                          Traceback (most recent call last)",
      "\u001b[0;32m<ipython-input-236-466bd890574f>\u001b[0m in \u001b[0;36m<module>\u001b[0;34m\u001b[0m\n\u001b[1;32m     15\u001b[0m \u001b[0;32mfor\u001b[0m \u001b[0mzipcode\u001b[0m \u001b[0;32min\u001b[0m \u001b[0mbj_zipcodes\u001b[0m\u001b[0;34m:\u001b[0m\u001b[0;34m\u001b[0m\u001b[0;34m\u001b[0m\u001b[0m\n\u001b[1;32m     16\u001b[0m     \u001b[0;31m#\u001b[0m\u001b[0;34m\u001b[0m\u001b[0;34m\u001b[0m\u001b[0;34m\u001b[0m\u001b[0m\n\u001b[0;32m---> 17\u001b[0;31m     \u001b[0menter_zip\u001b[0m \u001b[0;34m=\u001b[0m \u001b[0mwait\u001b[0m\u001b[0;34m.\u001b[0m\u001b[0muntil\u001b[0m\u001b[0;34m(\u001b[0m\u001b[0mEC\u001b[0m\u001b[0;34m.\u001b[0m\u001b[0melement_to_be_clickable\u001b[0m\u001b[0;34m(\u001b[0m\u001b[0;34m(\u001b[0m\u001b[0mBy\u001b[0m\u001b[0;34m.\u001b[0m\u001b[0mID\u001b[0m\u001b[0;34m,\u001b[0m \u001b[0;34m'search'\u001b[0m\u001b[0;34m)\u001b[0m\u001b[0;34m)\u001b[0m\u001b[0;34m)\u001b[0m\u001b[0;34m\u001b[0m\u001b[0;34m\u001b[0m\u001b[0m\n\u001b[0m\u001b[1;32m     18\u001b[0m     \u001b[0menter_zip\u001b[0m\u001b[0;34m.\u001b[0m\u001b[0mclear\u001b[0m\u001b[0;34m(\u001b[0m\u001b[0;34m)\u001b[0m\u001b[0;34m\u001b[0m\u001b[0;34m\u001b[0m\u001b[0m\n\u001b[1;32m     19\u001b[0m     \u001b[0menter_zip\u001b[0m\u001b[0;34m.\u001b[0m\u001b[0msend_keys\u001b[0m\u001b[0;34m(\u001b[0m\u001b[0mstr\u001b[0m\u001b[0;34m(\u001b[0m\u001b[0mzipcode\u001b[0m\u001b[0;34m)\u001b[0m\u001b[0;34m,\u001b[0m \u001b[0;34m'\\n'\u001b[0m\u001b[0;34m)\u001b[0m\u001b[0;34m\u001b[0m\u001b[0;34m\u001b[0m\u001b[0m\n",
      "\u001b[0;32m~/anaconda3/lib/python3.7/site-packages/selenium/webdriver/support/wait.py\u001b[0m in \u001b[0;36muntil\u001b[0;34m(self, method, message)\u001b[0m\n\u001b[1;32m     78\u001b[0m             \u001b[0;32mif\u001b[0m \u001b[0mtime\u001b[0m\u001b[0;34m.\u001b[0m\u001b[0mtime\u001b[0m\u001b[0;34m(\u001b[0m\u001b[0;34m)\u001b[0m \u001b[0;34m>\u001b[0m \u001b[0mend_time\u001b[0m\u001b[0;34m:\u001b[0m\u001b[0;34m\u001b[0m\u001b[0;34m\u001b[0m\u001b[0m\n\u001b[1;32m     79\u001b[0m                 \u001b[0;32mbreak\u001b[0m\u001b[0;34m\u001b[0m\u001b[0;34m\u001b[0m\u001b[0m\n\u001b[0;32m---> 80\u001b[0;31m         \u001b[0;32mraise\u001b[0m \u001b[0mTimeoutException\u001b[0m\u001b[0;34m(\u001b[0m\u001b[0mmessage\u001b[0m\u001b[0;34m,\u001b[0m \u001b[0mscreen\u001b[0m\u001b[0;34m,\u001b[0m \u001b[0mstacktrace\u001b[0m\u001b[0;34m)\u001b[0m\u001b[0;34m\u001b[0m\u001b[0;34m\u001b[0m\u001b[0m\n\u001b[0m\u001b[1;32m     81\u001b[0m \u001b[0;34m\u001b[0m\u001b[0m\n\u001b[1;32m     82\u001b[0m     \u001b[0;32mdef\u001b[0m \u001b[0muntil_not\u001b[0m\u001b[0;34m(\u001b[0m\u001b[0mself\u001b[0m\u001b[0;34m,\u001b[0m \u001b[0mmethod\u001b[0m\u001b[0;34m,\u001b[0m \u001b[0mmessage\u001b[0m\u001b[0;34m=\u001b[0m\u001b[0;34m''\u001b[0m\u001b[0;34m)\u001b[0m\u001b[0;34m:\u001b[0m\u001b[0;34m\u001b[0m\u001b[0;34m\u001b[0m\u001b[0m\n",
      "\u001b[0;31mTimeoutException\u001b[0m: Message: \n"
     ]
    }
   ],
   "source": [
    "bj_driver = webdriver.Chrome(ChromeDriverManager().install())\n",
    "bj_driver.get(\"https://www.bjs.com/search\")\n",
    "bj_driver.maximize_window()\n",
    "wait = WebDriverWait(bj_driver, driver_wait)\n",
    "time.sleep(sleep_time)\n",
    "\n",
    "change_zip = wait.until(EC.element_to_be_clickable((By.XPATH, '//*[@id=\"header-margin\"]/ul/li[4]/app-header-find-aclub-link-molecule/div/div[2]/span[2]')))\n",
    "change_zip.click()\n",
    "time.sleep(sleep_time)\n",
    "\n",
    "#\n",
    "store_loc = []\n",
    "all_prices = []\n",
    "all_info = []\n",
    "for zipcode in bj_zipcodes: \n",
    "    #\n",
    "    enter_zip = wait.until(EC.element_to_be_clickable((By.ID, 'search')))\n",
    "    enter_zip.clear()\n",
    "    enter_zip.send_keys(str(zipcode), '\\n')\n",
    "    time.sleep(sleep_time)\n",
    "    \n",
    "    #\n",
    "    element = wait.until(EC.element_to_be_clickable((By.XPATH, '//*[@id=\"header-margin\"]/ul/li[4]/app-header-find-aclub-link-molecule/div/div[2]/div/app-header-club-modal-details-molecule/div[2]')))\n",
    "    store_loc.append(\", \".join(element.text.split(\"Miles\")[0].split(\"\\n\")[1:-2]))\n",
    "    \n",
    "    #\n",
    "    make_my_club = wait.until(EC.element_to_be_clickable((By.CLASS_NAME, 'make-myclub')))\n",
    "    make_my_club.click()\n",
    "    time.sleep(sleep_time) # still didn't click..\n",
    "    \n",
    "    store_prices = []\n",
    "    store_info = []\n",
    "    for basket in bj_baskets[:2]:\n",
    "        basket_prices = []\n",
    "        basket_info = []\n",
    "\n",
    "        for food in basket:\n",
    "            #\n",
    "            search = wait.until(EC.element_to_be_clickable((By.ID, 'searchTerm')))\n",
    "            search.clear()\n",
    "            search.send_keys(food, \"\\n\")\n",
    "            time.sleep(2)\n",
    "\n",
    "            #\n",
    "            if food_helper.check_exists_by_xpath(bj_driver, '/html/body/app-root/div/div[2]/div/app-search-main/app-search-result-page-gb/div[1]/app-search-header/div/div[1]/p[2]'):\n",
    "                no_info = wait.until(EC.element_to_be_clickable((By.XPATH, '/html/body/app-root/div/div[2]/div/app-search-main/app-search-result-page-gb/div[1]/app-search-header/div/div[1]/p[2]')))\n",
    "                #\n",
    "                if (no_info.text == \"Here are some related results.\"):\n",
    "                    price = np.nan\n",
    "                    info = \"\"\n",
    "\n",
    "                #\n",
    "                else:\n",
    "                    price = np.nan\n",
    "                    info = \"IDK WHAT HAPPENED\"\n",
    "\n",
    "            # too quick and does not line up with the new paths...\n",
    "            elif food_helper.check_exists_by_xpath(bj_driver, '/html/body/app-root/div/div[2]/div/app-search-main/app-search-result-page-gb/div[2]/div[2]/div/app-products-container/div/div/div[1]/app-product-card/div/div'):\n",
    "                element = wait.until(EC.element_to_be_clickable((By.XPATH, '/html/body/app-root/div/div[2]/div/app-search-main/app-search-result-page-gb/div[2]/div[2]/div/app-products-container/div/div/div[1]/app-product-card/div/div')))\n",
    "                item = element.text.replace(\"Top Rated\\n\", \"\").replace(\"Best Seller\\n\", \"\")\n",
    "                price = (float(item.split(\"\\n$\")[-1].split()[0]) + float(item.split(\"$\")[-1].split()[-1])) / 2\n",
    "                info = item.split(\"\\n\")[0]\n",
    "                food_info.append(element.text)\n",
    "\n",
    "            #\n",
    "            else:\n",
    "                item = wait.until(EC.element_to_be_clickable((By.XPATH, '/html/body/app-root/div/div[2]/div/app-pdp-preprocessor/div/app-pdp-layout-template/div/div/div/div[2]/div[1]/div[2]')))\n",
    "                price = float(item.text.split(\"$\")[1].split(\"\\n\")[0])\n",
    "                info = item.text.split(\"\\n\")[0]\n",
    "\n",
    "            #\n",
    "            basket_prices.append(price)\n",
    "            basket_info.append(info)\n",
    "        \n",
    "        #\n",
    "        store_prices.append(basket_prices)\n",
    "        store_info.append(basket_info)\n",
    "    #\n",
    "    change_zip = wait.until(EC.element_to_be_clickable((By.XPATH, '//*[@id=\"header-margin\"]/ul/li[4]/app-header-find-aclub-link-molecule/div/div[2]/span[2]')))\n",
    "    change_zip.click()\n",
    "\n",
    "    all_prices.append(store_prices)\n",
    "    all_info.append(store_info)\n",
    "    \n",
    "#\n",
    "store_loc = np.array(store_loc)"
   ]
  },
  {
   "cell_type": "code",
   "execution_count": 242,
   "metadata": {},
   "outputs": [
    {
     "name": "stderr",
     "output_type": "stream",
     "text": [
      "\n",
      "\n",
      "====== WebDriver manager ======\n",
      "Current google-chrome version is 92.0.4515\n",
      "Get LATEST driver version for 92.0.4515\n",
      "Driver [/Users/zacharyalerte/.wdm/drivers/chromedriver/mac64/92.0.4515.107/chromedriver] found in cache\n"
     ]
    }
   ],
   "source": [
    "#\n",
    "bj_driver = webdriver.Chrome(ChromeDriverManager().install())\n",
    "bj_driver.get(\"https://www.bjs.com/search\")\n",
    "bj_driver.maximize_window()\n",
    "wait = WebDriverWait(bj_driver, driver_wait)\n",
    "time.sleep(2 * sleep_time)\n",
    "\n",
    "#\n",
    "store_loc = []\n",
    "all_prices = []\n",
    "all_info = []\n",
    "for zipcode in bj_zipcodes: \n",
    "    #\n",
    "    change_zip = wait.until(EC.element_to_be_clickable((By.XPATH, '//*[@id=\"header-margin\"]/ul/li[4]/app-header-find-aclub-link-molecule/div/div[2]/span[2]')))\n",
    "    change_zip.click()\n",
    "    time.sleep(2 * sleep_time)\n",
    "    \n",
    "    #\n",
    "    enter_zip = wait.until(EC.element_to_be_clickable((By.ID, 'search')))\n",
    "    enter_zip.clear()\n",
    "    enter_zip.send_keys(str(zipcode), '\\n')\n",
    "    time.sleep(sleep_time)\n",
    "    \n",
    "    #\n",
    "    element = wait.until(EC.element_to_be_clickable((By.XPATH, '//*[@id=\"header-margin\"]/ul/li[4]/app-header-find-aclub-link-molecule/div/div[2]/div/app-header-club-modal-details-molecule/div[2]')))\n",
    "    store_loc.append(\", \".join(element.text.split(\"Miles\")[0].split(\"\\n\")[1:-2]))\n",
    "    \n",
    "    #\n",
    "    make_my_club = wait.until(EC.element_to_be_clickable((By.CLASS_NAME, 'make-myclub')))\n",
    "    make_my_club.click()\n",
    "    time.sleep(sleep_time) # still didn't click..\n",
    "    \n",
    "    #\n",
    "    store_prices = []\n",
    "    store_info = []\n",
    "    for basket in bj_baskets[:2]:\n",
    "        \n",
    "        #\n",
    "        basket_prices = []\n",
    "        basket_info = []\n",
    "        for food in basket:\n",
    "            #\n",
    "            search = wait.until(EC.element_to_be_clickable((By.ID, 'searchTerm')))\n",
    "            search.clear()\n",
    "            search.send_keys(food, \"\\n\")\n",
    "            time.sleep(2)\n",
    "\n",
    "            #\n",
    "            if food_helper.check_exists_by_xpath(bj_driver, '/html/body/app-root/div/div[2]/div/app-search-main/app-search-result-page-gb/div[1]/app-search-header/div/div[1]/p[2]'):\n",
    "                no_info = wait.until(EC.element_to_be_clickable((By.XPATH, '/html/body/app-root/div/div[2]/div/app-search-main/app-search-result-page-gb/div[1]/app-search-header/div/div[1]/p[2]')))\n",
    "                #\n",
    "                if (no_info.text == \"Here are some related results.\"):\n",
    "                    price = np.nan\n",
    "                    info = \"\"\n",
    "\n",
    "                #\n",
    "                else:\n",
    "                    price = np.nan\n",
    "                    info = \"IDK WHAT HAPPENED\"\n",
    "\n",
    "            # too quick and does not line up with the new paths...\n",
    "            elif food_helper.check_exists_by_xpath(bj_driver, '/html/body/app-root/div/div[2]/div/app-search-main/app-search-result-page-gb/div[2]/div[2]/div/app-products-container/div/div/div[1]/app-product-card/div/div'):\n",
    "                element = wait.until(EC.element_to_be_clickable((By.XPATH, '/html/body/app-root/div/div[2]/div/app-search-main/app-search-result-page-gb/div[2]/div[2]/div/app-products-container/div/div/div[1]/app-product-card/div/div')))\n",
    "                item = element.text.replace(\"Top Rated\\n\", \"\").replace(\"Best Seller\\n\", \"\")\n",
    "                price = (float(item.split(\"\\n$\")[-1].split()[0]) + float(item.split(\"$\")[-1].split()[-1])) / 2\n",
    "                info = item.split(\"\\n\")[0]\n",
    "                food_info.append(element.text)\n",
    "\n",
    "            #\n",
    "            else:\n",
    "                #\n",
    "                item = wait.until(EC.element_to_be_clickable((By.XPATH, '/html/body/app-root/div/div[2]/div/app-pdp-preprocessor/div/app-pdp-layout-template/div/div/div/div[2]/div[1]/div[2]')))\n",
    "                info = item.text.split(\"\\n\")[0]\n",
    "                \n",
    "                #\n",
    "                if \"SOLD OUT\" in item.text:\n",
    "                    price = np.nan\n",
    "\n",
    "                #\n",
    "                else:\n",
    "                    price = float(item.text.split(\"$\")[1].split(\"\\n\")[0])\n",
    "\n",
    "            #\n",
    "            basket_prices.append(price)\n",
    "            basket_info.append(info)\n",
    "        \n",
    "        #\n",
    "        store_prices.append(basket_prices)\n",
    "        store_info.append(basket_info)\n",
    "\n",
    "    #\n",
    "    all_prices.append(store_prices)\n",
    "    all_info.append(store_info)\n",
    "    \n",
    "#\n",
    "store_loc = np.array(store_loc)"
   ]
  },
  {
   "cell_type": "markdown",
   "metadata": {},
   "source": [
    "## Sam's Club"
   ]
  },
  {
   "cell_type": "code",
   "execution_count": null,
   "metadata": {
    "code_folding": []
   },
   "outputs": [],
   "source": [
    "# Sam's Club\n",
    "sam_foods = [\"Milk\", \"Grade A Large White Eggs\", \"Member's Mark Plain Bagels\", \"Bread\",\n",
    "            \"Penne Pasta Rigate\", \"Gala Apples\", \"Ground Turkey\", \"Sliced Ham\",\n",
    "            \"Butter\", \"Russet Potatoes\", \"Large Seedless Oranges\", \"Tomatoes Roma\",\n",
    "            \"Ground Beef 80%\", \"Mexican Cheese\", \"Nonfat Plain Yogurt\", \"Cereal Honey\"]\n",
    "#only greek yogurt\n",
    "\n",
    "sam_latinx_basket = [\"Avocado\", \"Ground Beef 80%\", \"Member's Mark Black Beans\", \"Mexican Cheese\",\n",
    "                    \"Corn Tortilla\", \"Jalapenos\", \"Masa\",\n",
    "                    \"Green Bell Peppers\", \"Member's Mark Pinto Beans\", \"White Rice\",\n",
    "                    \"Salsa Medium\", \"Squash\", \"Tomatillos\", \"Tomatoes Roma\"]\n",
    "# what size for rice?? 25 or 50lbs... // same with salsa medium\n",
    "\n",
    "sam_east_af_basket = [\"Curry Powder\", \"Member's Mark Pinto Beans\", \"Chickpeas\", \"Basmati Rice\",\n",
    "                     \"Spaghetti Pasta\", \"Tomato Sauce\", \"Member's Mark Tuna\"]\n",
    "\n",
    "sam_east_eu_basket = [\"Ground Beef 80%\", \"Lamb\", \"Goya Lentils\", \n",
    "                     \"Mushrooms\", \"Pork\", \"Russet Potatoes\", \"Wheat Flour\"]\n",
    "\n",
    "sam_se_asia_basket = [\"Coconut Milk\", \"Rice Flour\", \"Taste of Thai Rice Noodles\",\n",
    "                      \"Member's Mark Jasmine Rice\", \"Sardines\", \"Squash\"]\n",
    "\n",
    "sam_west_af_basket = [\"Member's Mark Pinto Beans\", \"Chicken Breast\", \"Masa\",\n",
    "                     \"Bouillon\", \"Russet Potatoes\", \"Tomato Paste\"]\n",
    "# what part of chicken...\n",
    "\n",
    "sam_baskets = [sam_foods, sam_latinx_basket, sam_east_af_basket,\n",
    "              sam_east_eu_basket, sam_se_asia_basket, sam_west_af_basket]\n"
   ]
  },
  {
   "cell_type": "code",
   "execution_count": null,
   "metadata": {},
   "outputs": [],
   "source": [
    "sam_driver = webdriver.Chrome(ChromeDriverManager().install())\n",
    "sam_driver.get(\"https://www.samsclub.com/s/\")\n",
    "sam_driver.maximize_window()\n",
    "\n",
    "# also has reCAPTCHA"
   ]
  },
  {
   "cell_type": "code",
   "execution_count": null,
   "metadata": {},
   "outputs": [],
   "source": [
    "names = np.array(['Sam_Universal_Food.csv', 'Sam_Latinx_Food.csv', 'Sam_East_Af_Food.csv',\n",
    "                  'Sam_East_Eu_Food.csv', 'Sam_SE_Asia_Food.csv', 'Sam_West_Af_Food.csv'])\n",
    "\n",
    "sams_club(sam_driver, zipcodes, names, 20, 2, sam_foods, sam_latinx_basket, sam_east_af_basket,\n",
    "              sam_east_eu_basket, sam_se_asia_basket, sam_west_af_basket)"
   ]
  },
  {
   "cell_type": "code",
   "execution_count": null,
   "metadata": {},
   "outputs": [],
   "source": [
    "## NEED TO FIGURE OUT LOCATION.. GETTING GENERAL NAME ISN'T TOUGH BUT WHAT ABOUT OTHER STORES...\n",
    "\n",
    "# location = wait.until(EC.element_to_be_clickable((By.XPATH, '/html/body/div[1]/div[2]/div[1]/div/div/div[2]/div/nav[2]/div/div[2]/div/div/button')))\n",
    "# location.click()"
   ]
  },
  {
   "cell_type": "code",
   "execution_count": null,
   "metadata": {},
   "outputs": [],
   "source": [
    "universal_df_copy = universal_df.copy()\n",
    "universal_df_copy[\"name\"] = universal_df_copy[\"Store\"]\n",
    "universal_df_copy = universal_df_copy.drop([\"Item\", \"Price\", \"Other_Info\", \"Store\"], axis = 1)\n",
    "universal_df_copy.head()"
   ]
  },
  {
   "cell_type": "code",
   "execution_count": null,
   "metadata": {},
   "outputs": [],
   "source": [
    "address = np.array([re.sub(\"^\\\\D*\", \"\", universal_df_copy.Location.iloc[i]).split(\",\")[0] for i in range(len(universal_df_copy))])\n",
    "most_info = np.array([re.sub(\"^\\\\D*\", \"\", universal_df_copy.Location.iloc[i]) for i in range(len(universal_df_copy))])\n",
    "\n",
    "zipcode = [int(most_info[i].split(\" \")[-1][:5]) for i in range(len(most_info))] # good\n",
    "state = [most_info[i].split(\" \")[-2].strip(\",\") for i in range(len(most_info))] # includnig washington in DC?\n",
    "city = [most_info[i].split(\",\")[-2].strip(\" \") for i in range(len(most_info))] # good\n"
   ]
  },
  {
   "cell_type": "code",
   "execution_count": null,
   "metadata": {},
   "outputs": [],
   "source": [
    "universal_df_copy['Address'] = address\n",
    "universal_df_copy['City'] = city\n",
    "universal_df_copy['State'] = state\n",
    "universal_df_copy['zipcode'] = zipcode\n",
    "universal_df_copy = universal_df_copy.drop([\"Location\"], axis = 1)\n",
    "universal_df_copy.head()"
   ]
  },
  {
   "cell_type": "code",
   "execution_count": null,
   "metadata": {},
   "outputs": [],
   "source": [
    "universal_df_copy.to_csv(\"Store_Locations_df.csv\")"
   ]
  },
  {
   "cell_type": "code",
   "execution_count": null,
   "metadata": {
    "scrolled": true
   },
   "outputs": [],
   "source": [
    "# !pip install geopandas\n",
    "# !pip install geopy"
   ]
  },
  {
   "cell_type": "code",
   "execution_count": 7,
   "metadata": {},
   "outputs": [],
   "source": [
    "universal_df_copy = pd.read_csv(\"Store_Locations_df.csv\", index_col = 0)\n",
    "universal_df_copy_short = universal_df_copy.drop_duplicates().reset_index(drop=True)"
   ]
  },
  {
   "cell_type": "code",
   "execution_count": 8,
   "metadata": {},
   "outputs": [],
   "source": [
    "universal_df_copy_short[\"City\"] = [universal_df_copy_short[\"City\"][i].replace(\" VA\", \"\").replace(\" DC\", \"\") for i in range(len(universal_df_copy_short))]"
   ]
  },
  {
   "cell_type": "code",
   "execution_count": 9,
   "metadata": {},
   "outputs": [],
   "source": [
    "short_address = universal_df_copy_short[\"Address\"]\n",
    "short_city = universal_df_copy_short[\"City\"]\n",
    "short_state = universal_df_copy_short[\"State\"]\n",
    "short_zipcode = universal_df_copy_short[\"zipcode\"]"
   ]
  },
  {
   "cell_type": "code",
   "execution_count": null,
   "metadata": {
    "scrolled": true
   },
   "outputs": [],
   "source": [
    "# errors = 0\n",
    "# from geopy.geocoders import Nominatim\n",
    "# locator = Nominatim(user_agent=\"myGeocoder\")\n",
    "\n",
    "# idxs = []\n",
    "# lat = []\n",
    "# long = []\n",
    "# for i in range(len(short_address)):\n",
    "#     #\n",
    "#     try:\n",
    "#         location = locator.geocode(\"{}, {}, {} {}\".format(short_address[i], short_city[i], short_state[i], short_zipcode[i]))\n",
    "#         print(\"{}, {}, {} {}\".format(short_address[i], short_city[i], short_state[i], short_zipcode[i]))\n",
    "#         print(\"Latitude = {}, Longitude = {}\".format(location.latitude, location.longitude))\n",
    "#         idxs.append(i)\n",
    "#         lat.append(location.latitude)\n",
    "#         long.append(location.longitude)\n",
    "    \n",
    "#     #\n",
    "#     except:\n",
    "#         #\n",
    "#         print(\"Error at {}\".format(i))\n",
    "#         errors += 1\n",
    "#         continue\n",
    "        \n",
    "# #\n",
    "# print(\"\\nThere are {} errors.\".format(errors))"
   ]
  },
  {
   "cell_type": "code",
   "execution_count": 10,
   "metadata": {},
   "outputs": [
    {
     "ename": "NameError",
     "evalue": "name 'idxs' is not defined",
     "output_type": "error",
     "traceback": [
      "\u001b[0;31m---------------------------------------------------------------------------\u001b[0m",
      "\u001b[0;31mNameError\u001b[0m                                 Traceback (most recent call last)",
      "\u001b[0;32m<ipython-input-10-2a25d88bee78>\u001b[0m in \u001b[0;36m<module>\u001b[0;34m\u001b[0m\n\u001b[0;32m----> 1\u001b[0;31m \u001b[0muniversal_df_copy_short_ll\u001b[0m \u001b[0;34m=\u001b[0m \u001b[0muniversal_df_copy_short\u001b[0m\u001b[0;34m.\u001b[0m\u001b[0miloc\u001b[0m\u001b[0;34m[\u001b[0m\u001b[0mnp\u001b[0m\u001b[0;34m.\u001b[0m\u001b[0marray\u001b[0m\u001b[0;34m(\u001b[0m\u001b[0midxs\u001b[0m\u001b[0;34m)\u001b[0m\u001b[0;34m]\u001b[0m\u001b[0;34m.\u001b[0m\u001b[0mcopy\u001b[0m\u001b[0;34m(\u001b[0m\u001b[0;34m)\u001b[0m\u001b[0;34m\u001b[0m\u001b[0;34m\u001b[0m\u001b[0m\n\u001b[0m\u001b[1;32m      2\u001b[0m \u001b[0muniversal_df_copy_short_ll\u001b[0m\u001b[0;34m[\u001b[0m\u001b[0;34m\"Latitude\"\u001b[0m\u001b[0;34m]\u001b[0m \u001b[0;34m=\u001b[0m \u001b[0mlat\u001b[0m\u001b[0;34m\u001b[0m\u001b[0;34m\u001b[0m\u001b[0m\n\u001b[1;32m      3\u001b[0m \u001b[0muniversal_df_copy_short_ll\u001b[0m\u001b[0;34m[\u001b[0m\u001b[0;34m\"Longitude\"\u001b[0m\u001b[0;34m]\u001b[0m \u001b[0;34m=\u001b[0m \u001b[0mlong\u001b[0m\u001b[0;34m\u001b[0m\u001b[0;34m\u001b[0m\u001b[0m\n\u001b[1;32m      4\u001b[0m \u001b[0muniversal_df_copy_short_ll\u001b[0m\u001b[0;34m.\u001b[0m\u001b[0mhead\u001b[0m\u001b[0;34m(\u001b[0m\u001b[0;34m)\u001b[0m\u001b[0;34m\u001b[0m\u001b[0;34m\u001b[0m\u001b[0m\n",
      "\u001b[0;31mNameError\u001b[0m: name 'idxs' is not defined"
     ]
    }
   ],
   "source": [
    "universal_df_copy_short_ll = universal_df_copy_short.iloc[np.array(idxs)].copy()\n",
    "universal_df_copy_short_ll[\"Latitude\"] = lat\n",
    "universal_df_copy_short_ll[\"Longitude\"] = long\n",
    "universal_df_copy_short_ll.head()\n"
   ]
  },
  {
   "cell_type": "code",
   "execution_count": null,
   "metadata": {},
   "outputs": [],
   "source": [
    "universal_df_copy_short_ll.to_csv(\"Store_Locations_df_w_ll.csv\")\n"
   ]
  },
  {
   "cell_type": "code",
   "execution_count": 90,
   "metadata": {
    "scrolled": true
   },
   "outputs": [],
   "source": [
    "#trying to get latitude and longitude data for stores\n",
    "big_location_df = pd.read_csv(\"export_w_target.csv\", index_col = 0)\n",
    "basic_stores = [\"whole foods market\", \"harris teeter\", \"aldi\", \"giant\", \"safeway\", \"target\"]\n",
    "basic_stores_location_df = big_location_df[big_location_df['brand'].str.lower().isin(basic_stores)]\n",
    "narrow_basic_stores_location_df = basic_stores_location_df[['brand', 'lat', 'long']].reset_index(drop = True)"
   ]
  },
  {
   "cell_type": "code",
   "execution_count": 92,
   "metadata": {
    "scrolled": true
   },
   "outputs": [],
   "source": [
    "narrow_basic_stores_location_df.to_csv(\"Narrow_basic_stores_location_df.csv\")"
   ]
  },
  {
   "cell_type": "code",
   "execution_count": null,
   "metadata": {},
   "outputs": [],
   "source": [
    "# Aldi does not have zipcodes or towns...\n",
    "# Target info is a bit werid but can be cleaned\n"
   ]
  },
  {
   "cell_type": "code",
   "execution_count": 35,
   "metadata": {},
   "outputs": [
    {
     "name": "stderr",
     "output_type": "stream",
     "text": [
      "\n",
      "\n",
      "====== WebDriver manager ======\n",
      "Current google-chrome version is 92.0.4515\n",
      "Get LATEST driver version for 92.0.4515\n",
      "Driver [/Users/zacharyalerte/.wdm/drivers/chromedriver/mac64/92.0.4515.107/chromedriver] found in cache\n"
     ]
    }
   ],
   "source": [
    "# HMart\n",
    "giant_se_asia_foods = [\"Coconut Milk\", \"Fish Sauce\", \"Vermicelli\", \"Oyster Sauce\",\n",
    "                       \"Rice Flour\", \"Rice Noodles\", \"Jasmine Rice\"]\n",
    "\n",
    "# start hmart driver\n",
    "hmart_driver = webdriver.Chrome(ChromeDriverManager().install())\n",
    "hmart_driver.get(\"https://www.hmart.com/\")\n",
    "hmart_driver.maximize_window()\n",
    "wait = WebDriverWait(hmart_driver, 20)\n",
    "\n",
    "#\n",
    "all_info = []\n",
    "random_zips = zipcodes[::5]\n",
    "for random_zip in random_zips:\n",
    "    #\n",
    "    click_zipcode = wait.until(EC.element_to_be_clickable((By.XPATH, \"//header/div[2]/div/div/div[2]/div/div[1]\")))\n",
    "    click_zipcode.click()\n",
    "\n",
    "    #\n",
    "    send_zip = wait.until(EC.element_to_be_clickable((By.ID, \"zipcode_hfresh\")))\n",
    "    send_zip.clear()\n",
    "    send_zip.send_keys(str(random_zip), \"\\n\")\n",
    "    \n",
    "    #\n",
    "    info = []\n",
    "    for food in giant_se_asia_foods:\n",
    "        #\n",
    "        search = wait.until(EC.element_to_be_clickable((By.ID, \"search\")))\n",
    "        search.clear()\n",
    "        search.send_keys(food, \"\\n\")\n",
    "\n",
    "        #\n",
    "        element = wait.until(EC.element_to_be_clickable((By.XPATH, \"//ol/li[1]/div/div\")))\n",
    "        info.append(element.text.replace(\"\\nAdd to Cart\", \"\").replace(\"\\nSALE\", \"\"))\n",
    "\n",
    "    #\n",
    "    all_info.append(info)\n",
    "    \n",
    "# close hmart driver\n",
    "hmart_driver.quit()\n",
    "\n",
    "#\n",
    "all_info = np.array(all_info)\n"
   ]
  },
  {
   "cell_type": "code",
   "execution_count": 43,
   "metadata": {},
   "outputs": [
    {
     "data": {
      "text/plain": [
       "array([[ 1.99,  6.99,  3.99,  5.99,  3.99,  3.99, 22.99],\n",
       "       [ 1.99,  6.99,  3.99,  5.99,  3.99,  3.99, 22.99],\n",
       "       [ 1.99,  6.99,  3.99,  5.99,  3.99,  3.99, 22.99],\n",
       "       [ 1.99,  6.99,  3.99,  5.99,  3.99,  3.99, 22.99],\n",
       "       [ 1.99,  6.99,  3.99,  5.99,  3.99,  3.99, 22.99],\n",
       "       [ 1.99,  6.99,  3.99,  5.99,  3.99,  3.99, 22.99]])"
      ]
     },
     "execution_count": 43,
     "metadata": {},
     "output_type": "execute_result"
    }
   ],
   "source": [
    "hmart_prices = np.array([[float(all_info[j][i].split(\"\\n\")[-1].split(\" \")[0].replace(\"$\", \"\")) for i in range(len(all_info[j]))] for j in range(len(all_info))])\n"
   ]
  },
  {
   "cell_type": "code",
   "execution_count": null,
   "metadata": {},
   "outputs": [],
   "source": []
  },
  {
   "cell_type": "markdown",
   "metadata": {},
   "source": [
    "## Kroger's"
   ]
  },
  {
   "cell_type": "code",
   "execution_count": 248,
   "metadata": {},
   "outputs": [
    {
     "name": "stderr",
     "output_type": "stream",
     "text": [
      "\n",
      "\n",
      "====== WebDriver manager ======\n",
      "Current google-chrome version is 93.0.4577\n",
      "Get LATEST driver version for 93.0.4577\n",
      "Driver [/Users/zacharyalerte/.wdm/drivers/chromedriver/mac64/93.0.4577.15/chromedriver] found in cache\n"
     ]
    }
   ],
   "source": [
    "krogers_driver = webdriver.Chrome(ChromeDriverManager().install())\n",
    "krogers_driver.get(\"https://www.kroger.com/\")\n",
    "krogers_driver.maximize_window()"
   ]
  },
  {
   "cell_type": "code",
   "execution_count": 251,
   "metadata": {},
   "outputs": [
    {
     "ename": "KeyboardInterrupt",
     "evalue": "",
     "output_type": "error",
     "traceback": [
      "\u001b[0;31m---------------------------------------------------------------------------\u001b[0m",
      "\u001b[0;31mKeyboardInterrupt\u001b[0m                         Traceback (most recent call last)",
      "\u001b[0;32m<ipython-input-251-29b8c8c5eab7>\u001b[0m in \u001b[0;36m<module>\u001b[0;34m\u001b[0m\n\u001b[1;32m      1\u001b[0m \u001b[0mwait\u001b[0m \u001b[0;34m=\u001b[0m \u001b[0mWebDriverWait\u001b[0m\u001b[0;34m(\u001b[0m\u001b[0mkrogers_driver\u001b[0m\u001b[0;34m,\u001b[0m \u001b[0;36m20\u001b[0m\u001b[0;34m)\u001b[0m\u001b[0;34m\u001b[0m\u001b[0;34m\u001b[0m\u001b[0m\n\u001b[0;32m----> 2\u001b[0;31m \u001b[0msearch\u001b[0m \u001b[0;34m=\u001b[0m \u001b[0mwait\u001b[0m\u001b[0;34m.\u001b[0m\u001b[0muntil\u001b[0m\u001b[0;34m(\u001b[0m\u001b[0mEC\u001b[0m\u001b[0;34m.\u001b[0m\u001b[0melement_to_be_clickable\u001b[0m\u001b[0;34m(\u001b[0m\u001b[0;34m(\u001b[0m\u001b[0mBy\u001b[0m\u001b[0;34m.\u001b[0m\u001b[0mXPATH\u001b[0m\u001b[0;34m,\u001b[0m \u001b[0;34m'//*[@id=\"SearchBar-input-open\"]'\u001b[0m\u001b[0;34m)\u001b[0m\u001b[0;34m)\u001b[0m\u001b[0;34m)\u001b[0m\u001b[0;34m\u001b[0m\u001b[0;34m\u001b[0m\u001b[0m\n\u001b[0m\u001b[1;32m      3\u001b[0m \u001b[0msearch\u001b[0m\u001b[0;34m.\u001b[0m\u001b[0mclear\u001b[0m\u001b[0;34m(\u001b[0m\u001b[0;34m)\u001b[0m\u001b[0;34m\u001b[0m\u001b[0;34m\u001b[0m\u001b[0m\n\u001b[1;32m      4\u001b[0m \u001b[0msearch\u001b[0m\u001b[0;34m.\u001b[0m\u001b[0msend_keys\u001b[0m\u001b[0;34m(\u001b[0m\u001b[0;34m\"Whole Milk\"\u001b[0m\u001b[0;34m,\u001b[0m \u001b[0;34m\"\\n\"\u001b[0m\u001b[0;34m)\u001b[0m\u001b[0;34m\u001b[0m\u001b[0;34m\u001b[0m\u001b[0m\n",
      "\u001b[0;32m~/anaconda3/lib/python3.7/site-packages/selenium/webdriver/support/wait.py\u001b[0m in \u001b[0;36muntil\u001b[0;34m(self, method, message)\u001b[0m\n\u001b[1;32m     75\u001b[0m                 \u001b[0mscreen\u001b[0m \u001b[0;34m=\u001b[0m \u001b[0mgetattr\u001b[0m\u001b[0;34m(\u001b[0m\u001b[0mexc\u001b[0m\u001b[0;34m,\u001b[0m \u001b[0;34m'screen'\u001b[0m\u001b[0;34m,\u001b[0m \u001b[0;32mNone\u001b[0m\u001b[0;34m)\u001b[0m\u001b[0;34m\u001b[0m\u001b[0;34m\u001b[0m\u001b[0m\n\u001b[1;32m     76\u001b[0m                 \u001b[0mstacktrace\u001b[0m \u001b[0;34m=\u001b[0m \u001b[0mgetattr\u001b[0m\u001b[0;34m(\u001b[0m\u001b[0mexc\u001b[0m\u001b[0;34m,\u001b[0m \u001b[0;34m'stacktrace'\u001b[0m\u001b[0;34m,\u001b[0m \u001b[0;32mNone\u001b[0m\u001b[0;34m)\u001b[0m\u001b[0;34m\u001b[0m\u001b[0;34m\u001b[0m\u001b[0m\n\u001b[0;32m---> 77\u001b[0;31m             \u001b[0mtime\u001b[0m\u001b[0;34m.\u001b[0m\u001b[0msleep\u001b[0m\u001b[0;34m(\u001b[0m\u001b[0mself\u001b[0m\u001b[0;34m.\u001b[0m\u001b[0m_poll\u001b[0m\u001b[0;34m)\u001b[0m\u001b[0;34m\u001b[0m\u001b[0;34m\u001b[0m\u001b[0m\n\u001b[0m\u001b[1;32m     78\u001b[0m             \u001b[0;32mif\u001b[0m \u001b[0mtime\u001b[0m\u001b[0;34m.\u001b[0m\u001b[0mtime\u001b[0m\u001b[0;34m(\u001b[0m\u001b[0;34m)\u001b[0m \u001b[0;34m>\u001b[0m \u001b[0mend_time\u001b[0m\u001b[0;34m:\u001b[0m\u001b[0;34m\u001b[0m\u001b[0;34m\u001b[0m\u001b[0m\n\u001b[1;32m     79\u001b[0m                 \u001b[0;32mbreak\u001b[0m\u001b[0;34m\u001b[0m\u001b[0;34m\u001b[0m\u001b[0m\n",
      "\u001b[0;31mKeyboardInterrupt\u001b[0m: "
     ]
    }
   ],
   "source": [
    "# throwing strange errors...\n",
    "wait = WebDriverWait(krogers_driver, 20)\n",
    "search = wait.until(EC.element_to_be_clickable((By.XPATH, '//*[@id=\"SearchBar-input-open\"]')))\n",
    "search.clear()\n",
    "search.send_keys(\"Whole Milk\", \"\\n\")\n"
   ]
  },
  {
   "cell_type": "code",
   "execution_count": null,
   "metadata": {},
   "outputs": [],
   "source": []
  },
  {
   "cell_type": "markdown",
   "metadata": {},
   "source": [
    "## Wegmans"
   ]
  },
  {
   "cell_type": "code",
   "execution_count": 315,
   "metadata": {
    "code_folding": []
   },
   "outputs": [],
   "source": [
    "# Wegmans\n",
    "wegmans_basket = [\"Whole Milk\", \"Large Eggs\", \"Plain Bagels\", \"Bread\",\n",
    "                  \"Wegmans Penne\", \"Gala Apples\", \"Ground Turkey\", \"Ham\",\n",
    "                  \"Wegmans Butter\", \"Wegmans Russet Potatoes\", \"Oranges\", \"Tomatoes\",\n",
    "                  \"Ground Beef\", \"Mexican Cheese\", \"Wegmans Plain Lowfat Yogurt\", \"Cereal Honey\"]\n",
    "\n",
    "wegmans_latinx_basket = [\"Avocado\", \"Ground Beef\", \"Black Beans\", \"Mexican Cheese\",\n",
    "                         \"Tortillas Corn\", \"Jalapenos\", \"Instant Corn Masa\",\n",
    "                         \"Green Bell Peppers\", \"Pinto Beans\", \"Long Grain White Rice\",\n",
    "                         \"Wegmans Medium Salsa\", \"Green Squash\", \"Tomatillos\", \"Tomatoes Roma\"]\n",
    "# what size for rice?? 25 or 50lbs... // same with salsa medium\n",
    "\n",
    "wegmans_east_af_basket = [\"Laxmi Curry Powder\", \"Pinto Beans\", \"Chickpeas\", \"Dried Dates\",\n",
    "                          \"Fava Beans\", \"Goat Cubes\", \"Goya Lentils\", \"Wegmans Basmati Rice\",\n",
    "                          \"Spaghetti Pasta\", \"Tomato Sauce\", \"Tuna\"]\n",
    "# maybe sort for cheap curry powder\n",
    "\n",
    "wegmans_east_eu_basket = [\"Barley\", \"Ground Beef\", \"Beets\", \"Lamb\", \"Goya Lentils\", \"Cabbage\", \"Kasha\",\n",
    "                          \"Mushrooms\", \"Pork\", \"Wegmans Russet Potatoes\", \"Wheat Flour\", \"Veal\"]\n",
    "\n",
    "wegmans_se_asia_basket = [\"Bamboo Shoots\", \"Baby Corn\", \"Bean Threads\", \"Silk Coconut Milk\",\n",
    "                          \"Curry Paste\", \"Edamame\", \"Eggplant\", \"Fish Sauce\",\n",
    "                          \"Vermicelli\", \"Oyster Sauce\", \"Rice Flour\", \"Thai Rice Noodles\",\n",
    "                          \"Wegmans Jasmine Rice\", \"Sardines\", \"Squash\", \"Tapioca Flour\", \"Tofu\"]\n",
    "\n",
    "wegmans_west_af_basket = [\"Black Eyed Peas\", \"Cassava\", \"Chicken Breast\",  \"Instant Corn Masa\",\n",
    "                          \"Goat Cubes\", \"Bouillon Cubes\", \"Palm Oil\", \"Dole Plantains\",\n",
    "                          \"Wegmans Russet Potatoes\", \"Tomato Paste\", \"Yams\"]\n",
    "# what part of chicken...\n",
    "\n",
    "wegmans_baskets = [wegmans_foods, wegmans_latinx_basket, wegmans_east_af_basket,\n",
    "                   wegmans_east_eu_basket, wegmans_se_asia_basket, wegmans_west_af_basket]\n"
   ]
  },
  {
   "cell_type": "code",
   "execution_count": 286,
   "metadata": {},
   "outputs": [],
   "source": [
    "zip_df = pd.read_csv(\"csvData.csv\")\n",
    "all_va_zips = zip_df.zip"
   ]
  },
  {
   "cell_type": "code",
   "execution_count": 296,
   "metadata": {},
   "outputs": [],
   "source": [
    "wegman_cities = ['Alexandria', 'Chantilly', 'Charlottesville', 'Dulles', 'Fairfax',\n",
    "                 'Fredericksburg', 'Lake Manassas', 'Leesburg', 'Midlothian', 'Potomac',\n",
    "                 'Short Pump', 'Tysons', 'Virginia Beach']"
   ]
  },
  {
   "cell_type": "code",
   "execution_count": 310,
   "metadata": {},
   "outputs": [
    {
     "name": "stderr",
     "output_type": "stream",
     "text": [
      "\n",
      "\n",
      "====== WebDriver manager ======\n",
      "Current google-chrome version is 93.0.4577\n",
      "Get LATEST driver version for 93.0.4577\n",
      "Driver [/Users/zacharyalerte/.wdm/drivers/chromedriver/mac64/93.0.4577.15/chromedriver] found in cache\n"
     ]
    }
   ],
   "source": [
    "### NEED TO ADD IN OTHER CULTURAL BASKETS!! - GOOD THING IS THAT WE HAVE INFO ON THE ENTIRE STATE!\n",
    "wegmans_driver = webdriver.Chrome(ChromeDriverManager().install())\n",
    "wegmans_driver.get(\"https://shop.wegmans.com/shop/categories\")\n",
    "wegmans_driver.maximize_window()\n",
    "wait = WebDriverWait(wegmans_driver, 20)\n",
    "\n",
    "in_store = wait.until(EC.element_to_be_clickable((By.XPATH, '/html/body/div[1]/div/div/div/div/div[2]/div/div/div[2]/span/shopping-context-item[3]/button')))\n",
    "in_store.click()\n",
    "\n",
    "all_info = []\n",
    "for city in wegman_cities:\n",
    "    search = wait.until(EC.element_to_be_clickable((By.XPATH, '/html/body/div[1]/div/div[2]/div/header/div[2]/div[1]/div/div[2]/unata-shopping-selector-nav/div/div/react-context-selector/div/div[3]/button')))\n",
    "    search.click()\n",
    "    \n",
    "    enter_zip = wait.until(EC.element_to_be_clickable((By.XPATH, '/html/body/div[1]/div/div/div/div/div[2]/div/div/div/div/div[1]/div[2]/form/div/input')))\n",
    "    enter_zip.clear()\n",
    "    enter_zip.send_keys(city, \"\\n\")\n",
    "    \n",
    "    select = wait.until(EC.element_to_be_clickable((By.XPATH, '/html/body/div[1]/div/div/div/div/div[2]/div/div/div/div/div[2]/div[2]/div/div/div/div/div[2]/button')))\n",
    "    select.click()\n",
    "    time.sleep(sleep_time)\n",
    "    \n",
    "    info = []\n",
    "    for food in wegmans_basket:\n",
    "        search = wait.until(EC.element_to_be_clickable((By.ID, 'search-nav-input')))\n",
    "        search.clear()\n",
    "        search.send_keys(food, \"\\n\")\n",
    "        time.sleep(sleep_time)\n",
    "\n",
    "        element = wait.until(EC.element_to_be_clickable((By.CLASS_NAME, 'cell-content-wrapper')))\n",
    "        info.append(element.text)\n",
    "    \n",
    "    all_info.append(info)\n",
    "\n",
    "item = np.array([[all_info[j][i].split(\"\\n\")[0] for i in range(len(all_info[j]))] for j in range(len(all_info))])\n",
    "price = np.array([[float(all_info[j][i].split(\"$\")[1].split(\" \")[0]) for i in range(len(all_info[j]))] for j in range(len(all_info))])\n",
    "    \n",
    "wegmans_driver.quit()"
   ]
  },
  {
   "cell_type": "code",
   "execution_count": null,
   "metadata": {},
   "outputs": [],
   "source": []
  },
  {
   "cell_type": "markdown",
   "metadata": {},
   "source": [
    "Example:"
   ]
  },
  {
   "cell_type": "code",
   "execution_count": 48,
   "metadata": {},
   "outputs": [],
   "source": [
    "# check if xpath exists, if not return false\n",
    "def check_exists_by_xpath(driver, xpath):\n",
    "    '''\n",
    "    Description:\n",
    "        Check existence of xpath on page\n",
    "    \n",
    "    Inputs:\n",
    "        webdriver: your webdriver\n",
    "        xpath: whatever element we are looking for\n",
    "        \n",
    "    Outputs:\n",
    "        returns True if xpath exists, False if not\n",
    "    '''\n",
    "    # try to find element\n",
    "    try:\n",
    "        driver.find_element_by_xpath(xpath)\n",
    "    \n",
    "    # throw exception and return false if unable to find\n",
    "    except NoSuchElementException:\n",
    "        return False\n",
    "    return True"
   ]
  },
  {
   "cell_type": "code",
   "execution_count": 51,
   "metadata": {},
   "outputs": [],
   "source": [
    "\n",
    "### TARGET\n",
    "def target_locations(zipcodes, sleep_time = 2, driver_wait = 20):\n",
    "    '''\n",
    "    Description:\n",
    "        Identify unique Targets in the Arlington Area\n",
    "    \n",
    "    Inputs:\n",
    "        zipcodes:\n",
    "        sleep_time: integer, system sleep time between certain processes, default = 2\n",
    "        driver_wait: integer, wait time for driver - default = 20\n",
    "        \n",
    "    Outputs:\n",
    "        target_zipcodes: array of zipcodes shortened to identify unique Targets\n",
    "        unique_target_locs: array of Target locations\n",
    "    '''\n",
    "    # Create Target driver and visit website\n",
    "    target_driver = webdriver.Chrome(ChromeDriverManager().install())\n",
    "    target_driver.maximize_window()\n",
    "    target_driver.get(\"https://www.target.com/c/grocery/-/N-5xt1a\")\n",
    "\n",
    "    # select store option to begin passing in zipcodes\n",
    "    wait = WebDriverWait(target_driver, driver_wait)\n",
    "    store = wait.until(EC.element_to_be_clickable((By.ID, 'storeId-utilityNavBtn')))\n",
    "    store.click()\n",
    "\n",
    "    # loop over zipcodes to collect information on store location\n",
    "    target_info = []\n",
    "    for zipcode in zipcodes:\n",
    "        # click on option to edit zipcode\n",
    "        edit = wait.until(EC.element_to_be_clickable((By.ID, 'zipOrCityState')))\n",
    "        edit.click()\n",
    "\n",
    "        # delete zipcode then send new zipcode (not sure why enter_zip.clear() did not work)\n",
    "        enter_zip = wait.until(EC.element_to_be_clickable((By.XPATH, '/html/body/div[9]/div/div/div/div/div[1]/div/div[3]/div[1]/div/input')))\n",
    "        enter_zip.send_keys('\\b\\b\\b\\b\\b')\n",
    "        enter_zip.send_keys(str(zipcode), \"\\n\")\n",
    "\n",
    "        # extract store location information\n",
    "        element = wait.until(EC.element_to_be_clickable((By.XPATH, '/html/body/div[9]/div/div/div/div/div[3]')))\n",
    "        target_info.append(element.text)\n",
    "\n",
    "    # close driver\n",
    "    target_driver.quit()\n",
    "\n",
    "    # get unique locations and corresponding zipcodes\n",
    "    unique_target_locs, target_idx = np.unique(target_info, return_index = True)\n",
    "    target_zipcodes = zipcodes[target_idx]\n",
    "    \n",
    "    # clean location information\n",
    "    for i, loc in enumerate(unique_target_locs):\n",
    "        unique_target_locs[i] = loc.split(\"\\n\")[1]\n",
    "    \n",
    "    #\n",
    "    return target_zipcodes, unique_target_locs\n",
    "\n",
    "def target_driver(target_zipcodes, target_foods, sleep_time = 2, driver_wait = 20, standard = True):\n",
    "    '''\n",
    "    Description:\n",
    "        Extract item information for specific stores for searched food items\n",
    "    \n",
    "    Inputs:\n",
    "        target_zipcodes: array of zipcodes to enter to identify closest stores\n",
    "        target_foods: array of food items to search for on website\n",
    "        sleep_time: integer, system sleep time between certain processes, default = 2\n",
    "        driver_wait: integer, wait time for driver - default = 20\n",
    "        standard: Boolean, True if using \"Universal\" basket of goods\n",
    "        \n",
    "    Outputs:\n",
    "        target_items_by_zip: 2D array of food items by store (contains other information)\n",
    "    '''\n",
    "    # start driver and visit Target side\n",
    "    target_driver = webdriver.Chrome(ChromeDriverManager().install())\n",
    "    target_driver.maximize_window()\n",
    "    target_driver.get(\"https://www.target.com/c/grocery/-/N-5xt1a\")\n",
    "\n",
    "    # loop over all unique Targets\n",
    "    target_items_by_zip = []\n",
    "    for k, zipcode in enumerate(target_zipcodes):\n",
    "        # click on option to select a store\n",
    "        wait = WebDriverWait(target_driver, driver_wait)\n",
    "        store = wait.until(EC.element_to_be_clickable((By.ID, 'storeId-utilityNavBtn')))\n",
    "        store.click()\n",
    "\n",
    "        # edit and then add zipcode\n",
    "        edit = wait.until(EC.element_to_be_clickable((By.ID, 'zipOrCityState')))\n",
    "        edit.click()\n",
    "\n",
    "        # erase old zipcode and send new one\n",
    "        enter_zip = wait.until(EC.element_to_be_clickable((By.XPATH, '/html/body/div[9]/div/div/div/div/div[1]/div/div[3]/div[1]/div/input')))\n",
    "        enter_zip.send_keys('\\b\\b\\b\\b\\b')\n",
    "        enter_zip.send_keys(str(zipcode), \"\\n\")\n",
    "\n",
    "        # select the top store\n",
    "        go_top_store = wait.until(EC.element_to_be_clickable((By.XPATH, '/html/body/div[9]/div/div/div/div/div[3]/div[2]/div[1]/button')))\n",
    "        go_top_store.click()\n",
    "\n",
    "        # loop over staples at store\n",
    "        targ_info = []\n",
    "        for food in target_foods:\n",
    "            # selects next closest beef option for this particular store\n",
    "            if (food == \"Ground Beef 1lb 80\") and (k == 4):\n",
    "                food = \"Ground Beef 1lb 73\"\n",
    "\n",
    "            # search for food item\n",
    "            target_driver.get(\"https://www.target.com/s?searchTerm={}\".format(food))\n",
    "            \n",
    "            # checks if search item is tomato sauce to sort by price\n",
    "            if (food == \"Tomato Sauce 8oz\"):\n",
    "                sort = wait.until(EC.element_to_be_clickable((By.XPATH, \"/html/body/div[1]/div/div[4]/div[4]/div[2]/div/div[2]/div[3]/div[1]/div[2]/div[2]/div/div[2]/button\")))\n",
    "                sort.click()\n",
    "                by_price = wait.until(EC.element_to_be_clickable((By.XPATH, \"//li[3]/a/div/div\")))\n",
    "                by_price.click()\n",
    "                time.sleep(sleep_time)\n",
    "            \n",
    "            # checks if search item is NOT plantains (these are in different section for some reason...)\n",
    "            if (food != \"Platano\") and (check_exists_by_xpath(target_driver, '//*[@id=\"mainContainer\"]/div[4]/div[2]/div/div[2]/div[3]/div/ul/li[1]/div/div[2]/div')):\n",
    "            # extract slightly cleaned pricing info\n",
    "#                 info = wait.until(EC.element_to_be_clickable((By.XPATH, '/html/body/div[1]/div/div[4]/div[4]/div[2]/div/div[2]/div[3]/div/ul/li[1]/div/div[2]/div/div/div')))\n",
    "                info = wait.until(EC.element_to_be_clickable((By.XPATH, '//*[@id=\"mainContainer\"]/div[4]/div[2]/div/div[2]/div[3]/div/ul/li[1]/div/div[2]/div')))\n",
    "#/html/body/div[1]/div/div[4]/div[4]/div[2]/div/div[2]/div[3]/div/ul/li[1]/div/div[2]/div/div/div\n",
    "            \n",
    "            # if food item is plantain - grab info from bottom of webpage\n",
    "            else:\n",
    "                info = wait.until(EC.element_to_be_clickable((By.XPATH, \"/html/body/div[1]/div/div[4]/div[4]/div[2]/div/div[1]/div[3]/div[2]/div/ul/li[1]/div/div[2]/div/div/div\")))\n",
    "                \n",
    "            #\n",
    "            cleaned_info = \"\".join(re.split('(.\\d\\d)', info.text)[:-1])\n",
    "            targ_info.append(cleaned_info)\n",
    "\n",
    "        # append list of items to list and close driver\n",
    "        target_items_by_zip.append(targ_info)\n",
    "    target_driver.quit()\n",
    "    \n",
    "    # convert from list to array\n",
    "    target_items_by_zip = np.array(target_items_by_zip)\n",
    "    return target_items_by_zip\n",
    "\n",
    "def target_price_item_other(target_items_by_zip):\n",
    "    '''\n",
    "    Description:\n",
    "        Extracts price, item info, and other information from the 2D array of information passed in\n",
    "    \n",
    "    Inputs:\n",
    "        target_items_by_zip: 2D array of food items by store (contains other information)\n",
    "    \n",
    "    Outputs:\n",
    "        prices_target: 2D array of prices for each item at each store\n",
    "        cleaned_items_target: 2D array of products at each store\n",
    "        other_info_target: 2D array of additional product information\n",
    "    '''\n",
    "    # clean strings and separate price, items, and other information\n",
    "    cleaned_target = np.array([np.array([target_items_by_zip[j][i] for i in range(len(target_items_by_zip[j]))]) for j in range(len(target_items_by_zip))])\n",
    "    cleaned_items_target = np.array([np.array([cleaned_target[j][i].split(\"\\n\")[0] for i in range(len(cleaned_target[j]))]) for j in range(len(cleaned_target))])\n",
    "    \n",
    "    # heinous\n",
    "#     prices_target = np.array([np.array([float(cleaned_target[j][i].split(\"\\n\")[-3].split(\" \")[0].replace(\"$\", \"\")) if cleaned_target[j][i].split(\"\\n\")[-1][:4] == \"Free\" else float(cleaned_target[j][i].split(\"\\n\")[-2].split(\" \")[0].replace(\"$\", \"\")) if cleaned_target[j][i].split(\"\\n\")[-1][:3] == \"Buy\" else float(cleaned_target[j][i].split(\"\\n\")[-2].split(\" \")[0].replace(\"$\", \"\")) if cleaned_target[j][i].split(\"\\n\")[-1][:3] == \"Get\" else float(cleaned_target[j][i].split(\"\\n\")[-1].split(\" \")[0].replace(\"$\", \"\")) for i in range(len(cleaned_target[j]))]) for j in range(len(cleaned_target))])\n",
    "    \n",
    "    prices_target = np.array([np.array([float(re.sub(\"[^0-9\\.]\", \"\", cleaned_target[j][i].split(\"\\n$\")[-1].split(\" \")[0])) for i in range(len(cleaned_target[j]))]) for j in range(len(cleaned_target))])\n",
    "    other_info_target = np.array([np.array([\"\" for i in range(len(cleaned_target[j]))]) for j in range(len(cleaned_target))])\n",
    "    return prices_target, cleaned_items_target, other_info_target\n",
    "\n",
    "def target(foods, zipcodes, standard = True, has_zipcodes = False, locs = []):\n",
    "    '''\n",
    "    Description:\n",
    "        Runs combination of functions to go from a list of zipcodes and food items to final dataframe for Target\n",
    "    \n",
    "    Inputs:\n",
    "        foods: array of food items\n",
    "        zipcodes: list of Arlington zipcodes\n",
    "        standard: Boolean, True if using \"Universal\" basket of goods\n",
    "    \n",
    "    Outputs:\n",
    "        df: dataframe with price, info, etc.\n",
    "    '''\n",
    "    # if shortened zipcodes list passed in\n",
    "    if has_zipcodes:\n",
    "        shortened_zipcodes = zipcodes\n",
    "        shortened_locations = locs\n",
    "    \n",
    "    # get shortened list of zipcodes if not provided\n",
    "    else:\n",
    "        shortened_zipcodes, shortened_locations = target_locations(zipcodes)\n",
    "    \n",
    "    items_by_zip = target_driver(shortened_zipcodes, target_foods = foods, standard = standard)\n",
    "    prices_target, cleaned_items_target, other_info_target = target_price_item_other(items_by_zip)\n",
    "    df = make_df(prices_target, cleaned_items_target, other_info_target, shortened_locations, \"Target\")\n",
    "    \n",
    "    # if we already have zipcodes and locations, return dataframe (else return all 3)\n",
    "    if has_zipcodes:\n",
    "        return df\n",
    "    \n",
    "    return df, shortened_zipcodes, shortened_locations\n"
   ]
  },
  {
   "cell_type": "code",
   "execution_count": 10,
   "metadata": {},
   "outputs": [
    {
     "name": "stderr",
     "output_type": "stream",
     "text": [
      "\n",
      "\n",
      "====== WebDriver manager ======\n",
      "Current google-chrome version is 98.0.4758\n",
      "Get LATEST driver version for 98.0.4758\n",
      "Driver [/Users/zacharyalerte/.wdm/drivers/chromedriver/mac64/98.0.4758.80/chromedriver] found in cache\n"
     ]
    }
   ],
   "source": [
    "target_zipcodes, unique_target_locs = target_locations(zipcodes)"
   ]
  },
  {
   "cell_type": "code",
   "execution_count": 30,
   "metadata": {},
   "outputs": [
    {
     "name": "stderr",
     "output_type": "stream",
     "text": [
      "\n",
      "\n",
      "====== WebDriver manager ======\n",
      "Current google-chrome version is 98.0.4758\n",
      "Get LATEST driver version for 98.0.4758\n",
      "Driver [/Users/zacharyalerte/.wdm/drivers/chromedriver/mac64/98.0.4758.80/chromedriver] found in cache\n"
     ]
    }
   ],
   "source": [
    "target_items_by_zip = target_driver(target_zipcodes, target_foods)"
   ]
  },
  {
   "cell_type": "code",
   "execution_count": 32,
   "metadata": {},
   "outputs": [],
   "source": [
    "prices_target, cleaned_items_target, other_info_target = target_price_item_other(target_items_by_zip)"
   ]
  },
  {
   "cell_type": "code",
   "execution_count": null,
   "metadata": {},
   "outputs": [],
   "source": []
  },
  {
   "cell_type": "code",
   "execution_count": 52,
   "metadata": {},
   "outputs": [
    {
     "name": "stderr",
     "output_type": "stream",
     "text": [
      "\n",
      "\n",
      "====== WebDriver manager ======\n",
      "Current google-chrome version is 98.0.4758\n",
      "Get LATEST driver version for 98.0.4758\n",
      "Driver [/Users/zacharyalerte/.wdm/drivers/chromedriver/mac64/98.0.4758.80/chromedriver] found in cache\n"
     ]
    },
    {
     "ename": "TimeoutException",
     "evalue": "Message: \n",
     "output_type": "error",
     "traceback": [
      "\u001b[0;31m-------------------------------------------------------------------\u001b[0m",
      "\u001b[0;31mTimeoutException\u001b[0m                  Traceback (most recent call last)",
      "\u001b[0;32m<ipython-input-52-4bf4d19bdb0c>\u001b[0m in \u001b[0;36m<module>\u001b[0;34m\u001b[0m\n\u001b[1;32m     22\u001b[0m                              \"Roma Tomatoes\"]\n\u001b[1;32m     23\u001b[0m \u001b[0;34m\u001b[0m\u001b[0m\n\u001b[0;32m---> 24\u001b[0;31m \u001b[0mtarget_hispanic_items_by_zip\u001b[0m \u001b[0;34m=\u001b[0m \u001b[0mtarget_driver\u001b[0m\u001b[0;34m(\u001b[0m\u001b[0mtarget_zipcodes\u001b[0m\u001b[0;34m,\u001b[0m \u001b[0mtarget_hispanic_foods_big\u001b[0m\u001b[0;34m,\u001b[0m \u001b[0mstandard\u001b[0m \u001b[0;34m=\u001b[0m \u001b[0;32mFalse\u001b[0m\u001b[0;34m)\u001b[0m\u001b[0;34m\u001b[0m\u001b[0;34m\u001b[0m\u001b[0m\n\u001b[0m",
      "\u001b[0;32m<ipython-input-51-061bae7c53cb>\u001b[0m in \u001b[0;36mtarget_driver\u001b[0;34m(target_zipcodes, target_foods, sleep_time, driver_wait, standard)\u001b[0m\n\u001b[1;32m    122\u001b[0m             \u001b[0;31m# if food item is plantain - grab info from bottom of webpage\u001b[0m\u001b[0;34m\u001b[0m\u001b[0;34m\u001b[0m\u001b[0;34m\u001b[0m\u001b[0m\n\u001b[1;32m    123\u001b[0m             \u001b[0;32melse\u001b[0m\u001b[0;34m:\u001b[0m\u001b[0;34m\u001b[0m\u001b[0;34m\u001b[0m\u001b[0m\n\u001b[0;32m--> 124\u001b[0;31m                 \u001b[0minfo\u001b[0m \u001b[0;34m=\u001b[0m \u001b[0mwait\u001b[0m\u001b[0;34m.\u001b[0m\u001b[0muntil\u001b[0m\u001b[0;34m(\u001b[0m\u001b[0mEC\u001b[0m\u001b[0;34m.\u001b[0m\u001b[0melement_to_be_clickable\u001b[0m\u001b[0;34m(\u001b[0m\u001b[0;34m(\u001b[0m\u001b[0mBy\u001b[0m\u001b[0;34m.\u001b[0m\u001b[0mXPATH\u001b[0m\u001b[0;34m,\u001b[0m \u001b[0;34m\"/html/body/div[1]/div/div[4]/div[4]/div[2]/div/div[1]/div[3]/div[2]/div/ul/li[1]/div/div[2]/div/div/div\"\u001b[0m\u001b[0;34m)\u001b[0m\u001b[0;34m)\u001b[0m\u001b[0;34m)\u001b[0m\u001b[0;34m\u001b[0m\u001b[0;34m\u001b[0m\u001b[0m\n\u001b[0m\u001b[1;32m    125\u001b[0m \u001b[0;34m\u001b[0m\u001b[0m\n\u001b[1;32m    126\u001b[0m             \u001b[0;31m#\u001b[0m\u001b[0;34m\u001b[0m\u001b[0;34m\u001b[0m\u001b[0;34m\u001b[0m\u001b[0m\n",
      "\u001b[0;32m~/opt/anaconda3/lib/python3.8/site-packages/selenium/webdriver/support/wait.py\u001b[0m in \u001b[0;36muntil\u001b[0;34m(self, method, message)\u001b[0m\n\u001b[1;32m     78\u001b[0m             \u001b[0;32mif\u001b[0m \u001b[0mtime\u001b[0m\u001b[0;34m.\u001b[0m\u001b[0mtime\u001b[0m\u001b[0;34m(\u001b[0m\u001b[0;34m)\u001b[0m \u001b[0;34m>\u001b[0m \u001b[0mend_time\u001b[0m\u001b[0;34m:\u001b[0m\u001b[0;34m\u001b[0m\u001b[0;34m\u001b[0m\u001b[0m\n\u001b[1;32m     79\u001b[0m                 \u001b[0;32mbreak\u001b[0m\u001b[0;34m\u001b[0m\u001b[0;34m\u001b[0m\u001b[0m\n\u001b[0;32m---> 80\u001b[0;31m         \u001b[0;32mraise\u001b[0m \u001b[0mTimeoutException\u001b[0m\u001b[0;34m(\u001b[0m\u001b[0mmessage\u001b[0m\u001b[0;34m,\u001b[0m \u001b[0mscreen\u001b[0m\u001b[0;34m,\u001b[0m \u001b[0mstacktrace\u001b[0m\u001b[0;34m)\u001b[0m\u001b[0;34m\u001b[0m\u001b[0;34m\u001b[0m\u001b[0m\n\u001b[0m\u001b[1;32m     81\u001b[0m \u001b[0;34m\u001b[0m\u001b[0m\n\u001b[1;32m     82\u001b[0m     \u001b[0;32mdef\u001b[0m \u001b[0muntil_not\u001b[0m\u001b[0;34m(\u001b[0m\u001b[0mself\u001b[0m\u001b[0;34m,\u001b[0m \u001b[0mmethod\u001b[0m\u001b[0;34m,\u001b[0m \u001b[0mmessage\u001b[0m\u001b[0;34m=\u001b[0m\u001b[0;34m''\u001b[0m\u001b[0;34m)\u001b[0m\u001b[0;34m:\u001b[0m\u001b[0;34m\u001b[0m\u001b[0;34m\u001b[0m\u001b[0m\n",
      "\u001b[0;31mTimeoutException\u001b[0m: Message: \n"
     ]
    }
   ],
   "source": [
    "# hispanic scraping\n",
    "\n",
    "target_hispanic_foods_big = [\"Avocado\",\n",
    "                             \"Beets\",\n",
    "                             \"Good and Gather Black Beans\",\n",
    "                             \"Mexican Cheese\",\n",
    "                             \"Corn Tortillas\",\n",
    "                             \"Crackers\",\n",
    "                             \"Green Chiles\",\n",
    "                             \"Jalapeno Peppers\",\n",
    "                             \"Garbanzo Beans\",\n",
    "                             \"Masa\",\n",
    "                             \"Fruit Cocktail Market\",\n",
    "                             \"Nopalitos\",\n",
    "                             \"Bell Peppers\",\n",
    "                             \"Pinto Beans\",\n",
    "                             \"White Rice 5\",\n",
    "                             \"Medium Salsa 24\",\n",
    "                             \"Squash\",\n",
    "                             \"Tomatillos\",\n",
    "                             \"Good and Gather Salsa Verde\",\n",
    "                             \"Roma Tomatoes\"]\n",
    "\n",
    "target_hispanic_items_by_zip = target_driver(target_zipcodes, target_hispanic_foods_big, standard = False)"
   ]
  },
  {
   "cell_type": "code",
   "execution_count": null,
   "metadata": {},
   "outputs": [],
   "source": [
    "# probably need to select in-store pickup??? really not clear here"
   ]
  },
  {
   "cell_type": "code",
   "execution_count": null,
   "metadata": {},
   "outputs": [],
   "source": []
  }
 ],
 "metadata": {
  "kernelspec": {
   "display_name": "Python 3",
   "language": "python",
   "name": "python3"
  },
  "language_info": {
   "codemirror_mode": {
    "name": "ipython",
    "version": 3
   },
   "file_extension": ".py",
   "mimetype": "text/x-python",
   "name": "python",
   "nbconvert_exporter": "python",
   "pygments_lexer": "ipython3",
   "version": "3.8.8"
  }
 },
 "nbformat": 4,
 "nbformat_minor": 2
}
