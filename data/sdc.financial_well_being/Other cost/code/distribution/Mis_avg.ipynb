{
 "cells": [
  {
   "cell_type": "code",
   "execution_count": 1,
   "id": "473552dd",
   "metadata": {},
   "outputs": [],
   "source": [
    "import pandas as pd\n",
    "import numpy as np\n",
    "import openpyxl"
   ]
  },
  {
   "cell_type": "markdown",
   "id": "ee0c975e",
   "metadata": {},
   "source": [
    "## Average of  misc costs "
   ]
  },
  {
   "cell_type": "code",
   "execution_count": 5,
   "id": "c5bd251a",
   "metadata": {},
   "outputs": [
    {
     "data": {
      "text/html": [
       "<div>\n",
       "<style scoped>\n",
       "    .dataframe tbody tr th:only-of-type {\n",
       "        vertical-align: middle;\n",
       "    }\n",
       "\n",
       "    .dataframe tbody tr th {\n",
       "        vertical-align: top;\n",
       "    }\n",
       "\n",
       "    .dataframe thead th {\n",
       "        text-align: right;\n",
       "    }\n",
       "</style>\n",
       "<table border=\"1\" class=\"dataframe\">\n",
       "  <thead>\n",
       "    <tr style=\"text-align: right;\">\n",
       "      <th></th>\n",
       "      <th>Family</th>\n",
       "      <th>Adult</th>\n",
       "      <th>Infant</th>\n",
       "      <th>Preschooler</th>\n",
       "      <th>Schoolager</th>\n",
       "      <th>Teenager</th>\n",
       "      <th>County</th>\n",
       "      <th>Miscellaneous costs</th>\n",
       "    </tr>\n",
       "  </thead>\n",
       "  <tbody>\n",
       "    <tr>\n",
       "      <th>0</th>\n",
       "      <td>a1i0p0s0t0</td>\n",
       "      <td>1</td>\n",
       "      <td>0</td>\n",
       "      <td>0.0</td>\n",
       "      <td>0.0</td>\n",
       "      <td>0.0</td>\n",
       "      <td>Accomack County</td>\n",
       "      <td>135.48</td>\n",
       "    </tr>\n",
       "    <tr>\n",
       "      <th>1</th>\n",
       "      <td>a1i1p0s0t0</td>\n",
       "      <td>1</td>\n",
       "      <td>1</td>\n",
       "      <td>0.0</td>\n",
       "      <td>0.0</td>\n",
       "      <td>0.0</td>\n",
       "      <td>Accomack County</td>\n",
       "      <td>271.87</td>\n",
       "    </tr>\n",
       "    <tr>\n",
       "      <th>2</th>\n",
       "      <td>a1i0p1s0t0</td>\n",
       "      <td>1</td>\n",
       "      <td>0</td>\n",
       "      <td>1.0</td>\n",
       "      <td>0.0</td>\n",
       "      <td>0.0</td>\n",
       "      <td>Accomack County</td>\n",
       "      <td>257.98</td>\n",
       "    </tr>\n",
       "    <tr>\n",
       "      <th>3</th>\n",
       "      <td>a1i0p0s1t0</td>\n",
       "      <td>1</td>\n",
       "      <td>0</td>\n",
       "      <td>0.0</td>\n",
       "      <td>1.0</td>\n",
       "      <td>0.0</td>\n",
       "      <td>Accomack County</td>\n",
       "      <td>248.52</td>\n",
       "    </tr>\n",
       "    <tr>\n",
       "      <th>4</th>\n",
       "      <td>a1i0p0s0t1</td>\n",
       "      <td>1</td>\n",
       "      <td>0</td>\n",
       "      <td>0.0</td>\n",
       "      <td>0.0</td>\n",
       "      <td>1.0</td>\n",
       "      <td>Accomack County</td>\n",
       "      <td>217.83</td>\n",
       "    </tr>\n",
       "  </tbody>\n",
       "</table>\n",
       "</div>"
      ],
      "text/plain": [
       "       Family  Adult  Infant  Preschooler  Schoolager  Teenager  \\\n",
       "0  a1i0p0s0t0      1       0          0.0         0.0       0.0   \n",
       "1  a1i1p0s0t0      1       1          0.0         0.0       0.0   \n",
       "2  a1i0p1s0t0      1       0          1.0         0.0       0.0   \n",
       "3  a1i0p0s1t0      1       0          0.0         1.0       0.0   \n",
       "4  a1i0p0s0t1      1       0          0.0         0.0       1.0   \n",
       "\n",
       "            County  Miscellaneous costs  \n",
       "0  Accomack County               135.48  \n",
       "1  Accomack County               271.87  \n",
       "2  Accomack County               257.98  \n",
       "3  Accomack County               248.52  \n",
       "4  Accomack County               217.83  "
      ]
     },
     "execution_count": 5,
     "metadata": {},
     "output_type": "execute_result"
    }
   ],
   "source": [
    "#Reading the excel file as dataframe and checking the first n rows\n",
    "df1=pd.read_excel(\"VA_Other.xlsx\")\n",
    "#df1.drop('Unnamed: 7', axis=1, inplace=True)\n",
    "df1.columns = ['Family','Adult','Infant','Preschooler','Schoolager','Teenager','County','Miscellaneous costs']\n",
    "for i in ['Adult','Infant','Preschooler','Schoolager','Teenager']:\n",
    "    df1[i]=df1[i].fillna(0)\n",
    "df1.head()"
   ]
  },
  {
   "cell_type": "code",
   "execution_count": 6,
   "id": "c4f7988e",
   "metadata": {},
   "outputs": [
    {
     "data": {
      "text/plain": [
       "Family                  object\n",
       "Adult                    int64\n",
       "Infant                   int64\n",
       "Preschooler            float64\n",
       "Schoolager             float64\n",
       "Teenager               float64\n",
       "County                  object\n",
       "Miscellaneous costs    float64\n",
       "dtype: object"
      ]
     },
     "execution_count": 6,
     "metadata": {},
     "output_type": "execute_result"
    }
   ],
   "source": [
    "#checking the datatypes of each column\n",
    "df1.dtypes"
   ]
  },
  {
   "cell_type": "code",
   "execution_count": 7,
   "id": "2d8a43f5",
   "metadata": {},
   "outputs": [
    {
     "data": {
      "text/plain": [
       "95627"
      ]
     },
     "execution_count": 7,
     "metadata": {},
     "output_type": "execute_result"
    }
   ],
   "source": [
    "#Getting the length of dataframe\n",
    "len(df1.Adult)"
   ]
  },
  {
   "cell_type": "code",
   "execution_count": 8,
   "id": "73a01a15",
   "metadata": {},
   "outputs": [
    {
     "data": {
      "text/html": [
       "<div>\n",
       "<style scoped>\n",
       "    .dataframe tbody tr th:only-of-type {\n",
       "        vertical-align: middle;\n",
       "    }\n",
       "\n",
       "    .dataframe tbody tr th {\n",
       "        vertical-align: top;\n",
       "    }\n",
       "\n",
       "    .dataframe thead th {\n",
       "        text-align: right;\n",
       "    }\n",
       "</style>\n",
       "<table border=\"1\" class=\"dataframe\">\n",
       "  <thead>\n",
       "    <tr style=\"text-align: right;\">\n",
       "      <th></th>\n",
       "      <th>Family</th>\n",
       "      <th>Adult</th>\n",
       "      <th>Infant</th>\n",
       "      <th>Preschooler</th>\n",
       "      <th>Schoolager</th>\n",
       "      <th>Teenager</th>\n",
       "      <th>County</th>\n",
       "      <th>Miscellaneous costs</th>\n",
       "      <th>Total_pop</th>\n",
       "    </tr>\n",
       "  </thead>\n",
       "  <tbody>\n",
       "    <tr>\n",
       "      <th>0</th>\n",
       "      <td>a1i0p0s0t0</td>\n",
       "      <td>1</td>\n",
       "      <td>0</td>\n",
       "      <td>0.0</td>\n",
       "      <td>0.0</td>\n",
       "      <td>0.0</td>\n",
       "      <td>Accomack County</td>\n",
       "      <td>135.48</td>\n",
       "      <td>1.0</td>\n",
       "    </tr>\n",
       "    <tr>\n",
       "      <th>1</th>\n",
       "      <td>a1i1p0s0t0</td>\n",
       "      <td>1</td>\n",
       "      <td>1</td>\n",
       "      <td>0.0</td>\n",
       "      <td>0.0</td>\n",
       "      <td>0.0</td>\n",
       "      <td>Accomack County</td>\n",
       "      <td>271.87</td>\n",
       "      <td>2.0</td>\n",
       "    </tr>\n",
       "    <tr>\n",
       "      <th>2</th>\n",
       "      <td>a1i0p1s0t0</td>\n",
       "      <td>1</td>\n",
       "      <td>0</td>\n",
       "      <td>1.0</td>\n",
       "      <td>0.0</td>\n",
       "      <td>0.0</td>\n",
       "      <td>Accomack County</td>\n",
       "      <td>257.98</td>\n",
       "      <td>2.0</td>\n",
       "    </tr>\n",
       "    <tr>\n",
       "      <th>3</th>\n",
       "      <td>a1i0p0s1t0</td>\n",
       "      <td>1</td>\n",
       "      <td>0</td>\n",
       "      <td>0.0</td>\n",
       "      <td>1.0</td>\n",
       "      <td>0.0</td>\n",
       "      <td>Accomack County</td>\n",
       "      <td>248.52</td>\n",
       "      <td>2.0</td>\n",
       "    </tr>\n",
       "    <tr>\n",
       "      <th>4</th>\n",
       "      <td>a1i0p0s0t1</td>\n",
       "      <td>1</td>\n",
       "      <td>0</td>\n",
       "      <td>0.0</td>\n",
       "      <td>0.0</td>\n",
       "      <td>1.0</td>\n",
       "      <td>Accomack County</td>\n",
       "      <td>217.83</td>\n",
       "      <td>2.0</td>\n",
       "    </tr>\n",
       "  </tbody>\n",
       "</table>\n",
       "</div>"
      ],
      "text/plain": [
       "       Family  Adult  Infant  Preschooler  Schoolager  Teenager  \\\n",
       "0  a1i0p0s0t0      1       0          0.0         0.0       0.0   \n",
       "1  a1i1p0s0t0      1       1          0.0         0.0       0.0   \n",
       "2  a1i0p1s0t0      1       0          1.0         0.0       0.0   \n",
       "3  a1i0p0s1t0      1       0          0.0         1.0       0.0   \n",
       "4  a1i0p0s0t1      1       0          0.0         0.0       1.0   \n",
       "\n",
       "            County  Miscellaneous costs  Total_pop  \n",
       "0  Accomack County               135.48        1.0  \n",
       "1  Accomack County               271.87        2.0  \n",
       "2  Accomack County               257.98        2.0  \n",
       "3  Accomack County               248.52        2.0  \n",
       "4  Accomack County               217.83        2.0  "
      ]
     },
     "execution_count": 8,
     "metadata": {},
     "output_type": "execute_result"
    }
   ],
   "source": [
    "#Finding the total count of a family by adding the members and storing it in Total_pop\n",
    "total_pop=(df1.Adult + df1.Infant + df1.Preschooler + df1.Schoolager + df1.Teenager)\n",
    "df1['Total_pop']=total_pop\n",
    "df1.head()"
   ]
  },
  {
   "cell_type": "code",
   "execution_count": 22,
   "id": "0937eb1b",
   "metadata": {},
   "outputs": [
    {
     "data": {
      "text/plain": [
       "False"
      ]
     },
     "execution_count": 22,
     "metadata": {},
     "output_type": "execute_result"
    }
   ],
   "source": [
    "list(total_pop)==list(total_pop).sort()"
   ]
  },
  {
   "cell_type": "code",
   "execution_count": 9,
   "id": "dc711b2c",
   "metadata": {},
   "outputs": [
    {
     "data": {
      "text/plain": [
       "133"
      ]
     },
     "execution_count": 9,
     "metadata": {},
     "output_type": "execute_result"
    }
   ],
   "source": [
    "county= df1['County'].unique()\n",
    "len(county)"
   ]
  },
  {
   "cell_type": "code",
   "execution_count": 10,
   "id": "dacb98c3",
   "metadata": {},
   "outputs": [
    {
     "data": {
      "text/plain": [
       "True"
      ]
     },
     "execution_count": 10,
     "metadata": {},
     "output_type": "execute_result"
    }
   ],
   "source": [
    "county_df1=df1.loc[df1['County']=='Accomack County']\n",
    "county_df=county_df1.sort_values(by='Total_pop')\n",
    "l1=list(county_df.Total_pop)\n",
    "l2=l1\n",
    "l1.sort()\n",
    "l2==l1"
   ]
  },
  {
   "cell_type": "code",
   "execution_count": 11,
   "id": "eb1bd530",
   "metadata": {},
   "outputs": [
    {
     "data": {
      "text/html": [
       "<div>\n",
       "<style scoped>\n",
       "    .dataframe tbody tr th:only-of-type {\n",
       "        vertical-align: middle;\n",
       "    }\n",
       "\n",
       "    .dataframe tbody tr th {\n",
       "        vertical-align: top;\n",
       "    }\n",
       "\n",
       "    .dataframe thead th {\n",
       "        text-align: right;\n",
       "    }\n",
       "</style>\n",
       "<table border=\"1\" class=\"dataframe\">\n",
       "  <thead>\n",
       "    <tr style=\"text-align: right;\">\n",
       "      <th></th>\n",
       "      <th>Miscellaneous costs</th>\n",
       "    </tr>\n",
       "    <tr>\n",
       "      <th>Total_pop</th>\n",
       "      <th></th>\n",
       "    </tr>\n",
       "  </thead>\n",
       "  <tbody>\n",
       "    <tr>\n",
       "      <th>1.0</th>\n",
       "      <td>135.480000</td>\n",
       "    </tr>\n",
       "    <tr>\n",
       "      <th>2.0</th>\n",
       "      <td>246.128000</td>\n",
       "    </tr>\n",
       "    <tr>\n",
       "      <th>3.0</th>\n",
       "      <td>304.865333</td>\n",
       "    </tr>\n",
       "    <tr>\n",
       "      <th>4.0</th>\n",
       "      <td>374.488286</td>\n",
       "    </tr>\n",
       "    <tr>\n",
       "      <th>5.0</th>\n",
       "      <td>435.145672</td>\n",
       "    </tr>\n",
       "    <tr>\n",
       "      <th>6.0</th>\n",
       "      <td>494.327632</td>\n",
       "    </tr>\n",
       "    <tr>\n",
       "      <th>7.0</th>\n",
       "      <td>546.655475</td>\n",
       "    </tr>\n",
       "  </tbody>\n",
       "</table>\n",
       "</div>"
      ],
      "text/plain": [
       "           Miscellaneous costs\n",
       "Total_pop                     \n",
       "1.0                 135.480000\n",
       "2.0                 246.128000\n",
       "3.0                 304.865333\n",
       "4.0                 374.488286\n",
       "5.0                 435.145672\n",
       "6.0                 494.327632\n",
       "7.0                 546.655475"
      ]
     },
     "execution_count": 11,
     "metadata": {},
     "output_type": "execute_result"
    }
   ],
   "source": [
    "df_tax=county_df.loc[:, 'Miscellaneous costs':]\n",
    "df_taxgrouped=df_tax.groupby(['Total_pop']).mean()\n",
    "df_taxgrouped.iloc[:7,:1]"
   ]
  },
  {
   "cell_type": "code",
   "execution_count": 13,
   "id": "19b612f5",
   "metadata": {},
   "outputs": [
    {
     "name": "stdout",
     "output_type": "stream",
     "text": [
      "133 7\n"
     ]
    }
   ],
   "source": [
    "total_cnt=[]\n",
    "for cnt in county:\n",
    "    county_df1=df1.loc[df1['County']==cnt]\n",
    "    county_df=county_df1.sort_values(by='Total_pop')\n",
    "    \n",
    "    df_tax=county_df.loc[:, 'Miscellaneous costs':]\n",
    "    df_taxgrouped=df_tax.groupby(['Total_pop']).mean()\n",
    "    total_cnt.append(list(df_taxgrouped.iloc[:7,:1]['Miscellaneous costs']))\n",
    "print(len(total_cnt), len(total_cnt[0]))"
   ]
  },
  {
   "cell_type": "code",
   "execution_count": 14,
   "id": "6019d044",
   "metadata": {},
   "outputs": [
    {
     "data": {
      "text/html": [
       "<div>\n",
       "<style scoped>\n",
       "    .dataframe tbody tr th:only-of-type {\n",
       "        vertical-align: middle;\n",
       "    }\n",
       "\n",
       "    .dataframe tbody tr th {\n",
       "        vertical-align: top;\n",
       "    }\n",
       "\n",
       "    .dataframe thead th {\n",
       "        text-align: right;\n",
       "    }\n",
       "</style>\n",
       "<table border=\"1\" class=\"dataframe\">\n",
       "  <thead>\n",
       "    <tr style=\"text-align: right;\">\n",
       "      <th></th>\n",
       "      <th>County</th>\n",
       "      <th>HH1</th>\n",
       "      <th>HH2</th>\n",
       "      <th>HH3</th>\n",
       "      <th>HH4</th>\n",
       "      <th>HH5</th>\n",
       "      <th>HH6</th>\n",
       "      <th>HH7</th>\n",
       "    </tr>\n",
       "  </thead>\n",
       "  <tbody>\n",
       "    <tr>\n",
       "      <th>0</th>\n",
       "      <td>Accomack County</td>\n",
       "      <td>135.48</td>\n",
       "      <td>246.13</td>\n",
       "      <td>304.87</td>\n",
       "      <td>374.49</td>\n",
       "      <td>435.15</td>\n",
       "      <td>494.33</td>\n",
       "      <td>546.66</td>\n",
       "    </tr>\n",
       "    <tr>\n",
       "      <th>1</th>\n",
       "      <td>Albemarle County</td>\n",
       "      <td>187.18</td>\n",
       "      <td>327.88</td>\n",
       "      <td>412.03</td>\n",
       "      <td>510.52</td>\n",
       "      <td>599.41</td>\n",
       "      <td>711.18</td>\n",
       "      <td>802.58</td>\n",
       "    </tr>\n",
       "    <tr>\n",
       "      <th>2</th>\n",
       "      <td>Alexandria city</td>\n",
       "      <td>244.34</td>\n",
       "      <td>430.25</td>\n",
       "      <td>557.71</td>\n",
       "      <td>715.65</td>\n",
       "      <td>859.15</td>\n",
       "      <td>1029.26</td>\n",
       "      <td>1174.37</td>\n",
       "    </tr>\n",
       "    <tr>\n",
       "      <th>3</th>\n",
       "      <td>Alleghany County</td>\n",
       "      <td>129.33</td>\n",
       "      <td>246.37</td>\n",
       "      <td>307.86</td>\n",
       "      <td>377.65</td>\n",
       "      <td>439.26</td>\n",
       "      <td>510.91</td>\n",
       "      <td>569.90</td>\n",
       "    </tr>\n",
       "    <tr>\n",
       "      <th>4</th>\n",
       "      <td>Amelia County</td>\n",
       "      <td>156.99</td>\n",
       "      <td>266.42</td>\n",
       "      <td>325.35</td>\n",
       "      <td>399.22</td>\n",
       "      <td>461.45</td>\n",
       "      <td>535.21</td>\n",
       "      <td>593.89</td>\n",
       "    </tr>\n",
       "    <tr>\n",
       "      <th>5</th>\n",
       "      <td>Amherst County</td>\n",
       "      <td>147.37</td>\n",
       "      <td>259.44</td>\n",
       "      <td>318.95</td>\n",
       "      <td>391.11</td>\n",
       "      <td>453.33</td>\n",
       "      <td>527.11</td>\n",
       "      <td>586.83</td>\n",
       "    </tr>\n",
       "    <tr>\n",
       "      <th>6</th>\n",
       "      <td>Appomattox County</td>\n",
       "      <td>135.35</td>\n",
       "      <td>244.72</td>\n",
       "      <td>301.75</td>\n",
       "      <td>370.91</td>\n",
       "      <td>430.03</td>\n",
       "      <td>498.77</td>\n",
       "      <td>554.34</td>\n",
       "    </tr>\n",
       "    <tr>\n",
       "      <th>7</th>\n",
       "      <td>Arlington County</td>\n",
       "      <td>263.67</td>\n",
       "      <td>462.94</td>\n",
       "      <td>602.45</td>\n",
       "      <td>774.86</td>\n",
       "      <td>931.50</td>\n",
       "      <td>1117.52</td>\n",
       "      <td>1275.85</td>\n",
       "    </tr>\n",
       "    <tr>\n",
       "      <th>8</th>\n",
       "      <td>Augusta County</td>\n",
       "      <td>147.41</td>\n",
       "      <td>274.95</td>\n",
       "      <td>346.38</td>\n",
       "      <td>433.33</td>\n",
       "      <td>508.44</td>\n",
       "      <td>590.83</td>\n",
       "      <td>660.15</td>\n",
       "    </tr>\n",
       "    <tr>\n",
       "      <th>9</th>\n",
       "      <td>Bath County</td>\n",
       "      <td>130.75</td>\n",
       "      <td>249.91</td>\n",
       "      <td>315.11</td>\n",
       "      <td>390.35</td>\n",
       "      <td>457.35</td>\n",
       "      <td>529.00</td>\n",
       "      <td>590.81</td>\n",
       "    </tr>\n",
       "  </tbody>\n",
       "</table>\n",
       "</div>"
      ],
      "text/plain": [
       "              County     HH1     HH2     HH3     HH4     HH5      HH6      HH7\n",
       "0    Accomack County  135.48  246.13  304.87  374.49  435.15   494.33   546.66\n",
       "1   Albemarle County  187.18  327.88  412.03  510.52  599.41   711.18   802.58\n",
       "2    Alexandria city  244.34  430.25  557.71  715.65  859.15  1029.26  1174.37\n",
       "3   Alleghany County  129.33  246.37  307.86  377.65  439.26   510.91   569.90\n",
       "4      Amelia County  156.99  266.42  325.35  399.22  461.45   535.21   593.89\n",
       "5     Amherst County  147.37  259.44  318.95  391.11  453.33   527.11   586.83\n",
       "6  Appomattox County  135.35  244.72  301.75  370.91  430.03   498.77   554.34\n",
       "7   Arlington County  263.67  462.94  602.45  774.86  931.50  1117.52  1275.85\n",
       "8     Augusta County  147.41  274.95  346.38  433.33  508.44   590.83   660.15\n",
       "9        Bath County  130.75  249.91  315.11  390.35  457.35   529.00   590.81"
      ]
     },
     "execution_count": 14,
     "metadata": {},
     "output_type": "execute_result"
    }
   ],
   "source": [
    "df_final=pd.DataFrame(total_cnt, columns=['HH1','HH2','HH3','HH4','HH5','HH6','HH7'])\n",
    "df_final=df_final.round(2)\n",
    "df_final.insert(0,'County',county)\n",
    "df_final.head(10)"
   ]
  }
 ],
 "metadata": {
  "kernelspec": {
   "display_name": "Python 3 (ipykernel)",
   "language": "python",
   "name": "python3"
  },
  "language_info": {
   "codemirror_mode": {
    "name": "ipython",
    "version": 3
   },
   "file_extension": ".py",
   "mimetype": "text/x-python",
   "name": "python",
   "nbconvert_exporter": "python",
   "pygments_lexer": "ipython3",
   "version": "3.9.7"
  }
 },
 "nbformat": 4,
 "nbformat_minor": 5
}
