{
 "cells": [
  {
   "cell_type": "code",
   "execution_count": 1,
   "metadata": {},
   "outputs": [],
   "source": [
    "import pandas as pd\n",
    "import requests\n",
    "\n",
    "from dotenv import load_dotenv\n",
    "import os"
   ]
  },
  {
   "cell_type": "code",
   "execution_count": 2,
   "metadata": {},
   "outputs": [],
   "source": [
    "load_dotenv()\n",
    "my_token = os.environ['api_token']"
   ]
  },
  {
   "cell_type": "code",
   "execution_count": 3,
   "metadata": {},
   "outputs": [],
   "source": [
    "# return a Pandas Dataframe of HUD USPS Crosswalk values - https://www.huduser.gov/portal/dataset/uspszip-api.html\n",
    "\n",
    "# Note: type is set to 1 which will return values for the ZIP to Tract file \n",
    "# query is set to \"All\" which will return Zip Codes in Virginia\n",
    "\n",
    "url = \"https://www.huduser.gov/hudapi/public/usps?type=1&query=All&year=2021&quarter=4\"\n",
    "token = my_token\n",
    "headers = {\"Authorization\": \"Bearer {0}\".format(token)}\n",
    "\n",
    "response = requests.get(url, headers = headers)\n",
    "\n",
    "if response.status_code != 200:\n",
    "    print (\"Failure, see status code: {0}\".format(response.status_code))\n",
    "else: \n",
    "    df = pd.DataFrame(response.json()[\"data\"][\"results\"])\n"
   ]
  },
  {
   "cell_type": "code",
   "execution_count": 5,
   "metadata": {},
   "outputs": [],
   "source": [
    "#response.json()[\"data\"]"
   ]
  },
  {
   "cell_type": "code",
   "execution_count": 6,
   "metadata": {},
   "outputs": [],
   "source": [
    "# write out df\n",
    "\n",
    "df.to_csv(\"../../data/original/ZIP_TRACT_122021.csv\", index=False)"
   ]
  },
  {
   "cell_type": "code",
   "execution_count": null,
   "metadata": {},
   "outputs": [],
   "source": []
  }
 ],
 "metadata": {
  "kernelspec": {
   "display_name": "Python 3.8",
   "language": "python",
   "name": "python-3.8"
  },
  "language_info": {
   "codemirror_mode": {
    "name": "ipython",
    "version": 3
   },
   "file_extension": ".py",
   "mimetype": "text/x-python",
   "name": "python",
   "nbconvert_exporter": "python",
   "pygments_lexer": "ipython3",
   "version": "3.8.8"
  }
 },
 "nbformat": 4,
 "nbformat_minor": 4
}
